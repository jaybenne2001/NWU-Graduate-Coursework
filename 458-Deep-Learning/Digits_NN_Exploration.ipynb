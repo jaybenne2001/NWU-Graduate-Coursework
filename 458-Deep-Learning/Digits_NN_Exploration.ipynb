{
 "cells": [
  {
   "cell_type": "markdown",
   "metadata": {},
   "source": [
    "Michael Haugan <br>\n",
    "MSDS 458 - Spring 2019 <br>\n",
    "Assignment 1 <br>"
   ]
  },
  {
   "cell_type": "markdown",
   "metadata": {},
   "source": [
    "# overview\n",
    "\n",
    "Think of the first assignment as serving multiple purposes: (1) exploring neural nets/seeing how they work on a very simple problem, (2) examining alternative neural net structures with a simple, single-hidden layer network, and (3) learning how to fit a neural network directly in Python (or Scikit Learn, TensorFlow, or Keras). This first assignment gives you a choice as to which of these objectives to emphasize.\n",
    "\n",
    "Bottom line. You may choose the vision data set that you will be looking at, assuming that it is a simple alphabetic or numeric data classification problem. And you may choose the Python coding framework that you use to build the neural net. The neural network should be a fully connected (dense) neural network with a single hidden layer.\n",
    "\n",
    "This first assignment deals with neural networks for classification of images. The structure of the network should be simple, with only one internal/hidden layer. The intent of the assignment is to give you hands-on, practical experience with not only designing, training, and assessing a neural network, and interpreting the impact of hyperparameters, but to go one step further. \n",
    "\n",
    "Regarding exploration, the goal is to understand how the neurons/nodes in a simple single-hidden layer network have learned to represent features within the input data. \n",
    "\n",
    "The most important thing is not just to give a summary of classification rates/errors. I trust that you can get a working classifier, or can train a network to do any useful task. \n",
    "\n",
    "The important things are to identify - for each different class of input data - what it is that the hidden nodes are responding to. "
   ]
  },
  {
   "cell_type": "markdown",
   "metadata": {},
   "source": [
    "# setup"
   ]
  },
  {
   "cell_type": "code",
   "execution_count": 199,
   "metadata": {},
   "outputs": [],
   "source": [
    "# import packages and set parameters\n",
    "SET_FIT_INTERCEPT = True\n",
    "import numpy as np\n",
    "from scipy.stats import kurtosis\n",
    "from scipy.stats import skew\n",
    "import pandas as pd\n",
    "%matplotlib inline\n",
    "import matplotlib as mpl\n",
    "import matplotlib.pyplot as plt\n",
    "import seaborn as sns\n",
    "import sklearn.linear_model \n",
    "from time import time\n",
    "from sklearn.model_selection import train_test_split\n",
    "from sklearn.linear_model import LinearRegression, Ridge, Lasso, ElasticNet\n",
    "from sklearn.metrics import mean_squared_error, r2_score, make_scorer  \n",
    "from sklearn.model_selection import cross_val_score\n",
    "from sklearn.model_selection import cross_val_predict\n",
    "from sklearn.model_selection import GridSearchCV\n",
    "from sklearn.decomposition import PCA\n",
    "import tensorflow as tf\n",
    "from keras import models\n",
    "from keras import layers\n",
    "from math import sqrt  # for root mean-squared error calculation\n",
    "\n",
    "#suppress tf.logging\n",
    "import logging\n",
    "logging.getLogger('tensorflow').disabled = True\n",
    "\n",
    "# suppress warning messages\n",
    "def warn(*args, **kwargs):\n",
    "    pass\n",
    "import warnings\n",
    "warnings.warn = warn\n",
    "import warnings\n",
    "warnings.filterwarnings('ignore')"
   ]
  },
  {
   "cell_type": "markdown",
   "metadata": {},
   "source": [
    "# data preprocessing\n",
    "\n",
    "I am using the pre-loaded digits dataset within the sklearn toolbox. This dataset consists of 1797 observations where each observation is an 8x8 image of a digit. The pixel range in values from 0 to 64."
   ]
  },
  {
   "cell_type": "code",
   "execution_count": 200,
   "metadata": {},
   "outputs": [],
   "source": [
    "from sklearn import datasets\n",
    "digits = datasets.load_digits()"
   ]
  },
  {
   "cell_type": "code",
   "execution_count": 201,
   "metadata": {},
   "outputs": [
    {
     "data": {
      "text/plain": [
       "<Figure size 432x288 with 0 Axes>"
      ]
     },
     "metadata": {},
     "output_type": "display_data"
    },
    {
     "data": {
      "image/png": "[encoded data removed]",
      "text/plain": [
       "<Figure size 288x288 with 1 Axes>"
      ]
     },
     "metadata": {
      "needs_background": "light"
     },
     "output_type": "display_data"
    }
   ],
   "source": [
    "# Visualize the first observation's feature values as an image\n",
    "plt.gray() \n",
    "plt.matshow(digits.images[3]) \n",
    "plt.show()"
   ]
  },
  {
   "cell_type": "code",
   "execution_count": 202,
   "metadata": {},
   "outputs": [
    {
     "data": {
      "text/plain": [
       "array([[ 0.,  0.,  7., 15., 13.,  1.,  0.,  0.],\n",
       "       [ 0.,  8., 13.,  6., 15.,  4.,  0.,  0.],\n",
       "       [ 0.,  2.,  1., 13., 13.,  0.,  0.,  0.],\n",
       "       [ 0.,  0.,  2., 15., 11.,  1.,  0.,  0.],\n",
       "       [ 0.,  0.,  0.,  1., 12., 12.,  1.,  0.],\n",
       "       [ 0.,  0.,  0.,  0.,  1., 10.,  8.,  0.],\n",
       "       [ 0.,  0.,  8.,  4.,  5., 14.,  9.,  0.],\n",
       "       [ 0.,  0.,  7., 13., 13.,  9.,  0.,  0.]])"
      ]
     },
     "execution_count": 202,
     "metadata": {},
     "output_type": "execute_result"
    }
   ],
   "source": [
    "digits.images[3]"
   ]
  },
  {
   "cell_type": "code",
   "execution_count": 203,
   "metadata": {},
   "outputs": [],
   "source": [
    "# create feature and target arrays\n",
    "X = digits.data\n",
    "y = digits.target"
   ]
  },
  {
   "cell_type": "code",
   "execution_count": 204,
   "metadata": {},
   "outputs": [],
   "source": [
    "#split data\n",
    "X_train, X_test, y_train, y_test = train_test_split(X, y, test_size = 0.3, random_state=23)"
   ]
  },
  {
   "cell_type": "code",
   "execution_count": 205,
   "metadata": {},
   "outputs": [
    {
     "name": "stdout",
     "output_type": "stream",
     "text": [
      "(1257, 64)\n",
      "(540, 64)\n"
     ]
    }
   ],
   "source": [
    "print(X_train.shape)\n",
    "print(X_test.shape)"
   ]
  },
  {
   "cell_type": "code",
   "execution_count": 206,
   "metadata": {},
   "outputs": [],
   "source": [
    "# scale training data\n",
    "X_train_scaled = X_train.reshape(-1, 8*8) / 16.0"
   ]
  },
  {
   "cell_type": "code",
   "execution_count": 207,
   "metadata": {},
   "outputs": [],
   "source": [
    "# scale test data\n",
    "X_test_scaled = X_test.reshape(-1, 8*8) / 16.0"
   ]
  },
  {
   "cell_type": "code",
   "execution_count": 208,
   "metadata": {},
   "outputs": [
    {
     "name": "stdout",
     "output_type": "stream",
     "text": [
      "0.0\n",
      "1.0\n"
     ]
    }
   ],
   "source": [
    "# ensure values are between 0 and 1 after scaling\n",
    "print(np.amin(X_arr))\n",
    "print(np.amax(X_arr))"
   ]
  },
  {
   "cell_type": "code",
   "execution_count": 209,
   "metadata": {},
   "outputs": [],
   "source": [
    "# categorically encode the labels using built in encoder\n",
    "from keras.utils import to_categorical\n",
    "\n",
    "y_train_encode = to_categorical(y_train)\n",
    "y_test_encode = to_categorical(y_test)"
   ]
  },
  {
   "cell_type": "code",
   "execution_count": 280,
   "metadata": {},
   "outputs": [
    {
     "data": {
      "image/png": "[encoded data removed]",
      "text/plain": [
       "<Figure size 432x288 with 2 Axes>"
      ]
     },
     "metadata": {
      "needs_background": "light"
     },
     "output_type": "display_data"
    }
   ],
   "source": [
    "# view pixel intensity for one image\n",
    "_, (ax1, ax2) = plt.subplots(1,2)\n",
    "ax1.imshow(X_train[0].reshape(8,8), cmap=plt.cm.Greys);\n",
    "ax2.hist(X_train[0].reshape(64));"
   ]
  },
  {
   "cell_type": "markdown",
   "metadata": {},
   "source": [
    "# building network 1 - 1 neuron in hidden layer, Test Acc = 0.2130, CPU Time = 5.21s"
   ]
  },
  {
   "cell_type": "code",
   "execution_count": 365,
   "metadata": {},
   "outputs": [],
   "source": [
    "def base_model():\n",
    "    network = models.Sequential()\n",
    "    network.add(layers.Dense(1, activation='relu', input_shape=(8*8,)))\n",
    "    network.add(layers.Dense(10, activation='softmax'))\n",
    "    network.compile(optimizer='adam', loss='categorical_crossentropy', metrics=['accuracy'])\n",
    "    return network"
   ]
  },
  {
   "cell_type": "code",
   "execution_count": 366,
   "metadata": {},
   "outputs": [],
   "source": [
    "# initialize nn\n",
    "network1 = base_model()"
   ]
  },
  {
   "cell_type": "code",
   "execution_count": 367,
   "metadata": {},
   "outputs": [
    {
     "name": "stdout",
     "output_type": "stream",
     "text": [
      "Train on 1257 samples, validate on 540 samples\n",
      "Epoch 1/100\n",
      " - 1s - loss: 2.3114 - acc: 0.0557 - val_loss: 2.3015 - val_acc: 0.0667\n",
      "Epoch 2/100\n",
      " - 0s - loss: 2.3015 - acc: 0.0963 - val_loss: 2.2971 - val_acc: 0.1204\n",
      "Epoch 3/100\n",
      " - 0s - loss: 2.2961 - acc: 0.1623 - val_loss: 2.2943 - val_acc: 0.1741\n",
      "Epoch 4/100\n",
      " - 0s - loss: 2.2929 - acc: 0.1870 - val_loss: 2.2918 - val_acc: 0.1778\n",
      "Epoch 5/100\n",
      " - 0s - loss: 2.2899 - acc: 0.1854 - val_loss: 2.2886 - val_acc: 0.1796\n",
      "Epoch 6/100\n",
      " - 0s - loss: 2.2865 - acc: 0.1862 - val_loss: 2.2849 - val_acc: 0.1815\n",
      "Epoch 7/100\n",
      " - 0s - loss: 2.2827 - acc: 0.1885 - val_loss: 2.2808 - val_acc: 0.1778\n",
      "Epoch 8/100\n",
      " - 0s - loss: 2.2786 - acc: 0.1901 - val_loss: 2.2766 - val_acc: 0.1833\n",
      "Epoch 9/100\n",
      " - 0s - loss: 2.2743 - acc: 0.1933 - val_loss: 2.2720 - val_acc: 0.1815\n",
      "Epoch 10/100\n",
      " - 0s - loss: 2.2698 - acc: 0.1981 - val_loss: 2.2668 - val_acc: 0.1852\n",
      "Epoch 11/100\n",
      " - 0s - loss: 2.2646 - acc: 0.2021 - val_loss: 2.2614 - val_acc: 0.1870\n",
      "Epoch 12/100\n",
      " - 0s - loss: 2.2591 - acc: 0.2053 - val_loss: 2.2557 - val_acc: 0.1889\n",
      "Epoch 13/100\n",
      " - 0s - loss: 2.2534 - acc: 0.2029 - val_loss: 2.2500 - val_acc: 0.1889\n",
      "Epoch 14/100\n",
      " - 0s - loss: 2.2475 - acc: 0.2053 - val_loss: 2.2438 - val_acc: 0.1944\n",
      "Epoch 15/100\n",
      " - 0s - loss: 2.2415 - acc: 0.2060 - val_loss: 2.2372 - val_acc: 0.1944\n",
      "Epoch 16/100\n",
      " - 0s - loss: 2.2354 - acc: 0.2068 - val_loss: 2.2306 - val_acc: 0.1944\n",
      "Epoch 17/100\n",
      " - 0s - loss: 2.2288 - acc: 0.2076 - val_loss: 2.2240 - val_acc: 0.1926\n",
      "Epoch 18/100\n",
      " - 0s - loss: 2.2223 - acc: 0.2092 - val_loss: 2.2171 - val_acc: 0.1944\n",
      "Epoch 19/100\n",
      " - 0s - loss: 2.2158 - acc: 0.2084 - val_loss: 2.2102 - val_acc: 0.1944\n",
      "Epoch 20/100\n",
      " - 0s - loss: 2.2092 - acc: 0.2100 - val_loss: 2.2033 - val_acc: 0.1944\n",
      "Epoch 21/100\n",
      " - 0s - loss: 2.2024 - acc: 0.2100 - val_loss: 2.1968 - val_acc: 0.1944\n",
      "Epoch 22/100\n",
      " - 0s - loss: 2.1959 - acc: 0.2100 - val_loss: 2.1896 - val_acc: 0.1963\n",
      "Epoch 23/100\n",
      " - 0s - loss: 2.1891 - acc: 0.2108 - val_loss: 2.1825 - val_acc: 0.1963\n",
      "Epoch 24/100\n",
      " - 0s - loss: 2.1823 - acc: 0.2132 - val_loss: 2.1757 - val_acc: 0.1981\n",
      "Epoch 25/100\n",
      " - 0s - loss: 2.1760 - acc: 0.2140 - val_loss: 2.1686 - val_acc: 0.1981\n",
      "Epoch 26/100\n",
      " - 0s - loss: 2.1693 - acc: 0.2140 - val_loss: 2.1618 - val_acc: 0.1981\n",
      "Epoch 27/100\n",
      " - 0s - loss: 2.1628 - acc: 0.2140 - val_loss: 2.1554 - val_acc: 0.1981\n",
      "Epoch 28/100\n",
      " - 0s - loss: 2.1564 - acc: 0.2148 - val_loss: 2.1487 - val_acc: 0.2000\n",
      "Epoch 29/100\n",
      " - 0s - loss: 2.1503 - acc: 0.2148 - val_loss: 2.1420 - val_acc: 0.2000\n",
      "Epoch 30/100\n",
      " - 0s - loss: 2.1440 - acc: 0.2172 - val_loss: 2.1355 - val_acc: 0.1981\n",
      "Epoch 31/100\n",
      " - 0s - loss: 2.1379 - acc: 0.2172 - val_loss: 2.1293 - val_acc: 0.2000\n",
      "Epoch 32/100\n",
      " - 0s - loss: 2.1320 - acc: 0.2180 - val_loss: 2.1230 - val_acc: 0.2019\n",
      "Epoch 33/100\n",
      " - 0s - loss: 2.1261 - acc: 0.2180 - val_loss: 2.1170 - val_acc: 0.1981\n",
      "Epoch 34/100\n",
      " - 0s - loss: 2.1202 - acc: 0.2172 - val_loss: 2.1110 - val_acc: 0.2000\n",
      "Epoch 35/100\n",
      " - 0s - loss: 2.1144 - acc: 0.2180 - val_loss: 2.1048 - val_acc: 0.1963\n",
      "Epoch 36/100\n",
      " - 0s - loss: 2.1088 - acc: 0.2196 - val_loss: 2.0989 - val_acc: 0.1981\n",
      "Epoch 37/100\n",
      " - 0s - loss: 2.1031 - acc: 0.2204 - val_loss: 2.0933 - val_acc: 0.1981\n",
      "Epoch 38/100\n",
      " - 0s - loss: 2.0976 - acc: 0.2196 - val_loss: 2.0876 - val_acc: 0.1981\n",
      "Epoch 39/100\n",
      " - 0s - loss: 2.0921 - acc: 0.2228 - val_loss: 2.0822 - val_acc: 0.1981\n",
      "Epoch 40/100\n",
      " - 0s - loss: 2.0866 - acc: 0.2228 - val_loss: 2.0764 - val_acc: 0.1944\n",
      "Epoch 41/100\n",
      " - 0s - loss: 2.0813 - acc: 0.2235 - val_loss: 2.0710 - val_acc: 0.1963\n",
      "Epoch 42/100\n",
      " - 0s - loss: 2.0761 - acc: 0.2251 - val_loss: 2.0660 - val_acc: 0.1944\n",
      "Epoch 43/100\n",
      " - 0s - loss: 2.0709 - acc: 0.2212 - val_loss: 2.0602 - val_acc: 0.1963\n",
      "Epoch 44/100\n",
      " - 0s - loss: 2.0656 - acc: 0.2188 - val_loss: 2.0552 - val_acc: 0.1944\n",
      "Epoch 45/100\n",
      " - 0s - loss: 2.0604 - acc: 0.2196 - val_loss: 2.0501 - val_acc: 0.1944\n",
      "Epoch 46/100\n",
      " - 0s - loss: 2.0553 - acc: 0.2180 - val_loss: 2.0449 - val_acc: 0.1963\n",
      "Epoch 47/100\n",
      " - 0s - loss: 2.0503 - acc: 0.2180 - val_loss: 2.0400 - val_acc: 0.1963\n",
      "Epoch 48/100\n",
      " - 0s - loss: 2.0453 - acc: 0.2172 - val_loss: 2.0349 - val_acc: 0.1926\n",
      "Epoch 49/100\n",
      " - 0s - loss: 2.0403 - acc: 0.2140 - val_loss: 2.0298 - val_acc: 0.1944\n",
      "Epoch 50/100\n",
      " - 0s - loss: 2.0353 - acc: 0.2156 - val_loss: 2.0253 - val_acc: 0.1944\n",
      "Epoch 51/100\n",
      " - 0s - loss: 2.0305 - acc: 0.2164 - val_loss: 2.0204 - val_acc: 0.1944\n",
      "Epoch 52/100\n",
      " - 0s - loss: 2.0257 - acc: 0.2156 - val_loss: 2.0155 - val_acc: 0.1963\n",
      "Epoch 53/100\n",
      " - 0s - loss: 2.0208 - acc: 0.2164 - val_loss: 2.0105 - val_acc: 0.1963\n",
      "Epoch 54/100\n",
      " - 0s - loss: 2.0161 - acc: 0.2148 - val_loss: 2.0059 - val_acc: 0.2000\n",
      "Epoch 55/100\n",
      " - 0s - loss: 2.0115 - acc: 0.2156 - val_loss: 2.0011 - val_acc: 0.2000\n",
      "Epoch 56/100\n",
      " - 0s - loss: 2.0067 - acc: 0.2156 - val_loss: 1.9972 - val_acc: 0.2000\n",
      "Epoch 57/100\n",
      " - 0s - loss: 2.0021 - acc: 0.2148 - val_loss: 1.9924 - val_acc: 0.2000\n",
      "Epoch 58/100\n",
      " - 0s - loss: 1.9975 - acc: 0.2180 - val_loss: 1.9877 - val_acc: 0.2019\n",
      "Epoch 59/100\n",
      " - 0s - loss: 1.9932 - acc: 0.2188 - val_loss: 1.9833 - val_acc: 0.2019\n",
      "Epoch 60/100\n",
      " - 0s - loss: 1.9885 - acc: 0.2180 - val_loss: 1.9791 - val_acc: 0.2056\n",
      "Epoch 61/100\n",
      " - 0s - loss: 1.9840 - acc: 0.2180 - val_loss: 1.9751 - val_acc: 0.2056\n",
      "Epoch 62/100\n",
      " - 0s - loss: 1.9797 - acc: 0.2180 - val_loss: 1.9707 - val_acc: 0.2056\n",
      "Epoch 63/100\n",
      " - 0s - loss: 1.9755 - acc: 0.2220 - val_loss: 1.9659 - val_acc: 0.2037\n",
      "Epoch 64/100\n",
      " - 0s - loss: 1.9710 - acc: 0.2220 - val_loss: 1.9624 - val_acc: 0.2074\n",
      "Epoch 65/100\n",
      " - 0s - loss: 1.9667 - acc: 0.2220 - val_loss: 1.9586 - val_acc: 0.2074\n",
      "Epoch 66/100\n",
      " - 0s - loss: 1.9624 - acc: 0.2228 - val_loss: 1.9546 - val_acc: 0.2074\n",
      "Epoch 67/100\n",
      " - 0s - loss: 1.9582 - acc: 0.2235 - val_loss: 1.9502 - val_acc: 0.2056\n",
      "Epoch 68/100\n",
      " - 0s - loss: 1.9542 - acc: 0.2243 - val_loss: 1.9467 - val_acc: 0.2037\n",
      "Epoch 69/100\n",
      " - 0s - loss: 1.9500 - acc: 0.2235 - val_loss: 1.9428 - val_acc: 0.2037\n",
      "Epoch 70/100\n",
      " - 0s - loss: 1.9459 - acc: 0.2235 - val_loss: 1.9385 - val_acc: 0.2056\n",
      "Epoch 71/100\n",
      " - 0s - loss: 1.9419 - acc: 0.2243 - val_loss: 1.9351 - val_acc: 0.2056\n",
      "Epoch 72/100\n",
      " - 0s - loss: 1.9379 - acc: 0.2235 - val_loss: 1.9311 - val_acc: 0.2019\n",
      "Epoch 73/100\n",
      " - 0s - loss: 1.9338 - acc: 0.2235 - val_loss: 1.9280 - val_acc: 0.2019\n",
      "Epoch 74/100\n",
      " - 0s - loss: 1.9300 - acc: 0.2235 - val_loss: 1.9246 - val_acc: 0.2019\n",
      "Epoch 75/100\n",
      " - 0s - loss: 1.9261 - acc: 0.2243 - val_loss: 1.9210 - val_acc: 0.2019\n",
      "Epoch 76/100\n",
      " - 0s - loss: 1.9226 - acc: 0.2243 - val_loss: 1.9170 - val_acc: 0.2037\n",
      "Epoch 77/100\n",
      " - 0s - loss: 1.9187 - acc: 0.2235 - val_loss: 1.9143 - val_acc: 0.2019\n",
      "Epoch 78/100\n",
      " - 0s - loss: 1.9149 - acc: 0.2251 - val_loss: 1.9108 - val_acc: 0.2019\n",
      "Epoch 79/100\n",
      " - 0s - loss: 1.9113 - acc: 0.2251 - val_loss: 1.9077 - val_acc: 0.2037\n",
      "Epoch 80/100\n",
      " - 0s - loss: 1.9078 - acc: 0.2267 - val_loss: 1.9041 - val_acc: 0.2056\n",
      "Epoch 81/100\n",
      " - 0s - loss: 1.9042 - acc: 0.2275 - val_loss: 1.9012 - val_acc: 0.2056\n",
      "Epoch 82/100\n",
      " - 0s - loss: 1.9008 - acc: 0.2275 - val_loss: 1.8982 - val_acc: 0.2056\n",
      "Epoch 83/100\n",
      " - 0s - loss: 1.8974 - acc: 0.2275 - val_loss: 1.8952 - val_acc: 0.2074\n",
      "Epoch 84/100\n",
      " - 0s - loss: 1.8940 - acc: 0.2283 - val_loss: 1.8921 - val_acc: 0.2074\n",
      "Epoch 85/100\n",
      " - 0s - loss: 1.8908 - acc: 0.2291 - val_loss: 1.8890 - val_acc: 0.2093\n",
      "Epoch 86/100\n",
      " - 0s - loss: 1.8876 - acc: 0.2299 - val_loss: 1.8858 - val_acc: 0.2093\n",
      "Epoch 87/100\n",
      " - 0s - loss: 1.8842 - acc: 0.2315 - val_loss: 1.8835 - val_acc: 0.2111\n",
      "Epoch 88/100\n",
      " - 0s - loss: 1.8811 - acc: 0.2315 - val_loss: 1.8803 - val_acc: 0.2130\n",
      "Epoch 89/100\n",
      " - 0s - loss: 1.8780 - acc: 0.2307 - val_loss: 1.8778 - val_acc: 0.2130\n",
      "Epoch 90/100\n",
      " - 0s - loss: 1.8750 - acc: 0.2315 - val_loss: 1.8745 - val_acc: 0.2130\n",
      "Epoch 91/100\n",
      " - 0s - loss: 1.8719 - acc: 0.2315 - val_loss: 1.8721 - val_acc: 0.2111\n",
      "Epoch 92/100\n",
      " - 0s - loss: 1.8689 - acc: 0.2323 - val_loss: 1.8695 - val_acc: 0.2111\n",
      "Epoch 93/100\n",
      " - 0s - loss: 1.8660 - acc: 0.2315 - val_loss: 1.8667 - val_acc: 0.2111\n",
      "Epoch 94/100\n",
      " - 0s - loss: 1.8630 - acc: 0.2315 - val_loss: 1.8641 - val_acc: 0.2111\n",
      "Epoch 95/100\n",
      " - 0s - loss: 1.8602 - acc: 0.2339 - val_loss: 1.8615 - val_acc: 0.2111\n",
      "Epoch 96/100\n",
      " - 0s - loss: 1.8574 - acc: 0.2347 - val_loss: 1.8592 - val_acc: 0.2130\n"
     ]
    },
    {
     "name": "stdout",
     "output_type": "stream",
     "text": [
      "Epoch 97/100\n",
      " - 0s - loss: 1.8546 - acc: 0.2363 - val_loss: 1.8568 - val_acc: 0.2130\n",
      "Epoch 98/100\n",
      " - 0s - loss: 1.8519 - acc: 0.2363 - val_loss: 1.8542 - val_acc: 0.2130\n",
      "Epoch 99/100\n",
      " - 0s - loss: 1.8492 - acc: 0.2347 - val_loss: 1.8516 - val_acc: 0.2130\n",
      "Epoch 100/100\n",
      " - 0s - loss: 1.8466 - acc: 0.2363 - val_loss: 1.8495 - val_acc: 0.2130\n",
      "CPU times: user 5.21 s, sys: 1.39 s, total: 6.6 s\n",
      "Wall time: 6.03 s\n"
     ]
    }
   ],
   "source": [
    "%%time\n",
    "fitted1 = network1.fit(X_train_scaled, y_train_encode, validation_data=(X_test_scaled, y_test_encode), \n",
    "                      epochs=100, batch_size=128, verbose=2)"
   ]
  },
  {
   "cell_type": "code",
   "execution_count": 369,
   "metadata": {},
   "outputs": [
    {
     "name": "stdout",
     "output_type": "stream",
     "text": [
      "540/540 [==============================] - 0s 24us/step\n",
      "test_acc: 0.21296296307334192\n"
     ]
    }
   ],
   "source": [
    "test_loss, test_acc = network1.evaluate(X_test_scaled, y_test_encode)\n",
    "print('test_acc:', test_acc)"
   ]
  },
  {
   "cell_type": "code",
   "execution_count": 214,
   "metadata": {},
   "outputs": [
    {
     "data": {
      "image/png": "[encoded data removed]",
      "text/plain": [
       "<Figure size 432x288 with 1 Axes>"
      ]
     },
     "metadata": {
      "needs_background": "light"
     },
     "output_type": "display_data"
    }
   ],
   "source": [
    "acc = fitted1.history['acc']\n",
    "val_acc = fitted1.history['val_acc']\n",
    "loss = fitted1.history['loss']\n",
    "val_loss = fitted1.history['val_loss']\n",
    "\n",
    "epochs = range(1, len(acc) + 1)\n",
    "\n",
    "# \"bo\" is for \"blue dot\"\n",
    "plt.plot(epochs, loss, 'bo', label='Training loss')\n",
    "# b is for \"solid blue line\"\n",
    "plt.plot(epochs, val_loss, 'b', label='Validation loss')\n",
    "plt.title('Training and validation loss')\n",
    "plt.xlabel('Epochs')\n",
    "plt.ylabel('Loss')\n",
    "plt.legend()\n",
    "\n",
    "plt.show()"
   ]
  },
  {
   "cell_type": "code",
   "execution_count": 215,
   "metadata": {},
   "outputs": [
    {
     "data": {
      "image/png": "[encoded data removed]",
      "text/plain": [
       "<Figure size 432x288 with 1 Axes>"
      ]
     },
     "metadata": {
      "needs_background": "light"
     },
     "output_type": "display_data"
    }
   ],
   "source": [
    "plt.clf()   # clear figure\n",
    "\n",
    "plt.plot(epochs, acc, 'bo', label='Training acc')\n",
    "plt.plot(epochs, val_acc, 'b', label='Validation acc')\n",
    "plt.title('Training and validation accuracy')\n",
    "plt.xlabel('Epochs')\n",
    "plt.ylabel('Loss')\n",
    "plt.legend()\n",
    "\n",
    "plt.show()"
   ]
  },
  {
   "cell_type": "markdown",
   "metadata": {},
   "source": [
    "With only 1 neuron our NN does not perform that well. This, however, is expected as 1 neuron in the hidden layer is essentially the same as running multinomial logistic regression, which for image data like this is far inferior to a neural network."
   ]
  },
  {
   "cell_type": "markdown",
   "metadata": {},
   "source": [
    "# building network 2 - 32 neurons in hidden layer, Test Acc = 0.9741, CPU Time = 3.19s"
   ]
  },
  {
   "cell_type": "code",
   "execution_count": 216,
   "metadata": {},
   "outputs": [],
   "source": [
    "def base_model():\n",
    "    network = models.Sequential()\n",
    "    network.add(layers.Dense(32, activation='relu', input_shape=(8*8,)))\n",
    "    network.add(layers.Dense(10, activation='softmax'))\n",
    "    network.compile(optimizer='adam', loss='categorical_crossentropy', metrics=['accuracy'])\n",
    "    return network"
   ]
  },
  {
   "cell_type": "code",
   "execution_count": 217,
   "metadata": {},
   "outputs": [],
   "source": [
    "# initialize nn\n",
    "network2 = base_model()"
   ]
  },
  {
   "cell_type": "code",
   "execution_count": 218,
   "metadata": {},
   "outputs": [
    {
     "name": "stdout",
     "output_type": "stream",
     "text": [
      "Train on 1257 samples, validate on 540 samples\n",
      "Epoch 1/100\n",
      " - 1s - loss: 2.3325 - acc: 0.1917 - val_loss: 2.2429 - val_acc: 0.1833\n",
      "Epoch 2/100\n",
      " - 0s - loss: 2.1868 - acc: 0.2037 - val_loss: 2.1283 - val_acc: 0.2111\n",
      "Epoch 3/100\n",
      " - 0s - loss: 2.0678 - acc: 0.2530 - val_loss: 2.0225 - val_acc: 0.3185\n",
      "Epoch 4/100\n",
      " - 0s - loss: 1.9527 - acc: 0.3755 - val_loss: 1.9098 - val_acc: 0.4463\n",
      "Epoch 5/100\n",
      " - 0s - loss: 1.8366 - acc: 0.4996 - val_loss: 1.7956 - val_acc: 0.5426\n",
      "Epoch 6/100\n",
      " - 0s - loss: 1.7221 - acc: 0.5935 - val_loss: 1.6824 - val_acc: 0.6148\n",
      "Epoch 7/100\n",
      " - 0s - loss: 1.6094 - acc: 0.6611 - val_loss: 1.5733 - val_acc: 0.6741\n",
      "Epoch 8/100\n",
      " - 0s - loss: 1.4983 - acc: 0.7184 - val_loss: 1.4651 - val_acc: 0.7148\n",
      "Epoch 9/100\n",
      " - 0s - loss: 1.3924 - acc: 0.7486 - val_loss: 1.3627 - val_acc: 0.7537\n",
      "Epoch 10/100\n",
      " - 0s - loss: 1.2919 - acc: 0.7804 - val_loss: 1.2651 - val_acc: 0.7889\n",
      "Epoch 11/100\n",
      " - 0s - loss: 1.1973 - acc: 0.8170 - val_loss: 1.1734 - val_acc: 0.8315\n",
      "Epoch 12/100\n",
      " - 0s - loss: 1.1084 - acc: 0.8488 - val_loss: 1.0886 - val_acc: 0.8463\n",
      "Epoch 13/100\n",
      " - 0s - loss: 1.0255 - acc: 0.8663 - val_loss: 1.0102 - val_acc: 0.8667\n",
      "Epoch 14/100\n",
      " - 0s - loss: 0.9497 - acc: 0.8783 - val_loss: 0.9383 - val_acc: 0.8704\n",
      "Epoch 15/100\n",
      " - 0s - loss: 0.8799 - acc: 0.8894 - val_loss: 0.8736 - val_acc: 0.8796\n",
      "Epoch 16/100\n",
      " - 0s - loss: 0.8164 - acc: 0.8990 - val_loss: 0.8108 - val_acc: 0.8852\n",
      "Epoch 17/100\n",
      " - 0s - loss: 0.7586 - acc: 0.8966 - val_loss: 0.7602 - val_acc: 0.8889\n",
      "Epoch 18/100\n",
      " - 0s - loss: 0.7056 - acc: 0.9093 - val_loss: 0.7066 - val_acc: 0.8981\n",
      "Epoch 19/100\n",
      " - 0s - loss: 0.6572 - acc: 0.9181 - val_loss: 0.6617 - val_acc: 0.9074\n",
      "Epoch 20/100\n",
      " - 0s - loss: 0.6137 - acc: 0.9196 - val_loss: 0.6226 - val_acc: 0.9130\n",
      "Epoch 21/100\n",
      " - 0s - loss: 0.5738 - acc: 0.9228 - val_loss: 0.5878 - val_acc: 0.9111\n",
      "Epoch 22/100\n",
      " - 0s - loss: 0.5368 - acc: 0.9236 - val_loss: 0.5517 - val_acc: 0.9185\n",
      "Epoch 23/100\n",
      " - 0s - loss: 0.5025 - acc: 0.9252 - val_loss: 0.5165 - val_acc: 0.9259\n",
      "Epoch 24/100\n",
      " - 0s - loss: 0.4708 - acc: 0.9300 - val_loss: 0.4894 - val_acc: 0.9241\n",
      "Epoch 25/100\n",
      " - 0s - loss: 0.4431 - acc: 0.9300 - val_loss: 0.4639 - val_acc: 0.9259\n",
      "Epoch 26/100\n",
      " - 0s - loss: 0.4188 - acc: 0.9348 - val_loss: 0.4395 - val_acc: 0.9296\n",
      "Epoch 27/100\n",
      " - 0s - loss: 0.3972 - acc: 0.9372 - val_loss: 0.4202 - val_acc: 0.9315\n",
      "Epoch 28/100\n",
      " - 0s - loss: 0.3766 - acc: 0.9411 - val_loss: 0.4008 - val_acc: 0.9333\n",
      "Epoch 29/100\n",
      " - 0s - loss: 0.3578 - acc: 0.9427 - val_loss: 0.3820 - val_acc: 0.9352\n",
      "Epoch 30/100\n",
      " - 0s - loss: 0.3412 - acc: 0.9459 - val_loss: 0.3661 - val_acc: 0.9333\n",
      "Epoch 31/100\n",
      " - 0s - loss: 0.3251 - acc: 0.9467 - val_loss: 0.3526 - val_acc: 0.9352\n",
      "Epoch 32/100\n",
      " - 0s - loss: 0.3106 - acc: 0.9483 - val_loss: 0.3354 - val_acc: 0.9370\n",
      "Epoch 33/100\n",
      " - 0s - loss: 0.2969 - acc: 0.9499 - val_loss: 0.3236 - val_acc: 0.9352\n",
      "Epoch 34/100\n",
      " - 0s - loss: 0.2849 - acc: 0.9483 - val_loss: 0.3135 - val_acc: 0.9352\n",
      "Epoch 35/100\n",
      " - 0s - loss: 0.2733 - acc: 0.9523 - val_loss: 0.3021 - val_acc: 0.9370\n",
      "Epoch 36/100\n",
      " - 0s - loss: 0.2632 - acc: 0.9515 - val_loss: 0.2930 - val_acc: 0.9370\n",
      "Epoch 37/100\n",
      " - 0s - loss: 0.2545 - acc: 0.9547 - val_loss: 0.2835 - val_acc: 0.9352\n",
      "Epoch 38/100\n",
      " - 0s - loss: 0.2456 - acc: 0.9531 - val_loss: 0.2740 - val_acc: 0.9389\n",
      "Epoch 39/100\n",
      " - 0s - loss: 0.2376 - acc: 0.9570 - val_loss: 0.2679 - val_acc: 0.9389\n",
      "Epoch 40/100\n",
      " - 0s - loss: 0.2302 - acc: 0.9562 - val_loss: 0.2621 - val_acc: 0.9407\n",
      "Epoch 41/100\n",
      " - 0s - loss: 0.2234 - acc: 0.9586 - val_loss: 0.2546 - val_acc: 0.9407\n",
      "Epoch 42/100\n",
      " - 0s - loss: 0.2166 - acc: 0.9602 - val_loss: 0.2478 - val_acc: 0.9370\n",
      "Epoch 43/100\n",
      " - 0s - loss: 0.2109 - acc: 0.9626 - val_loss: 0.2425 - val_acc: 0.9389\n",
      "Epoch 44/100\n",
      " - 0s - loss: 0.2052 - acc: 0.9626 - val_loss: 0.2368 - val_acc: 0.9407\n",
      "Epoch 45/100\n",
      " - 0s - loss: 0.2001 - acc: 0.9610 - val_loss: 0.2308 - val_acc: 0.9426\n",
      "Epoch 46/100\n",
      " - 0s - loss: 0.1948 - acc: 0.9650 - val_loss: 0.2277 - val_acc: 0.9426\n",
      "Epoch 47/100\n",
      " - 0s - loss: 0.1899 - acc: 0.9650 - val_loss: 0.2217 - val_acc: 0.9426\n",
      "Epoch 48/100\n",
      " - 0s - loss: 0.1858 - acc: 0.9666 - val_loss: 0.2174 - val_acc: 0.9407\n",
      "Epoch 49/100\n",
      " - 0s - loss: 0.1812 - acc: 0.9682 - val_loss: 0.2142 - val_acc: 0.9426\n",
      "Epoch 50/100\n",
      " - 0s - loss: 0.1776 - acc: 0.9682 - val_loss: 0.2097 - val_acc: 0.9444\n",
      "Epoch 51/100\n",
      " - 0s - loss: 0.1729 - acc: 0.9698 - val_loss: 0.2053 - val_acc: 0.9463\n",
      "Epoch 52/100\n",
      " - 0s - loss: 0.1692 - acc: 0.9690 - val_loss: 0.2022 - val_acc: 0.9444\n",
      "Epoch 53/100\n",
      " - 0s - loss: 0.1654 - acc: 0.9722 - val_loss: 0.1994 - val_acc: 0.9444\n",
      "Epoch 54/100\n",
      " - 0s - loss: 0.1622 - acc: 0.9722 - val_loss: 0.1950 - val_acc: 0.9463\n",
      "Epoch 55/100\n",
      " - 0s - loss: 0.1589 - acc: 0.9745 - val_loss: 0.1932 - val_acc: 0.9500\n",
      "Epoch 56/100\n",
      " - 0s - loss: 0.1557 - acc: 0.9753 - val_loss: 0.1899 - val_acc: 0.9500\n",
      "Epoch 57/100\n",
      " - 0s - loss: 0.1529 - acc: 0.9737 - val_loss: 0.1853 - val_acc: 0.9519\n",
      "Epoch 58/100\n",
      " - 0s - loss: 0.1498 - acc: 0.9737 - val_loss: 0.1838 - val_acc: 0.9537\n",
      "Epoch 59/100\n",
      " - 0s - loss: 0.1471 - acc: 0.9761 - val_loss: 0.1813 - val_acc: 0.9537\n",
      "Epoch 60/100\n",
      " - 0s - loss: 0.1443 - acc: 0.9761 - val_loss: 0.1781 - val_acc: 0.9556\n",
      "Epoch 61/100\n",
      " - 0s - loss: 0.1416 - acc: 0.9769 - val_loss: 0.1767 - val_acc: 0.9537\n",
      "Epoch 62/100\n",
      " - 0s - loss: 0.1390 - acc: 0.9785 - val_loss: 0.1734 - val_acc: 0.9556\n",
      "Epoch 63/100\n",
      " - 0s - loss: 0.1365 - acc: 0.9785 - val_loss: 0.1721 - val_acc: 0.9537\n",
      "Epoch 64/100\n",
      " - 0s - loss: 0.1345 - acc: 0.9785 - val_loss: 0.1692 - val_acc: 0.9537\n",
      "Epoch 65/100\n",
      " - 0s - loss: 0.1320 - acc: 0.9801 - val_loss: 0.1665 - val_acc: 0.9537\n",
      "Epoch 66/100\n",
      " - 0s - loss: 0.1304 - acc: 0.9777 - val_loss: 0.1659 - val_acc: 0.9611\n",
      "Epoch 67/100\n",
      " - 0s - loss: 0.1282 - acc: 0.9785 - val_loss: 0.1642 - val_acc: 0.9556\n",
      "Epoch 68/100\n",
      " - 0s - loss: 0.1256 - acc: 0.9817 - val_loss: 0.1601 - val_acc: 0.9556\n",
      "Epoch 69/100\n",
      " - 0s - loss: 0.1233 - acc: 0.9801 - val_loss: 0.1593 - val_acc: 0.9556\n",
      "Epoch 70/100\n",
      " - 0s - loss: 0.1219 - acc: 0.9793 - val_loss: 0.1580 - val_acc: 0.9593\n",
      "Epoch 71/100\n",
      " - 0s - loss: 0.1198 - acc: 0.9809 - val_loss: 0.1558 - val_acc: 0.9556\n",
      "Epoch 72/100\n",
      " - 0s - loss: 0.1179 - acc: 0.9817 - val_loss: 0.1541 - val_acc: 0.9611\n",
      "Epoch 73/100\n",
      " - 0s - loss: 0.1160 - acc: 0.9809 - val_loss: 0.1542 - val_acc: 0.9593\n",
      "Epoch 74/100\n",
      " - 0s - loss: 0.1141 - acc: 0.9817 - val_loss: 0.1505 - val_acc: 0.9611\n",
      "Epoch 75/100\n",
      " - 0s - loss: 0.1122 - acc: 0.9809 - val_loss: 0.1490 - val_acc: 0.9611\n",
      "Epoch 76/100\n",
      " - 0s - loss: 0.1107 - acc: 0.9833 - val_loss: 0.1476 - val_acc: 0.9630\n",
      "Epoch 77/100\n",
      " - 0s - loss: 0.1094 - acc: 0.9817 - val_loss: 0.1470 - val_acc: 0.9648\n",
      "Epoch 78/100\n",
      " - 0s - loss: 0.1078 - acc: 0.9833 - val_loss: 0.1453 - val_acc: 0.9648\n",
      "Epoch 79/100\n",
      " - 0s - loss: 0.1063 - acc: 0.9825 - val_loss: 0.1442 - val_acc: 0.9648\n",
      "Epoch 80/100\n",
      " - 0s - loss: 0.1046 - acc: 0.9825 - val_loss: 0.1434 - val_acc: 0.9630\n",
      "Epoch 81/100\n",
      " - 0s - loss: 0.1031 - acc: 0.9841 - val_loss: 0.1406 - val_acc: 0.9667\n",
      "Epoch 82/100\n",
      " - 0s - loss: 0.1022 - acc: 0.9833 - val_loss: 0.1395 - val_acc: 0.9648\n",
      "Epoch 83/100\n",
      " - 0s - loss: 0.1006 - acc: 0.9849 - val_loss: 0.1394 - val_acc: 0.9685\n",
      "Epoch 84/100\n",
      " - 0s - loss: 0.0991 - acc: 0.9841 - val_loss: 0.1377 - val_acc: 0.9667\n",
      "Epoch 85/100\n",
      " - 0s - loss: 0.0979 - acc: 0.9849 - val_loss: 0.1372 - val_acc: 0.9648\n",
      "Epoch 86/100\n",
      " - 0s - loss: 0.0963 - acc: 0.9841 - val_loss: 0.1365 - val_acc: 0.9648\n",
      "Epoch 87/100\n",
      " - 0s - loss: 0.0950 - acc: 0.9857 - val_loss: 0.1349 - val_acc: 0.9648\n",
      "Epoch 88/100\n",
      " - 0s - loss: 0.0943 - acc: 0.9849 - val_loss: 0.1330 - val_acc: 0.9667\n",
      "Epoch 89/100\n",
      " - 0s - loss: 0.0928 - acc: 0.9849 - val_loss: 0.1323 - val_acc: 0.9667\n",
      "Epoch 90/100\n",
      " - 0s - loss: 0.0916 - acc: 0.9857 - val_loss: 0.1327 - val_acc: 0.9667\n",
      "Epoch 91/100\n",
      " - 0s - loss: 0.0903 - acc: 0.9865 - val_loss: 0.1300 - val_acc: 0.9685\n",
      "Epoch 92/100\n",
      " - 0s - loss: 0.0892 - acc: 0.9865 - val_loss: 0.1297 - val_acc: 0.9704\n",
      "Epoch 93/100\n",
      " - 0s - loss: 0.0881 - acc: 0.9865 - val_loss: 0.1279 - val_acc: 0.9667\n",
      "Epoch 94/100\n",
      " - 0s - loss: 0.0872 - acc: 0.9865 - val_loss: 0.1281 - val_acc: 0.9648\n",
      "Epoch 95/100\n",
      " - 0s - loss: 0.0859 - acc: 0.9865 - val_loss: 0.1266 - val_acc: 0.9685\n",
      "Epoch 96/100\n",
      " - 0s - loss: 0.0850 - acc: 0.9873 - val_loss: 0.1253 - val_acc: 0.9722\n"
     ]
    },
    {
     "name": "stdout",
     "output_type": "stream",
     "text": [
      "Epoch 97/100\n",
      " - 0s - loss: 0.0835 - acc: 0.9865 - val_loss: 0.1262 - val_acc: 0.9685\n",
      "Epoch 98/100\n",
      " - 0s - loss: 0.0827 - acc: 0.9881 - val_loss: 0.1259 - val_acc: 0.9667\n",
      "Epoch 99/100\n",
      " - 0s - loss: 0.0815 - acc: 0.9873 - val_loss: 0.1232 - val_acc: 0.9704\n",
      "Epoch 100/100\n",
      " - 0s - loss: 0.0806 - acc: 0.9873 - val_loss: 0.1217 - val_acc: 0.9741\n",
      "CPU times: user 3.19 s, sys: 271 ms, total: 3.47 s\n",
      "Wall time: 2.83 s\n"
     ]
    }
   ],
   "source": [
    "%%time\n",
    "fitted2 = network2.fit(X_train_scaled, y_train_encode, validation_data=(X_test_scaled, y_test_encode), \n",
    "                      epochs=100, batch_size=128, verbose=2)"
   ]
  },
  {
   "cell_type": "code",
   "execution_count": 219,
   "metadata": {},
   "outputs": [
    {
     "name": "stdout",
     "output_type": "stream",
     "text": [
      "540/540 [==============================] - 0s 32us/step\n",
      "test_acc: 0.9740740749571059\n"
     ]
    }
   ],
   "source": [
    "test_loss, test_acc = network2.evaluate(X_test_scaled, y_test_encode)\n",
    "print('test_acc:', test_acc)"
   ]
  },
  {
   "cell_type": "code",
   "execution_count": 220,
   "metadata": {},
   "outputs": [
    {
     "data": {
      "image/png": "[encoded data removed]",
      "text/plain": [
       "<Figure size 432x288 with 1 Axes>"
      ]
     },
     "metadata": {
      "needs_background": "light"
     },
     "output_type": "display_data"
    }
   ],
   "source": [
    "acc = fitted2.history['acc']\n",
    "val_acc = fitted2.history['val_acc']\n",
    "loss = fitted2.history['loss']\n",
    "val_loss = fitted2.history['val_loss']\n",
    "\n",
    "epochs = range(1, len(acc) + 1)\n",
    "\n",
    "# \"bo\" is for \"blue dot\"\n",
    "plt.plot(epochs, loss, 'bo', label='Training loss')\n",
    "# b is for \"solid blue line\"\n",
    "plt.plot(epochs, val_loss, 'b', label='Validation loss')\n",
    "plt.title('Training and validation loss')\n",
    "plt.xlabel('Epochs')\n",
    "plt.ylabel('Loss')\n",
    "plt.legend()\n",
    "\n",
    "plt.show()"
   ]
  },
  {
   "cell_type": "code",
   "execution_count": 221,
   "metadata": {},
   "outputs": [
    {
     "data": {
      "image/png": "[encoded data removed]",
      "text/plain": [
       "<Figure size 432x288 with 1 Axes>"
      ]
     },
     "metadata": {
      "needs_background": "light"
     },
     "output_type": "display_data"
    }
   ],
   "source": [
    "plt.clf()   # clear figure\n",
    "\n",
    "plt.plot(epochs, acc, 'bo', label='Training acc')\n",
    "plt.plot(epochs, val_acc, 'b', label='Validation acc')\n",
    "plt.title('Training and validation accuracy')\n",
    "plt.xlabel('Epochs')\n",
    "plt.ylabel('Loss')\n",
    "plt.legend()\n",
    "\n",
    "plt.show()"
   ]
  },
  {
   "cell_type": "markdown",
   "metadata": {},
   "source": [
    "With 32 neurons in the hidden layer our NN does far better at predicting out of sample observations. "
   ]
  },
  {
   "cell_type": "markdown",
   "metadata": {},
   "source": [
    "# building network 3 - 64 neurons in hidden layer, Test Acc = 0.9778, CPU Time = 3.41s\n",
    "\n",
    "I will now build the NN with as many hidden nodes as inputs (in this case because our images are of size 8x8 we have 64 different pixels per image)"
   ]
  },
  {
   "cell_type": "code",
   "execution_count": 222,
   "metadata": {},
   "outputs": [],
   "source": [
    "def base_model():\n",
    "    network = models.Sequential()\n",
    "    network.add(layers.Dense(64, activation='relu', input_shape=(8*8,)))\n",
    "    network.add(layers.Dense(10, activation='softmax'))\n",
    "    network.compile(optimizer='adam', loss='categorical_crossentropy', metrics=['accuracy'])\n",
    "    return network"
   ]
  },
  {
   "cell_type": "code",
   "execution_count": 223,
   "metadata": {},
   "outputs": [],
   "source": [
    "# initialize nn\n",
    "network3 = base_model()"
   ]
  },
  {
   "cell_type": "code",
   "execution_count": 224,
   "metadata": {},
   "outputs": [
    {
     "name": "stdout",
     "output_type": "stream",
     "text": [
      "Train on 1257 samples, validate on 540 samples\n",
      "Epoch 1/100\n",
      " - 1s - loss: 2.3579 - acc: 0.1480 - val_loss: 2.2293 - val_acc: 0.1519\n",
      "Epoch 2/100\n",
      " - 0s - loss: 2.1179 - acc: 0.2076 - val_loss: 2.0309 - val_acc: 0.2870\n",
      "Epoch 3/100\n",
      " - 0s - loss: 1.9386 - acc: 0.4702 - val_loss: 1.8619 - val_acc: 0.5889\n",
      "Epoch 4/100\n",
      " - 0s - loss: 1.7716 - acc: 0.6476 - val_loss: 1.7032 - val_acc: 0.6685\n",
      "Epoch 5/100\n",
      " - 0s - loss: 1.6126 - acc: 0.6969 - val_loss: 1.5502 - val_acc: 0.7185\n",
      "Epoch 6/100\n",
      " - 0s - loss: 1.4591 - acc: 0.7359 - val_loss: 1.4028 - val_acc: 0.7500\n",
      "Epoch 7/100\n",
      " - 0s - loss: 1.3125 - acc: 0.7876 - val_loss: 1.2622 - val_acc: 0.7944\n",
      "Epoch 8/100\n",
      " - 0s - loss: 1.1770 - acc: 0.8162 - val_loss: 1.1363 - val_acc: 0.8037\n",
      "Epoch 9/100\n",
      " - 0s - loss: 1.0545 - acc: 0.8377 - val_loss: 1.0243 - val_acc: 0.8241\n",
      "Epoch 10/100\n",
      " - 0s - loss: 0.9459 - acc: 0.8632 - val_loss: 0.9252 - val_acc: 0.8444\n",
      "Epoch 11/100\n",
      " - 0s - loss: 0.8517 - acc: 0.8791 - val_loss: 0.8344 - val_acc: 0.8667\n",
      "Epoch 12/100\n",
      " - 0s - loss: 0.7693 - acc: 0.8910 - val_loss: 0.7579 - val_acc: 0.8870\n",
      "Epoch 13/100\n",
      " - 0s - loss: 0.6976 - acc: 0.9053 - val_loss: 0.6926 - val_acc: 0.8981\n",
      "Epoch 14/100\n",
      " - 0s - loss: 0.6362 - acc: 0.9133 - val_loss: 0.6361 - val_acc: 0.9019\n",
      "Epoch 15/100\n",
      " - 0s - loss: 0.5834 - acc: 0.9220 - val_loss: 0.5858 - val_acc: 0.9111\n",
      "Epoch 16/100\n",
      " - 0s - loss: 0.5376 - acc: 0.9252 - val_loss: 0.5424 - val_acc: 0.9111\n",
      "Epoch 17/100\n",
      " - 0s - loss: 0.4972 - acc: 0.9284 - val_loss: 0.5063 - val_acc: 0.9167\n",
      "Epoch 18/100\n",
      " - 0s - loss: 0.4623 - acc: 0.9316 - val_loss: 0.4755 - val_acc: 0.9167\n",
      "Epoch 19/100\n",
      " - 0s - loss: 0.4322 - acc: 0.9332 - val_loss: 0.4440 - val_acc: 0.9241\n",
      "Epoch 20/100\n",
      " - 0s - loss: 0.4046 - acc: 0.9372 - val_loss: 0.4170 - val_acc: 0.9241\n",
      "Epoch 21/100\n",
      " - 0s - loss: 0.3795 - acc: 0.9419 - val_loss: 0.3972 - val_acc: 0.9259\n",
      "Epoch 22/100\n",
      " - 0s - loss: 0.3582 - acc: 0.9419 - val_loss: 0.3741 - val_acc: 0.9278\n",
      "Epoch 23/100\n",
      " - 0s - loss: 0.3383 - acc: 0.9451 - val_loss: 0.3555 - val_acc: 0.9296\n",
      "Epoch 24/100\n",
      " - 0s - loss: 0.3209 - acc: 0.9475 - val_loss: 0.3418 - val_acc: 0.9296\n",
      "Epoch 25/100\n",
      " - 0s - loss: 0.3054 - acc: 0.9483 - val_loss: 0.3217 - val_acc: 0.9389\n",
      "Epoch 26/100\n",
      " - 0s - loss: 0.2912 - acc: 0.9491 - val_loss: 0.3104 - val_acc: 0.9444\n",
      "Epoch 27/100\n",
      " - 0s - loss: 0.2773 - acc: 0.9507 - val_loss: 0.2976 - val_acc: 0.9463\n",
      "Epoch 28/100\n",
      " - 0s - loss: 0.2657 - acc: 0.9539 - val_loss: 0.2850 - val_acc: 0.9463\n",
      "Epoch 29/100\n",
      " - 0s - loss: 0.2530 - acc: 0.9570 - val_loss: 0.2742 - val_acc: 0.9500\n",
      "Epoch 30/100\n",
      " - 0s - loss: 0.2427 - acc: 0.9578 - val_loss: 0.2634 - val_acc: 0.9519\n",
      "Epoch 31/100\n",
      " - 0s - loss: 0.2330 - acc: 0.9602 - val_loss: 0.2549 - val_acc: 0.9500\n",
      "Epoch 32/100\n",
      " - 0s - loss: 0.2236 - acc: 0.9626 - val_loss: 0.2469 - val_acc: 0.9481\n",
      "Epoch 33/100\n",
      " - 0s - loss: 0.2155 - acc: 0.9634 - val_loss: 0.2363 - val_acc: 0.9537\n",
      "Epoch 34/100\n",
      " - 0s - loss: 0.2074 - acc: 0.9634 - val_loss: 0.2305 - val_acc: 0.9519\n",
      "Epoch 35/100\n",
      " - 0s - loss: 0.2004 - acc: 0.9650 - val_loss: 0.2261 - val_acc: 0.9481\n",
      "Epoch 36/100\n",
      " - 0s - loss: 0.1939 - acc: 0.9650 - val_loss: 0.2182 - val_acc: 0.9537\n",
      "Epoch 37/100\n",
      " - 0s - loss: 0.1873 - acc: 0.9658 - val_loss: 0.2102 - val_acc: 0.9537\n",
      "Epoch 38/100\n",
      " - 0s - loss: 0.1829 - acc: 0.9682 - val_loss: 0.2069 - val_acc: 0.9574\n",
      "Epoch 39/100\n",
      " - 0s - loss: 0.1772 - acc: 0.9698 - val_loss: 0.2027 - val_acc: 0.9556\n",
      "Epoch 40/100\n",
      " - 0s - loss: 0.1708 - acc: 0.9674 - val_loss: 0.1959 - val_acc: 0.9574\n",
      "Epoch 41/100\n",
      " - 0s - loss: 0.1660 - acc: 0.9722 - val_loss: 0.1912 - val_acc: 0.9593\n",
      "Epoch 42/100\n",
      " - 0s - loss: 0.1612 - acc: 0.9714 - val_loss: 0.1877 - val_acc: 0.9611\n",
      "Epoch 43/100\n",
      " - 0s - loss: 0.1571 - acc: 0.9737 - val_loss: 0.1833 - val_acc: 0.9593\n",
      "Epoch 44/100\n",
      " - 0s - loss: 0.1531 - acc: 0.9730 - val_loss: 0.1800 - val_acc: 0.9611\n",
      "Epoch 45/100\n",
      " - 0s - loss: 0.1488 - acc: 0.9706 - val_loss: 0.1751 - val_acc: 0.9648\n",
      "Epoch 46/100\n",
      " - 0s - loss: 0.1449 - acc: 0.9753 - val_loss: 0.1724 - val_acc: 0.9630\n",
      "Epoch 47/100\n",
      " - 0s - loss: 0.1422 - acc: 0.9753 - val_loss: 0.1711 - val_acc: 0.9667\n",
      "Epoch 48/100\n",
      " - 0s - loss: 0.1387 - acc: 0.9769 - val_loss: 0.1645 - val_acc: 0.9611\n",
      "Epoch 49/100\n",
      " - 0s - loss: 0.1352 - acc: 0.9737 - val_loss: 0.1634 - val_acc: 0.9648\n",
      "Epoch 50/100\n",
      " - 0s - loss: 0.1319 - acc: 0.9769 - val_loss: 0.1598 - val_acc: 0.9630\n",
      "Epoch 51/100\n",
      " - 0s - loss: 0.1288 - acc: 0.9777 - val_loss: 0.1595 - val_acc: 0.9648\n",
      "Epoch 52/100\n",
      " - 0s - loss: 0.1257 - acc: 0.9777 - val_loss: 0.1557 - val_acc: 0.9648\n",
      "Epoch 53/100\n",
      " - 0s - loss: 0.1230 - acc: 0.9777 - val_loss: 0.1528 - val_acc: 0.9648\n",
      "Epoch 54/100\n",
      " - 0s - loss: 0.1204 - acc: 0.9785 - val_loss: 0.1504 - val_acc: 0.9648\n",
      "Epoch 55/100\n",
      " - 0s - loss: 0.1178 - acc: 0.9817 - val_loss: 0.1495 - val_acc: 0.9685\n",
      "Epoch 56/100\n",
      " - 0s - loss: 0.1154 - acc: 0.9817 - val_loss: 0.1473 - val_acc: 0.9667\n",
      "Epoch 57/100\n",
      " - 0s - loss: 0.1131 - acc: 0.9825 - val_loss: 0.1450 - val_acc: 0.9667\n",
      "Epoch 58/100\n",
      " - 0s - loss: 0.1110 - acc: 0.9825 - val_loss: 0.1415 - val_acc: 0.9648\n",
      "Epoch 59/100\n",
      " - 0s - loss: 0.1085 - acc: 0.9817 - val_loss: 0.1405 - val_acc: 0.9667\n",
      "Epoch 60/100\n",
      " - 0s - loss: 0.1070 - acc: 0.9825 - val_loss: 0.1400 - val_acc: 0.9667\n",
      "Epoch 61/100\n",
      " - 0s - loss: 0.1046 - acc: 0.9849 - val_loss: 0.1372 - val_acc: 0.9685\n",
      "Epoch 62/100\n",
      " - 0s - loss: 0.1025 - acc: 0.9833 - val_loss: 0.1353 - val_acc: 0.9648\n",
      "Epoch 63/100\n",
      " - 0s - loss: 0.1010 - acc: 0.9825 - val_loss: 0.1348 - val_acc: 0.9667\n",
      "Epoch 64/100\n",
      " - 0s - loss: 0.0994 - acc: 0.9849 - val_loss: 0.1328 - val_acc: 0.9704\n",
      "Epoch 65/100\n",
      " - 0s - loss: 0.0970 - acc: 0.9857 - val_loss: 0.1316 - val_acc: 0.9667\n",
      "Epoch 66/100\n",
      " - 0s - loss: 0.0957 - acc: 0.9849 - val_loss: 0.1299 - val_acc: 0.9704\n",
      "Epoch 67/100\n",
      " - 0s - loss: 0.0935 - acc: 0.9857 - val_loss: 0.1275 - val_acc: 0.9685\n",
      "Epoch 68/100\n",
      " - 0s - loss: 0.0923 - acc: 0.9849 - val_loss: 0.1281 - val_acc: 0.9685\n",
      "Epoch 69/100\n",
      " - 0s - loss: 0.0903 - acc: 0.9857 - val_loss: 0.1266 - val_acc: 0.9667\n",
      "Epoch 70/100\n",
      " - 0s - loss: 0.0891 - acc: 0.9865 - val_loss: 0.1244 - val_acc: 0.9685\n",
      "Epoch 71/100\n",
      " - 0s - loss: 0.0880 - acc: 0.9873 - val_loss: 0.1236 - val_acc: 0.9722\n",
      "Epoch 72/100\n",
      " - 0s - loss: 0.0860 - acc: 0.9865 - val_loss: 0.1236 - val_acc: 0.9667\n",
      "Epoch 73/100\n",
      " - 0s - loss: 0.0847 - acc: 0.9873 - val_loss: 0.1226 - val_acc: 0.9648\n",
      "Epoch 74/100\n",
      " - 0s - loss: 0.0831 - acc: 0.9881 - val_loss: 0.1197 - val_acc: 0.9704\n",
      "Epoch 75/100\n",
      " - 0s - loss: 0.0819 - acc: 0.9881 - val_loss: 0.1189 - val_acc: 0.9722\n",
      "Epoch 76/100\n",
      " - 0s - loss: 0.0807 - acc: 0.9889 - val_loss: 0.1194 - val_acc: 0.9685\n",
      "Epoch 77/100\n",
      " - 0s - loss: 0.0792 - acc: 0.9881 - val_loss: 0.1174 - val_acc: 0.9685\n",
      "Epoch 78/100\n",
      " - 0s - loss: 0.0782 - acc: 0.9897 - val_loss: 0.1166 - val_acc: 0.9741\n",
      "Epoch 79/100\n",
      " - 0s - loss: 0.0768 - acc: 0.9889 - val_loss: 0.1165 - val_acc: 0.9685\n",
      "Epoch 80/100\n",
      " - 0s - loss: 0.0755 - acc: 0.9897 - val_loss: 0.1149 - val_acc: 0.9704\n",
      "Epoch 81/100\n",
      " - 0s - loss: 0.0748 - acc: 0.9905 - val_loss: 0.1132 - val_acc: 0.9704\n",
      "Epoch 82/100\n",
      " - 0s - loss: 0.0733 - acc: 0.9905 - val_loss: 0.1138 - val_acc: 0.9741\n",
      "Epoch 83/100\n",
      " - 0s - loss: 0.0726 - acc: 0.9905 - val_loss: 0.1123 - val_acc: 0.9722\n",
      "Epoch 84/100\n",
      " - 0s - loss: 0.0709 - acc: 0.9912 - val_loss: 0.1116 - val_acc: 0.9722\n",
      "Epoch 85/100\n",
      " - 0s - loss: 0.0706 - acc: 0.9905 - val_loss: 0.1103 - val_acc: 0.9704\n",
      "Epoch 86/100\n",
      " - 0s - loss: 0.0690 - acc: 0.9905 - val_loss: 0.1111 - val_acc: 0.9704\n",
      "Epoch 87/100\n",
      " - 0s - loss: 0.0680 - acc: 0.9920 - val_loss: 0.1105 - val_acc: 0.9722\n",
      "Epoch 88/100\n",
      " - 0s - loss: 0.0671 - acc: 0.9905 - val_loss: 0.1070 - val_acc: 0.9741\n",
      "Epoch 89/100\n",
      " - 0s - loss: 0.0660 - acc: 0.9905 - val_loss: 0.1076 - val_acc: 0.9741\n",
      "Epoch 90/100\n",
      " - 0s - loss: 0.0647 - acc: 0.9912 - val_loss: 0.1090 - val_acc: 0.9704\n",
      "Epoch 91/100\n",
      " - 0s - loss: 0.0642 - acc: 0.9912 - val_loss: 0.1080 - val_acc: 0.9704\n",
      "Epoch 92/100\n",
      " - 0s - loss: 0.0632 - acc: 0.9905 - val_loss: 0.1052 - val_acc: 0.9759\n",
      "Epoch 93/100\n",
      " - 0s - loss: 0.0623 - acc: 0.9912 - val_loss: 0.1044 - val_acc: 0.9759\n",
      "Epoch 94/100\n",
      " - 0s - loss: 0.0613 - acc: 0.9912 - val_loss: 0.1063 - val_acc: 0.9685\n",
      "Epoch 95/100\n",
      " - 0s - loss: 0.0606 - acc: 0.9912 - val_loss: 0.1051 - val_acc: 0.9722\n",
      "Epoch 96/100\n",
      " - 0s - loss: 0.0594 - acc: 0.9912 - val_loss: 0.1029 - val_acc: 0.9759\n"
     ]
    },
    {
     "name": "stdout",
     "output_type": "stream",
     "text": [
      "Epoch 97/100\n",
      " - 0s - loss: 0.0587 - acc: 0.9912 - val_loss: 0.1026 - val_acc: 0.9759\n",
      "Epoch 98/100\n",
      " - 0s - loss: 0.0579 - acc: 0.9920 - val_loss: 0.1027 - val_acc: 0.9759\n",
      "Epoch 99/100\n",
      " - 0s - loss: 0.0576 - acc: 0.9920 - val_loss: 0.1038 - val_acc: 0.9722\n",
      "Epoch 100/100\n",
      " - 0s - loss: 0.0564 - acc: 0.9912 - val_loss: 0.1006 - val_acc: 0.9778\n",
      "CPU times: user 3.41 s, sys: 302 ms, total: 3.71 s\n",
      "Wall time: 2.92 s\n"
     ]
    }
   ],
   "source": [
    "%%time\n",
    "fitted3 = network3.fit(X_train_scaled, y_train_encode, validation_data=(X_test_scaled, y_test_encode), \n",
    "                      epochs=100, batch_size=128, verbose=2)"
   ]
  },
  {
   "cell_type": "code",
   "execution_count": 225,
   "metadata": {},
   "outputs": [
    {
     "name": "stdout",
     "output_type": "stream",
     "text": [
      "540/540 [==============================] - 0s 21us/step\n",
      "test_acc: 0.9777777764532302\n"
     ]
    }
   ],
   "source": [
    "test_loss, test_acc = network3.evaluate(X_test_scaled, y_test_encode)\n",
    "print('test_acc:', test_acc)"
   ]
  },
  {
   "cell_type": "code",
   "execution_count": 226,
   "metadata": {},
   "outputs": [
    {
     "data": {
      "image/png": "[encoded data removed]",
      "text/plain": [
       "<Figure size 432x288 with 1 Axes>"
      ]
     },
     "metadata": {
      "needs_background": "light"
     },
     "output_type": "display_data"
    }
   ],
   "source": [
    "acc = fitted3.history['acc']\n",
    "val_acc = fitted3.history['val_acc']\n",
    "loss = fitted3.history['loss']\n",
    "val_loss = fitted3.history['val_loss']\n",
    "\n",
    "epochs = range(1, len(acc) + 1)\n",
    "\n",
    "# \"bo\" is for \"blue dot\"\n",
    "plt.plot(epochs, loss, 'bo', label='Training loss')\n",
    "# b is for \"solid blue line\"\n",
    "plt.plot(epochs, val_loss, 'b', label='Validation loss')\n",
    "plt.title('Training and validation loss')\n",
    "plt.xlabel('Epochs')\n",
    "plt.ylabel('Loss')\n",
    "plt.legend()\n",
    "\n",
    "plt.show()"
   ]
  },
  {
   "cell_type": "code",
   "execution_count": 227,
   "metadata": {},
   "outputs": [
    {
     "data": {
      "image/png": "[encoded data removed]",
      "text/plain": [
       "<Figure size 432x288 with 1 Axes>"
      ]
     },
     "metadata": {
      "needs_background": "light"
     },
     "output_type": "display_data"
    }
   ],
   "source": [
    "plt.clf()   # clear figure\n",
    "\n",
    "plt.plot(epochs, acc, 'bo', label='Training acc')\n",
    "plt.plot(epochs, val_acc, 'b', label='Validation acc')\n",
    "plt.title('Training and validation accuracy')\n",
    "plt.xlabel('Epochs')\n",
    "plt.ylabel('Loss')\n",
    "plt.legend()\n",
    "\n",
    "plt.show()"
   ]
  },
  {
   "cell_type": "markdown",
   "metadata": {},
   "source": [
    "Very similar overall to the 32 node layer shown previously. Doubling the number of hidden nodes in the layer did not show to make a dramatic affect on overall performance, however, we did see a slight increase in test accuracy and when we are dealing with NN's at this magnitude a small increase in accuracy can be a big deal."
   ]
  },
  {
   "cell_type": "markdown",
   "metadata": {},
   "source": [
    "# building network 4 - 192 neurons in hidden layer (Test Acc = 0.9778, CPU time = 4.17s)\n",
    "\n",
    "3 times as many hidden nodes as inputs\n"
   ]
  },
  {
   "cell_type": "code",
   "execution_count": 229,
   "metadata": {},
   "outputs": [],
   "source": [
    "def base_model():\n",
    "    network = models.Sequential()\n",
    "    network.add(layers.Dense(192, activation='relu', input_shape=(8*8,)))\n",
    "    network.add(layers.Dense(10, activation='softmax'))\n",
    "    network.compile(optimizer='adam', loss='categorical_crossentropy', metrics=['accuracy'])\n",
    "    return network"
   ]
  },
  {
   "cell_type": "code",
   "execution_count": 230,
   "metadata": {},
   "outputs": [],
   "source": [
    "# initialize nn\n",
    "network4 = base_model()"
   ]
  },
  {
   "cell_type": "code",
   "execution_count": 231,
   "metadata": {},
   "outputs": [
    {
     "name": "stdout",
     "output_type": "stream",
     "text": [
      "Train on 1257 samples, validate on 540 samples\n",
      "Epoch 1/100\n",
      " - 1s - loss: 2.1344 - acc: 0.3898 - val_loss: 1.9741 - val_acc: 0.5630\n",
      "Epoch 2/100\n",
      " - 0s - loss: 1.8208 - acc: 0.6897 - val_loss: 1.6657 - val_acc: 0.7722\n",
      "Epoch 3/100\n",
      " - 0s - loss: 1.5201 - acc: 0.8178 - val_loss: 1.3787 - val_acc: 0.8463\n",
      "Epoch 4/100\n",
      " - 0s - loss: 1.2443 - acc: 0.8671 - val_loss: 1.1220 - val_acc: 0.8722\n",
      "Epoch 5/100\n",
      " - 0s - loss: 0.9998 - acc: 0.8854 - val_loss: 0.9040 - val_acc: 0.8833\n",
      "Epoch 6/100\n",
      " - 0s - loss: 0.8036 - acc: 0.8998 - val_loss: 0.7370 - val_acc: 0.8944\n",
      "Epoch 7/100\n",
      " - 0s - loss: 0.6552 - acc: 0.9181 - val_loss: 0.6135 - val_acc: 0.9074\n",
      "Epoch 8/100\n",
      " - 0s - loss: 0.5470 - acc: 0.9308 - val_loss: 0.5288 - val_acc: 0.9111\n",
      "Epoch 9/100\n",
      " - 0s - loss: 0.4673 - acc: 0.9316 - val_loss: 0.4578 - val_acc: 0.9204\n",
      "Epoch 10/100\n",
      " - 0s - loss: 0.4063 - acc: 0.9395 - val_loss: 0.4144 - val_acc: 0.9296\n",
      "Epoch 11/100\n",
      " - 0s - loss: 0.3621 - acc: 0.9419 - val_loss: 0.3695 - val_acc: 0.9259\n",
      "Epoch 12/100\n",
      " - 0s - loss: 0.3241 - acc: 0.9475 - val_loss: 0.3416 - val_acc: 0.9352\n",
      "Epoch 13/100\n",
      " - 0s - loss: 0.2953 - acc: 0.9547 - val_loss: 0.3125 - val_acc: 0.9389\n",
      "Epoch 14/100\n",
      " - 0s - loss: 0.2708 - acc: 0.9515 - val_loss: 0.2898 - val_acc: 0.9463\n",
      "Epoch 15/100\n",
      " - 0s - loss: 0.2521 - acc: 0.9554 - val_loss: 0.2748 - val_acc: 0.9463\n",
      "Epoch 16/100\n",
      " - 0s - loss: 0.2332 - acc: 0.9570 - val_loss: 0.2554 - val_acc: 0.9463\n",
      "Epoch 17/100\n",
      " - 0s - loss: 0.2186 - acc: 0.9570 - val_loss: 0.2453 - val_acc: 0.9463\n",
      "Epoch 18/100\n",
      " - 0s - loss: 0.2058 - acc: 0.9586 - val_loss: 0.2342 - val_acc: 0.9481\n",
      "Epoch 19/100\n",
      " - 0s - loss: 0.1956 - acc: 0.9618 - val_loss: 0.2185 - val_acc: 0.9500\n",
      "Epoch 20/100\n",
      " - 0s - loss: 0.1870 - acc: 0.9650 - val_loss: 0.2171 - val_acc: 0.9500\n",
      "Epoch 21/100\n",
      " - 0s - loss: 0.1766 - acc: 0.9642 - val_loss: 0.2024 - val_acc: 0.9556\n",
      "Epoch 22/100\n",
      " - 0s - loss: 0.1668 - acc: 0.9658 - val_loss: 0.1991 - val_acc: 0.9574\n",
      "Epoch 23/100\n",
      " - 0s - loss: 0.1596 - acc: 0.9714 - val_loss: 0.1910 - val_acc: 0.9556\n",
      "Epoch 24/100\n",
      " - 0s - loss: 0.1525 - acc: 0.9769 - val_loss: 0.1841 - val_acc: 0.9574\n",
      "Epoch 25/100\n",
      " - 0s - loss: 0.1458 - acc: 0.9737 - val_loss: 0.1792 - val_acc: 0.9648\n",
      "Epoch 26/100\n",
      " - 0s - loss: 0.1404 - acc: 0.9793 - val_loss: 0.1739 - val_acc: 0.9537\n",
      "Epoch 27/100\n",
      " - 0s - loss: 0.1345 - acc: 0.9785 - val_loss: 0.1695 - val_acc: 0.9574\n",
      "Epoch 28/100\n",
      " - 0s - loss: 0.1298 - acc: 0.9793 - val_loss: 0.1642 - val_acc: 0.9574\n",
      "Epoch 29/100\n",
      " - 0s - loss: 0.1247 - acc: 0.9793 - val_loss: 0.1611 - val_acc: 0.9593\n",
      "Epoch 30/100\n",
      " - 0s - loss: 0.1218 - acc: 0.9817 - val_loss: 0.1585 - val_acc: 0.9611\n",
      "Epoch 31/100\n",
      " - 0s - loss: 0.1170 - acc: 0.9825 - val_loss: 0.1542 - val_acc: 0.9611\n",
      "Epoch 32/100\n",
      " - 0s - loss: 0.1138 - acc: 0.9841 - val_loss: 0.1529 - val_acc: 0.9648\n",
      "Epoch 33/100\n",
      " - 0s - loss: 0.1097 - acc: 0.9833 - val_loss: 0.1486 - val_acc: 0.9611\n",
      "Epoch 34/100\n",
      " - 0s - loss: 0.1058 - acc: 0.9841 - val_loss: 0.1437 - val_acc: 0.9648\n",
      "Epoch 35/100\n",
      " - 0s - loss: 0.1026 - acc: 0.9857 - val_loss: 0.1433 - val_acc: 0.9648\n",
      "Epoch 36/100\n",
      " - 0s - loss: 0.1008 - acc: 0.9841 - val_loss: 0.1426 - val_acc: 0.9648\n",
      "Epoch 37/100\n",
      " - 0s - loss: 0.0967 - acc: 0.9841 - val_loss: 0.1366 - val_acc: 0.9667\n",
      "Epoch 38/100\n",
      " - 0s - loss: 0.0944 - acc: 0.9857 - val_loss: 0.1371 - val_acc: 0.9667\n",
      "Epoch 39/100\n",
      " - 0s - loss: 0.0917 - acc: 0.9849 - val_loss: 0.1331 - val_acc: 0.9648\n",
      "Epoch 40/100\n",
      " - 0s - loss: 0.0888 - acc: 0.9873 - val_loss: 0.1317 - val_acc: 0.9667\n",
      "Epoch 41/100\n",
      " - 0s - loss: 0.0864 - acc: 0.9873 - val_loss: 0.1304 - val_acc: 0.9648\n",
      "Epoch 42/100\n",
      " - 0s - loss: 0.0843 - acc: 0.9881 - val_loss: 0.1279 - val_acc: 0.9667\n",
      "Epoch 43/100\n",
      " - 0s - loss: 0.0826 - acc: 0.9865 - val_loss: 0.1296 - val_acc: 0.9667\n",
      "Epoch 44/100\n",
      " - 0s - loss: 0.0810 - acc: 0.9897 - val_loss: 0.1231 - val_acc: 0.9648\n",
      "Epoch 45/100\n",
      " - 0s - loss: 0.0790 - acc: 0.9881 - val_loss: 0.1251 - val_acc: 0.9667\n",
      "Epoch 46/100\n",
      " - 0s - loss: 0.0776 - acc: 0.9897 - val_loss: 0.1215 - val_acc: 0.9685\n",
      "Epoch 47/100\n",
      " - 0s - loss: 0.0745 - acc: 0.9912 - val_loss: 0.1231 - val_acc: 0.9667\n",
      "Epoch 48/100\n",
      " - 0s - loss: 0.0715 - acc: 0.9905 - val_loss: 0.1181 - val_acc: 0.9685\n",
      "Epoch 49/100\n",
      " - 0s - loss: 0.0706 - acc: 0.9897 - val_loss: 0.1188 - val_acc: 0.9685\n",
      "Epoch 50/100\n",
      " - 0s - loss: 0.0677 - acc: 0.9905 - val_loss: 0.1147 - val_acc: 0.9685\n",
      "Epoch 51/100\n",
      " - 0s - loss: 0.0665 - acc: 0.9912 - val_loss: 0.1157 - val_acc: 0.9667\n",
      "Epoch 52/100\n",
      " - 0s - loss: 0.0645 - acc: 0.9912 - val_loss: 0.1148 - val_acc: 0.9704\n",
      "Epoch 53/100\n",
      " - 0s - loss: 0.0633 - acc: 0.9920 - val_loss: 0.1138 - val_acc: 0.9704\n",
      "Epoch 54/100\n",
      " - 0s - loss: 0.0610 - acc: 0.9912 - val_loss: 0.1112 - val_acc: 0.9685\n",
      "Epoch 55/100\n",
      " - 0s - loss: 0.0603 - acc: 0.9912 - val_loss: 0.1119 - val_acc: 0.9648\n",
      "Epoch 56/100\n",
      " - 0s - loss: 0.0582 - acc: 0.9936 - val_loss: 0.1087 - val_acc: 0.9685\n",
      "Epoch 57/100\n",
      " - 0s - loss: 0.0574 - acc: 0.9920 - val_loss: 0.1080 - val_acc: 0.9704\n",
      "Epoch 58/100\n",
      " - 0s - loss: 0.0561 - acc: 0.9920 - val_loss: 0.1097 - val_acc: 0.9685\n",
      "Epoch 59/100\n",
      " - 0s - loss: 0.0542 - acc: 0.9936 - val_loss: 0.1038 - val_acc: 0.9685\n",
      "Epoch 60/100\n",
      " - 0s - loss: 0.0536 - acc: 0.9944 - val_loss: 0.1065 - val_acc: 0.9704\n",
      "Epoch 61/100\n",
      " - 0s - loss: 0.0518 - acc: 0.9944 - val_loss: 0.1049 - val_acc: 0.9704\n",
      "Epoch 62/100\n",
      " - 0s - loss: 0.0516 - acc: 0.9936 - val_loss: 0.1038 - val_acc: 0.9722\n",
      "Epoch 63/100\n",
      " - 0s - loss: 0.0495 - acc: 0.9944 - val_loss: 0.1064 - val_acc: 0.9722\n",
      "Epoch 64/100\n",
      " - 0s - loss: 0.0486 - acc: 0.9944 - val_loss: 0.1016 - val_acc: 0.9704\n",
      "Epoch 65/100\n",
      " - 0s - loss: 0.0476 - acc: 0.9952 - val_loss: 0.1002 - val_acc: 0.9722\n",
      "Epoch 66/100\n",
      " - 0s - loss: 0.0471 - acc: 0.9952 - val_loss: 0.1013 - val_acc: 0.9741\n",
      "Epoch 67/100\n",
      " - 0s - loss: 0.0456 - acc: 0.9960 - val_loss: 0.1027 - val_acc: 0.9685\n",
      "Epoch 68/100\n",
      " - 0s - loss: 0.0444 - acc: 0.9968 - val_loss: 0.0992 - val_acc: 0.9741\n",
      "Epoch 69/100\n",
      " - 0s - loss: 0.0440 - acc: 0.9968 - val_loss: 0.0978 - val_acc: 0.9741\n",
      "Epoch 70/100\n",
      " - 0s - loss: 0.0422 - acc: 0.9968 - val_loss: 0.1001 - val_acc: 0.9741\n",
      "Epoch 71/100\n",
      " - 0s - loss: 0.0415 - acc: 0.9976 - val_loss: 0.0970 - val_acc: 0.9722\n",
      "Epoch 72/100\n",
      " - 0s - loss: 0.0405 - acc: 0.9968 - val_loss: 0.0967 - val_acc: 0.9759\n",
      "Epoch 73/100\n",
      " - 0s - loss: 0.0399 - acc: 0.9968 - val_loss: 0.0973 - val_acc: 0.9741\n",
      "Epoch 74/100\n",
      " - 0s - loss: 0.0388 - acc: 0.9976 - val_loss: 0.0959 - val_acc: 0.9722\n",
      "Epoch 75/100\n",
      " - 0s - loss: 0.0390 - acc: 0.9968 - val_loss: 0.0953 - val_acc: 0.9759\n",
      "Epoch 76/100\n",
      " - 0s - loss: 0.0380 - acc: 0.9968 - val_loss: 0.0979 - val_acc: 0.9704\n",
      "Epoch 77/100\n",
      " - 0s - loss: 0.0369 - acc: 0.9968 - val_loss: 0.0943 - val_acc: 0.9759\n",
      "Epoch 78/100\n",
      " - 0s - loss: 0.0366 - acc: 0.9968 - val_loss: 0.0935 - val_acc: 0.9741\n",
      "Epoch 79/100\n",
      " - 0s - loss: 0.0352 - acc: 0.9976 - val_loss: 0.0965 - val_acc: 0.9741\n",
      "Epoch 80/100\n",
      " - 0s - loss: 0.0348 - acc: 0.9976 - val_loss: 0.0929 - val_acc: 0.9741\n",
      "Epoch 81/100\n",
      " - 0s - loss: 0.0336 - acc: 0.9976 - val_loss: 0.0917 - val_acc: 0.9759\n",
      "Epoch 82/100\n",
      " - 0s - loss: 0.0334 - acc: 0.9976 - val_loss: 0.0939 - val_acc: 0.9741\n",
      "Epoch 83/100\n",
      " - 0s - loss: 0.0327 - acc: 0.9976 - val_loss: 0.0898 - val_acc: 0.9759\n",
      "Epoch 84/100\n",
      " - 0s - loss: 0.0323 - acc: 0.9976 - val_loss: 0.0939 - val_acc: 0.9741\n",
      "Epoch 85/100\n",
      " - 0s - loss: 0.0312 - acc: 0.9976 - val_loss: 0.0909 - val_acc: 0.9759\n",
      "Epoch 86/100\n",
      " - 0s - loss: 0.0305 - acc: 0.9976 - val_loss: 0.0924 - val_acc: 0.9741\n",
      "Epoch 87/100\n",
      " - 0s - loss: 0.0302 - acc: 0.9976 - val_loss: 0.0901 - val_acc: 0.9759\n",
      "Epoch 88/100\n",
      " - 0s - loss: 0.0289 - acc: 0.9976 - val_loss: 0.0904 - val_acc: 0.9741\n",
      "Epoch 89/100\n",
      " - 0s - loss: 0.0286 - acc: 0.9976 - val_loss: 0.0899 - val_acc: 0.9741\n",
      "Epoch 90/100\n",
      " - 0s - loss: 0.0280 - acc: 0.9976 - val_loss: 0.0890 - val_acc: 0.9778\n",
      "Epoch 91/100\n",
      " - 0s - loss: 0.0275 - acc: 0.9976 - val_loss: 0.0887 - val_acc: 0.9778\n",
      "Epoch 92/100\n",
      " - 0s - loss: 0.0273 - acc: 0.9976 - val_loss: 0.0904 - val_acc: 0.9741\n",
      "Epoch 93/100\n",
      " - 0s - loss: 0.0269 - acc: 0.9976 - val_loss: 0.0875 - val_acc: 0.9778\n",
      "Epoch 94/100\n",
      " - 0s - loss: 0.0259 - acc: 0.9976 - val_loss: 0.0896 - val_acc: 0.9759\n",
      "Epoch 95/100\n",
      " - 0s - loss: 0.0257 - acc: 0.9976 - val_loss: 0.0913 - val_acc: 0.9741\n",
      "Epoch 96/100\n",
      " - 0s - loss: 0.0256 - acc: 0.9976 - val_loss: 0.0866 - val_acc: 0.9778\n"
     ]
    },
    {
     "name": "stdout",
     "output_type": "stream",
     "text": [
      "Epoch 97/100\n",
      " - 0s - loss: 0.0250 - acc: 0.9976 - val_loss: 0.0868 - val_acc: 0.9759\n",
      "Epoch 98/100\n",
      " - 0s - loss: 0.0245 - acc: 0.9976 - val_loss: 0.0906 - val_acc: 0.9741\n",
      "Epoch 99/100\n",
      " - 0s - loss: 0.0240 - acc: 0.9976 - val_loss: 0.0860 - val_acc: 0.9778\n",
      "Epoch 100/100\n",
      " - 0s - loss: 0.0233 - acc: 0.9976 - val_loss: 0.0872 - val_acc: 0.9778\n",
      "CPU times: user 4.17 s, sys: 401 ms, total: 4.57 s\n",
      "Wall time: 3.36 s\n"
     ]
    }
   ],
   "source": [
    "%%time\n",
    "fitted4 = network4.fit(X_train_scaled, y_train_encode, validation_data=(X_test_scaled, y_test_encode), \n",
    "                      epochs=100, batch_size=128, verbose=2)"
   ]
  },
  {
   "cell_type": "code",
   "execution_count": 233,
   "metadata": {},
   "outputs": [
    {
     "name": "stdout",
     "output_type": "stream",
     "text": [
      "540/540 [==============================] - 0s 25us/step\n",
      "test_acc: 0.9777777786608095\n"
     ]
    }
   ],
   "source": [
    "test_loss, test_acc = network4.evaluate(X_test_scaled, y_test_encode)\n",
    "print('test_acc:', test_acc)"
   ]
  },
  {
   "cell_type": "markdown",
   "metadata": {},
   "source": [
    "Very minimal improvement from prior NN that had 64 (as many hidden nodes as inputs) hidden nodes"
   ]
  },
  {
   "cell_type": "code",
   "execution_count": 340,
   "metadata": {},
   "outputs": [
    {
     "data": {
      "text/plain": [
       "array([[0.40790787, 0.6582167 , 1.7953825 , ..., 0.9493649 , 0.        ,\n",
       "        0.40830982],\n",
       "       [0.4763054 , 1.1086025 , 1.5821809 , ..., 0.1695737 , 0.        ,\n",
       "        0.57187885],\n",
       "       [0.52301466, 0.        , 0.16390008, ..., 0.        , 0.38349506,\n",
       "        0.9488825 ],\n",
       "       ...,\n",
       "       [0.9168021 , 0.89374703, 0.735376  , ..., 0.        , 0.        ,\n",
       "        0.78373   ],\n",
       "       [0.44295415, 0.69261813, 0.01648272, ..., 0.        , 1.0147011 ,\n",
       "        0.3619949 ],\n",
       "       [0.77858853, 1.154456  , 0.94089526, ..., 0.3727568 , 0.        ,\n",
       "        0.6428233 ]], dtype=float32)"
      ]
     },
     "execution_count": 340,
     "metadata": {},
     "output_type": "execute_result"
    }
   ],
   "source": [
    "# view activations from NN\n",
    "hidden4 = Sequential()\n",
    "hidden4.add(layers.Dense(192, weights=network4.layers[0].get_weights(), activation='relu'))\n",
    "activations4 = hidden4.predict(X_test_scaled)\n",
    "activations4"
   ]
  },
  {
   "cell_type": "markdown",
   "metadata": {},
   "source": [
    "# building MLP 1 - 32 neurons in hidden layer, Test Acc = 0.9333, CPU Time = 682ms"
   ]
  },
  {
   "cell_type": "code",
   "execution_count": 370,
   "metadata": {},
   "outputs": [],
   "source": [
    "from sklearn.neural_network import MLPClassifier\n",
    "mlp1 = MLPClassifier(hidden_layer_sizes = (32,), max_iter=100, solver = 'sgd', verbose = 10, tol = 1e-4, \n",
    "                     random_state = 23, learning_rate_init=.1)"
   ]
  },
  {
   "cell_type": "code",
   "execution_count": 371,
   "metadata": {},
   "outputs": [
    {
     "name": "stdout",
     "output_type": "stream",
     "text": [
      "Iteration 1, loss = 4.23294293\n",
      "Iteration 2, loss = 2.81002906\n",
      "Iteration 3, loss = 2.01063443\n",
      "Iteration 4, loss = 1.37977834\n",
      "Iteration 5, loss = 1.03233215\n",
      "Iteration 6, loss = 0.81827377\n",
      "Iteration 7, loss = 0.67141365\n",
      "Iteration 8, loss = 0.56787551\n",
      "Iteration 9, loss = 0.49309429\n",
      "Iteration 10, loss = 0.43058598\n",
      "Iteration 11, loss = 0.39241072\n",
      "Iteration 12, loss = 0.36546602\n",
      "Iteration 13, loss = 0.33274475\n",
      "Iteration 14, loss = 0.31601595\n",
      "Iteration 15, loss = 0.30561893\n",
      "Iteration 16, loss = 0.28476319\n",
      "Iteration 17, loss = 0.26685992\n",
      "Iteration 18, loss = 0.26440770\n",
      "Iteration 19, loss = 0.25033887\n",
      "Iteration 20, loss = 0.23663038\n",
      "Iteration 21, loss = 0.23438038\n",
      "Iteration 22, loss = 0.22327646\n",
      "Iteration 23, loss = 0.21170959\n",
      "Iteration 24, loss = 0.20521149\n",
      "Iteration 25, loss = 0.19648069\n",
      "Iteration 26, loss = 0.19168435\n",
      "Iteration 27, loss = 0.18874921\n",
      "Iteration 28, loss = 0.18049271\n",
      "Iteration 29, loss = 0.17721174\n",
      "Iteration 30, loss = 0.17395708\n",
      "Iteration 31, loss = 0.16596821\n",
      "Iteration 32, loss = 0.16038269\n",
      "Iteration 33, loss = 0.16235139\n",
      "Iteration 34, loss = 0.15420596\n",
      "Iteration 35, loss = 0.15102771\n",
      "Iteration 36, loss = 0.14794525\n",
      "Iteration 37, loss = 0.14388406\n",
      "Iteration 38, loss = 0.13876178\n",
      "Iteration 39, loss = 0.13529031\n",
      "Iteration 40, loss = 0.13356543\n",
      "Iteration 41, loss = 0.13012813\n",
      "Iteration 42, loss = 0.12898649\n",
      "Iteration 43, loss = 0.12474526\n",
      "Iteration 44, loss = 0.12263531\n",
      "Iteration 45, loss = 0.11941524\n",
      "Iteration 46, loss = 0.11565733\n",
      "Iteration 47, loss = 0.11422619\n",
      "Iteration 48, loss = 0.11203847\n",
      "Iteration 49, loss = 0.11405768\n",
      "Iteration 50, loss = 0.10792980\n",
      "Iteration 51, loss = 0.10977530\n",
      "Iteration 52, loss = 0.10563667\n",
      "Iteration 53, loss = 0.10529438\n",
      "Iteration 54, loss = 0.10157636\n",
      "Iteration 55, loss = 0.09810424\n",
      "Iteration 56, loss = 0.09549573\n",
      "Iteration 57, loss = 0.09262508\n",
      "Iteration 58, loss = 0.09217891\n",
      "Iteration 59, loss = 0.09363882\n",
      "Iteration 60, loss = 0.09021798\n",
      "Iteration 61, loss = 0.09118075\n",
      "Iteration 62, loss = 0.08840648\n",
      "Iteration 63, loss = 0.08480397\n",
      "Iteration 64, loss = 0.08331702\n",
      "Iteration 65, loss = 0.08138153\n",
      "Iteration 66, loss = 0.07894920\n",
      "Iteration 67, loss = 0.07939017\n",
      "Iteration 68, loss = 0.07837272\n",
      "Iteration 69, loss = 0.07668863\n",
      "Iteration 70, loss = 0.07544456\n",
      "Iteration 71, loss = 0.07286771\n",
      "Iteration 72, loss = 0.07297581\n",
      "Iteration 73, loss = 0.07168445\n",
      "Iteration 74, loss = 0.07035799\n",
      "Iteration 75, loss = 0.06870562\n",
      "Iteration 76, loss = 0.06945096\n",
      "Iteration 77, loss = 0.06574131\n",
      "Iteration 78, loss = 0.06601027\n",
      "Iteration 79, loss = 0.06616521\n",
      "Iteration 80, loss = 0.06569129\n",
      "Iteration 81, loss = 0.06550449\n",
      "Iteration 82, loss = 0.06429163\n",
      "Iteration 83, loss = 0.06175131\n",
      "Iteration 84, loss = 0.06116516\n",
      "Iteration 85, loss = 0.06167194\n",
      "Iteration 86, loss = 0.06107047\n",
      "Iteration 87, loss = 0.05826036\n",
      "Iteration 88, loss = 0.06279034\n",
      "Iteration 89, loss = 0.05818773\n",
      "Iteration 90, loss = 0.05650303\n",
      "Iteration 91, loss = 0.05393549\n",
      "Iteration 92, loss = 0.05367904\n",
      "Iteration 93, loss = 0.05300945\n",
      "Iteration 94, loss = 0.05336924\n",
      "Iteration 95, loss = 0.05647949\n",
      "Iteration 96, loss = 0.05351275\n",
      "Iteration 97, loss = 0.05064504\n",
      "Iteration 98, loss = 0.05029413\n",
      "Iteration 99, loss = 0.04941882\n",
      "Iteration 100, loss = 0.05110790\n",
      "Training score:0.995227\n",
      "Test score:0.933333\n",
      "CPU times: user 682 ms, sys: 76 ms, total: 758 ms\n",
      "Wall time: 383 ms\n"
     ]
    }
   ],
   "source": [
    "%%time\n",
    "mlp1.fit(X_train_scaled, y_train_encode)\n",
    "print(\"Training score:%f\" %mlp1.score(X_train_scaled, y_train_encode))\n",
    "print(\"Test score:%f\" %mlp1.score(X_test_scaled, y_test_encode))"
   ]
  },
  {
   "cell_type": "markdown",
   "metadata": {},
   "source": [
    "Overall, the MLP does show some overfitting and performs worse than our NN's."
   ]
  },
  {
   "cell_type": "code",
   "execution_count": 358,
   "metadata": {},
   "outputs": [
    {
     "data": {
      "image/png": "[encoded data removed]",
      "text/plain": [
       "<Figure size 432x288 with 16 Axes>"
      ]
     },
     "metadata": {
      "needs_background": "light"
     },
     "output_type": "display_data"
    }
   ],
   "source": [
    "# visualize activations\n",
    "fig, axes = plt.subplots(4, 4)\n",
    "# use global min/max to ensure all weights are shown on the same scale\n",
    "vmin, vmax = mlp1.coefs_[0].min(), mlp1.coefs_[0].max()\n",
    "for coef, ax in zip(mlp1.coefs_[0].T, axes.ravel()):\n",
    "  ax.matshow(coef.reshape(8, 8), cmap=plt.cm.gray, vmin=.5 *vmin, vmax = .5* vmax)\n",
    "\n",
    "plt.show()"
   ]
  },
  {
   "cell_type": "markdown",
   "metadata": {},
   "source": [
    "# summary & recommendation\n",
    "\n",
    "Our NN's within Keras performed far better than our MLP within sklearn. Overall, our NN with 192 neurons within the hidden layer (3 times as many inputs) performed the best and had only marginal increases in CPU time. Because our dataset is so small CPU time was not a concern and I could freely work on building the most robust NN possible. \n",
    "\n",
    "Because of these reasons (and if we are only allowed 1 hidden layer) I would recommend the network to have 192 neurons with the relu activation. "
   ]
  },
  {
   "cell_type": "code",
   "execution_count": null,
   "metadata": {},
   "outputs": [],
   "source": []
  }
 ],
 "metadata": {
  "kernelspec": {
   "display_name": "Python 3",
   "language": "python",
   "name": "python3"
  },
  "language_info": {
   "codemirror_mode": {
    "name": "ipython",
    "version": 3
   },
   "file_extension": ".py",
   "mimetype": "text/x-python",
   "name": "python",
   "nbconvert_exporter": "python",
   "pygments_lexer": "ipython3",
   "version": "3.6.6"
  }
 },
 "nbformat": 4,
 "nbformat_minor": 2
}
