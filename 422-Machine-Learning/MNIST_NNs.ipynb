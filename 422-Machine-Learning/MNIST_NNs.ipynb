{
 "cells": [
  {
   "cell_type": "markdown",
   "metadata": {},
   "source": [
    "Michael Haugan <br>\n",
    "MSDS 422 - Winter 2019 <br>\n",
    "Assignment 6: Neural Networks <br>"
   ]
  },
  {
   "cell_type": "markdown",
   "metadata": {},
   "source": [
    "# overview\n",
    "Tested neural network structures should be explored within a benchmark experiment, a factorial design with at least two levels on each of two experimental factors (at least a 2x2 completely crossed design). But due to the time required to fit each neural network, we will observe only one trial for each cell in the design.  You will build your models on train.csv and submit your forecasts for test.csv to Kaggle.com, providing your name and user ID for each experimental trial..\n",
    "\n",
    "An example experiment could include two values for the number of nodes per inner layer and two values for the number of inner layers. Various machine learning hyperparameter settings may be used.\n",
    "\n",
    "Students are encouraged to work in study teams on this assignment, with the understanding that each student must run the code himself/herself and write an independent report of the experimental results. "
   ]
  },
  {
   "cell_type": "markdown",
   "metadata": {},
   "source": [
    "# objective\n",
    "Suppose you are a financial institution evaluating machine learning technologies for optical character recognition. Initial testing is on the MNIST digits. What can you conclude from your benchmark study? Which neural network typology and hyperparameter settings would you recommend as being the most trustworthy?"
   ]
  },
  {
   "cell_type": "markdown",
   "metadata": {},
   "source": [
    "# setup"
   ]
  },
  {
   "cell_type": "code",
   "execution_count": 4,
   "metadata": {},
   "outputs": [],
   "source": [
    "# import packages and set parameters\n",
    "SET_FIT_INTERCEPT = True\n",
    "import numpy as np\n",
    "from scipy.stats import kurtosis\n",
    "from scipy.stats import skew\n",
    "import pandas as pd\n",
    "%matplotlib inline\n",
    "import matplotlib as mpl\n",
    "import matplotlib.pyplot as plt\n",
    "import seaborn as sns\n",
    "import sklearn.linear_model \n",
    "from time import time\n",
    "from sklearn.model_selection import train_test_split\n",
    "from sklearn.linear_model import LinearRegression, Ridge, Lasso, ElasticNet\n",
    "from sklearn.metrics import mean_squared_error, r2_score, make_scorer  \n",
    "from sklearn.model_selection import cross_val_score\n",
    "from sklearn.model_selection import cross_val_predict\n",
    "from sklearn.model_selection import GridSearchCV\n",
    "from sklearn.decomposition import PCA\n",
    "import tensorflow as tf\n",
    "from math import sqrt  # for root mean-squared error calculation\n",
    "\n",
    "#suppress tf.logging\n",
    "import logging\n",
    "logging.getLogger('tensorflow').disabled = True\n",
    "\n",
    "# suppress warning messages\n",
    "def warn(*args, **kwargs):\n",
    "    pass\n",
    "import warnings\n",
    "warnings.warn = warn\n",
    "import warnings\n",
    "warnings.filterwarnings('ignore')"
   ]
  },
  {
   "cell_type": "markdown",
   "metadata": {},
   "source": [
    "# eda"
   ]
  },
  {
   "cell_type": "code",
   "execution_count": 21,
   "metadata": {},
   "outputs": [],
   "source": [
    "# read in train and test data\n",
    "train = pd.read_csv('MNIST_train.csv')\n",
    "test = pd.read_csv(\"MNIST_test.csv\")"
   ]
  },
  {
   "cell_type": "code",
   "execution_count": 3,
   "metadata": {},
   "outputs": [
    {
     "data": {
      "text/html": [
       "<div>\n",
       "<style scoped>\n",
       "    .dataframe tbody tr th:only-of-type {\n",
       "        vertical-align: middle;\n",
       "    }\n",
       "\n",
       "    .dataframe tbody tr th {\n",
       "        vertical-align: top;\n",
       "    }\n",
       "\n",
       "    .dataframe thead th {\n",
       "        text-align: right;\n",
       "    }\n",
       "</style>\n",
       "<table border=\"1\" class=\"dataframe\">\n",
       "  <thead>\n",
       "    <tr style=\"text-align: right;\">\n",
       "      <th></th>\n",
       "      <th>label</th>\n",
       "      <th>pixel0</th>\n",
       "      <th>pixel1</th>\n",
       "      <th>pixel2</th>\n",
       "      <th>pixel3</th>\n",
       "      <th>pixel4</th>\n",
       "      <th>pixel5</th>\n",
       "      <th>pixel6</th>\n",
       "      <th>pixel7</th>\n",
       "      <th>pixel8</th>\n",
       "      <th>...</th>\n",
       "      <th>pixel774</th>\n",
       "      <th>pixel775</th>\n",
       "      <th>pixel776</th>\n",
       "      <th>pixel777</th>\n",
       "      <th>pixel778</th>\n",
       "      <th>pixel779</th>\n",
       "      <th>pixel780</th>\n",
       "      <th>pixel781</th>\n",
       "      <th>pixel782</th>\n",
       "      <th>pixel783</th>\n",
       "    </tr>\n",
       "  </thead>\n",
       "  <tbody>\n",
       "    <tr>\n",
       "      <th>0</th>\n",
       "      <td>1</td>\n",
       "      <td>0</td>\n",
       "      <td>0</td>\n",
       "      <td>0</td>\n",
       "      <td>0</td>\n",
       "      <td>0</td>\n",
       "      <td>0</td>\n",
       "      <td>0</td>\n",
       "      <td>0</td>\n",
       "      <td>0</td>\n",
       "      <td>...</td>\n",
       "      <td>0</td>\n",
       "      <td>0</td>\n",
       "      <td>0</td>\n",
       "      <td>0</td>\n",
       "      <td>0</td>\n",
       "      <td>0</td>\n",
       "      <td>0</td>\n",
       "      <td>0</td>\n",
       "      <td>0</td>\n",
       "      <td>0</td>\n",
       "    </tr>\n",
       "    <tr>\n",
       "      <th>1</th>\n",
       "      <td>0</td>\n",
       "      <td>0</td>\n",
       "      <td>0</td>\n",
       "      <td>0</td>\n",
       "      <td>0</td>\n",
       "      <td>0</td>\n",
       "      <td>0</td>\n",
       "      <td>0</td>\n",
       "      <td>0</td>\n",
       "      <td>0</td>\n",
       "      <td>...</td>\n",
       "      <td>0</td>\n",
       "      <td>0</td>\n",
       "      <td>0</td>\n",
       "      <td>0</td>\n",
       "      <td>0</td>\n",
       "      <td>0</td>\n",
       "      <td>0</td>\n",
       "      <td>0</td>\n",
       "      <td>0</td>\n",
       "      <td>0</td>\n",
       "    </tr>\n",
       "    <tr>\n",
       "      <th>2</th>\n",
       "      <td>1</td>\n",
       "      <td>0</td>\n",
       "      <td>0</td>\n",
       "      <td>0</td>\n",
       "      <td>0</td>\n",
       "      <td>0</td>\n",
       "      <td>0</td>\n",
       "      <td>0</td>\n",
       "      <td>0</td>\n",
       "      <td>0</td>\n",
       "      <td>...</td>\n",
       "      <td>0</td>\n",
       "      <td>0</td>\n",
       "      <td>0</td>\n",
       "      <td>0</td>\n",
       "      <td>0</td>\n",
       "      <td>0</td>\n",
       "      <td>0</td>\n",
       "      <td>0</td>\n",
       "      <td>0</td>\n",
       "      <td>0</td>\n",
       "    </tr>\n",
       "    <tr>\n",
       "      <th>3</th>\n",
       "      <td>4</td>\n",
       "      <td>0</td>\n",
       "      <td>0</td>\n",
       "      <td>0</td>\n",
       "      <td>0</td>\n",
       "      <td>0</td>\n",
       "      <td>0</td>\n",
       "      <td>0</td>\n",
       "      <td>0</td>\n",
       "      <td>0</td>\n",
       "      <td>...</td>\n",
       "      <td>0</td>\n",
       "      <td>0</td>\n",
       "      <td>0</td>\n",
       "      <td>0</td>\n",
       "      <td>0</td>\n",
       "      <td>0</td>\n",
       "      <td>0</td>\n",
       "      <td>0</td>\n",
       "      <td>0</td>\n",
       "      <td>0</td>\n",
       "    </tr>\n",
       "    <tr>\n",
       "      <th>4</th>\n",
       "      <td>0</td>\n",
       "      <td>0</td>\n",
       "      <td>0</td>\n",
       "      <td>0</td>\n",
       "      <td>0</td>\n",
       "      <td>0</td>\n",
       "      <td>0</td>\n",
       "      <td>0</td>\n",
       "      <td>0</td>\n",
       "      <td>0</td>\n",
       "      <td>...</td>\n",
       "      <td>0</td>\n",
       "      <td>0</td>\n",
       "      <td>0</td>\n",
       "      <td>0</td>\n",
       "      <td>0</td>\n",
       "      <td>0</td>\n",
       "      <td>0</td>\n",
       "      <td>0</td>\n",
       "      <td>0</td>\n",
       "      <td>0</td>\n",
       "    </tr>\n",
       "  </tbody>\n",
       "</table>\n",
       "<p>5 rows × 785 columns</p>\n",
       "</div>"
      ],
      "text/plain": [
       "   label  pixel0  pixel1  pixel2  pixel3  pixel4  pixel5  pixel6  pixel7  \\\n",
       "0      1       0       0       0       0       0       0       0       0   \n",
       "1      0       0       0       0       0       0       0       0       0   \n",
       "2      1       0       0       0       0       0       0       0       0   \n",
       "3      4       0       0       0       0       0       0       0       0   \n",
       "4      0       0       0       0       0       0       0       0       0   \n",
       "\n",
       "   pixel8    ...     pixel774  pixel775  pixel776  pixel777  pixel778  \\\n",
       "0       0    ...            0         0         0         0         0   \n",
       "1       0    ...            0         0         0         0         0   \n",
       "2       0    ...            0         0         0         0         0   \n",
       "3       0    ...            0         0         0         0         0   \n",
       "4       0    ...            0         0         0         0         0   \n",
       "\n",
       "   pixel779  pixel780  pixel781  pixel782  pixel783  \n",
       "0         0         0         0         0         0  \n",
       "1         0         0         0         0         0  \n",
       "2         0         0         0         0         0  \n",
       "3         0         0         0         0         0  \n",
       "4         0         0         0         0         0  \n",
       "\n",
       "[5 rows x 785 columns]"
      ]
     },
     "execution_count": 3,
     "metadata": {},
     "output_type": "execute_result"
    }
   ],
   "source": [
    "# view train head\n",
    "train.head()"
   ]
  },
  {
   "cell_type": "code",
   "execution_count": 4,
   "metadata": {},
   "outputs": [
    {
     "name": "stdout",
     "output_type": "stream",
     "text": [
      "<class 'pandas.core.frame.DataFrame'>\n",
      "RangeIndex: 42000 entries, 0 to 41999\n",
      "Columns: 785 entries, label to pixel783\n",
      "dtypes: int64(785)\n",
      "memory usage: 251.5 MB\n"
     ]
    }
   ],
   "source": [
    "# view data types, variables, and sample size for each\n",
    "train.info()"
   ]
  },
  {
   "cell_type": "code",
   "execution_count": 5,
   "metadata": {},
   "outputs": [
    {
     "data": {
      "text/plain": [
       "1    4684\n",
       "7    4401\n",
       "3    4351\n",
       "9    4188\n",
       "2    4177\n",
       "6    4137\n",
       "0    4132\n",
       "4    4072\n",
       "8    4063\n",
       "5    3795\n",
       "Name: label, dtype: int64"
      ]
     },
     "execution_count": 5,
     "metadata": {},
     "output_type": "execute_result"
    }
   ],
   "source": [
    "# how many of each digit?\n",
    "train['label'].value_counts()"
   ]
  },
  {
   "cell_type": "code",
   "execution_count": 22,
   "metadata": {},
   "outputs": [],
   "source": [
    "# create x and y variables\n",
    "X = train.drop(columns=['label'])\n",
    "y = pd.DataFrame(train['label'])"
   ]
  },
  {
   "cell_type": "code",
   "execution_count": 18,
   "metadata": {},
   "outputs": [
    {
     "data": {
      "image/png": "[encoded data removed]",
      "text/plain": [
       "<Figure size 432x288 with 2 Axes>"
      ]
     },
     "metadata": {
      "needs_background": "light"
     },
     "output_type": "display_data"
    }
   ],
   "source": [
    "# view one digit\n",
    "Xarray = X.values\n",
    "some_digit = Xarray[872]\n",
    "some_digit_image = some_digit.reshape(28, 28)\n",
    "plt.figure()\n",
    "plt.imshow(some_digit_image)\n",
    "plt.colorbar()\n",
    "plt.grid(False)\n",
    "plt.show()"
   ]
  },
  {
   "cell_type": "code",
   "execution_count": 19,
   "metadata": {},
   "outputs": [],
   "source": [
    "# because the pixel values will value in the range of 0 to 255 - we need to scale!"
   ]
  },
  {
   "cell_type": "code",
   "execution_count": 20,
   "metadata": {},
   "outputs": [
    {
     "name": "stdout",
     "output_type": "stream",
     "text": [
      "(42000, 1)\n",
      "(28000, 784)\n"
     ]
    }
   ],
   "source": [
    "# view shape of train and test\n",
    "print(y.shape)\n",
    "print(test.shape)"
   ]
  },
  {
   "cell_type": "markdown",
   "metadata": {},
   "source": [
    "# scale train and test x variables and conver to arrays"
   ]
  },
  {
   "cell_type": "code",
   "execution_count": 23,
   "metadata": {},
   "outputs": [],
   "source": [
    "# training set scale and create arrays\n",
    "X_arr = X.values.reshape(-1, 28*28) / 255.0\n",
    "y_arr = y.values"
   ]
  },
  {
   "cell_type": "code",
   "execution_count": 24,
   "metadata": {},
   "outputs": [],
   "source": [
    "# test set scale and create arrays\n",
    "test_arr = test.values.reshape(-1, 28*28) / 255.0"
   ]
  },
  {
   "cell_type": "code",
   "execution_count": 25,
   "metadata": {},
   "outputs": [],
   "source": [
    "# try minmax scaler\n",
    "from sklearn.preprocessing import MinMaxScaler\n",
    "X_arr2 = MinMaxScaler().fit_transform(X)\n",
    "test_arr2 = MinMaxScaler().fit_transform(test)"
   ]
  },
  {
   "cell_type": "markdown",
   "metadata": {},
   "source": [
    "# model building"
   ]
  },
  {
   "cell_type": "markdown",
   "metadata": {},
   "source": [
    "### 2 layers with 10 nodes in each"
   ]
  },
  {
   "cell_type": "code",
   "execution_count": 115,
   "metadata": {},
   "outputs": [
    {
     "name": "stdout",
     "output_type": "stream",
     "text": [
      "Time elapsed: 43.272\n"
     ]
    }
   ],
   "source": [
    "dnn1_start_time = time()\n",
    "\n",
    "feature_cols = [tf.feature_column.numeric_column(\"X\", shape=[28 * 28])]\n",
    "\n",
    "# 2 hidden layers each with 10 neurons, softmax output layer with 10 neurons\n",
    "dnn_clf_1 = tf.estimator.DNNClassifier(hidden_units=[10,10], n_classes=10, feature_columns=feature_cols)\n",
    "\n",
    "input_fn_1 = tf.estimator.inputs.numpy_input_fn(x={\"X\": X_arr}, y=y_arr, num_epochs=50, batch_size=50, \n",
    "                                                 shuffle=True)\n",
    "dnn_clf_1.train(input_fn=input_fn_1)\n",
    "\n",
    "dnn1_elapsed_time = time() - dnn1_start_time\n",
    "print(\"Time elapsed: {:.3f}\".format(dnn1_elapsed_time))"
   ]
  },
  {
   "cell_type": "code",
   "execution_count": 116,
   "metadata": {},
   "outputs": [
    {
     "data": {
      "text/plain": [
       "{'accuracy': 0.94661903,\n",
       " 'average_loss': 0.18002199,\n",
       " 'loss': 22.98153,\n",
       " 'global_step': 42000}"
      ]
     },
     "execution_count": 116,
     "metadata": {},
     "output_type": "execute_result"
    }
   ],
   "source": [
    "# evaluate accuracy on training set\n",
    "train_input_fn_1 = tf.estimator.inputs.numpy_input_fn(x={\"X\": X_arr}, y=y_arr, shuffle=False)\n",
    "eval_results_train_1 = dnn_clf_1.evaluate(input_fn=train_input_fn_1)\n",
    "eval_results_train_1"
   ]
  },
  {
   "cell_type": "code",
   "execution_count": 118,
   "metadata": {},
   "outputs": [
    {
     "name": "stdout",
     "output_type": "stream",
     "text": [
      "\n",
      "Confusion Matrix model 1:\n",
      " [[4015    0   19    3    6   17   41    6   20    5]\n",
      " [   1 4572   20   11   10    7   11   14   36    2]\n",
      " [  21   20 3942   42   33    3   31   35   35   15]\n",
      " [  10    7   71 4042    1   98    8   20   67   27]\n",
      " [   4    6   12    1 3912    2   34    2    8   91]\n",
      " [  41    6    6   60   26 3518   45   10   61   22]\n",
      " [  29    5   18    0   20   35 4012    0   18    0]\n",
      " [   5   18   37   10   25    9    0 4177    6  114]\n",
      " [  18   53   25   67   14   51   40    3 3720   72]\n",
      " [  20    6    7   31  143   19    1   67   46 3848]]\n"
     ]
    }
   ],
   "source": [
    "# confusion matrix\n",
    "train_predictions_1 = dnn_clf_1.predict(input_fn=train_input_fn_1)\n",
    "conf_mat_predictions_1 = [p['class_ids'][0] for p in train_predictions_1]\n",
    "confusion_matrix_1 = tf.confusion_matrix(y_arr, conf_mat_predictions_1)\n",
    "\n",
    "with tf.Session():\n",
    " print('\\nConfusion Matrix model 1:\\n', tf.Tensor.eval(confusion_matrix_1, feed_dict=None, session=None))"
   ]
  },
  {
   "cell_type": "code",
   "execution_count": 119,
   "metadata": {},
   "outputs": [],
   "source": [
    "# predict digits on original test set\n",
    "test_input_fn_1 = tf.estimator.inputs.numpy_input_fn(x={\"X\": test_arr}, y=None, shuffle=False)\n",
    "raw_predictions_1 = dnn_clf_1.predict(input_fn=test_input_fn_1)\n",
    "predictions_1 = [p['class_ids'][0] for p in raw_predictions_1]"
   ]
  },
  {
   "cell_type": "code",
   "execution_count": 123,
   "metadata": {},
   "outputs": [],
   "source": [
    "# create dataframe with test digit predictions\n",
    "dnn_clf_1_predicted_digits = pd.DataFrame()\n",
    "dnn_clf_1_predicted_digits['ImageID'] = pd.Series(range(1,28001))\n",
    "dnn_clf_1_predicted_digits['Label'] = predictions_1"
   ]
  },
  {
   "cell_type": "code",
   "execution_count": 125,
   "metadata": {},
   "outputs": [
    {
     "data": {
      "text/html": [
       "<div>\n",
       "<style scoped>\n",
       "    .dataframe tbody tr th:only-of-type {\n",
       "        vertical-align: middle;\n",
       "    }\n",
       "\n",
       "    .dataframe tbody tr th {\n",
       "        vertical-align: top;\n",
       "    }\n",
       "\n",
       "    .dataframe thead th {\n",
       "        text-align: right;\n",
       "    }\n",
       "</style>\n",
       "<table border=\"1\" class=\"dataframe\">\n",
       "  <thead>\n",
       "    <tr style=\"text-align: right;\">\n",
       "      <th></th>\n",
       "      <th>ImageID</th>\n",
       "      <th>Label</th>\n",
       "    </tr>\n",
       "  </thead>\n",
       "  <tbody>\n",
       "    <tr>\n",
       "      <th>0</th>\n",
       "      <td>1</td>\n",
       "      <td>2</td>\n",
       "    </tr>\n",
       "    <tr>\n",
       "      <th>1</th>\n",
       "      <td>2</td>\n",
       "      <td>0</td>\n",
       "    </tr>\n",
       "    <tr>\n",
       "      <th>2</th>\n",
       "      <td>3</td>\n",
       "      <td>9</td>\n",
       "    </tr>\n",
       "    <tr>\n",
       "      <th>3</th>\n",
       "      <td>4</td>\n",
       "      <td>2</td>\n",
       "    </tr>\n",
       "    <tr>\n",
       "      <th>4</th>\n",
       "      <td>5</td>\n",
       "      <td>3</td>\n",
       "    </tr>\n",
       "  </tbody>\n",
       "</table>\n",
       "</div>"
      ],
      "text/plain": [
       "   ImageID  Label\n",
       "0        1      2\n",
       "1        2      0\n",
       "2        3      9\n",
       "3        4      2\n",
       "4        5      3"
      ]
     },
     "execution_count": 125,
     "metadata": {},
     "output_type": "execute_result"
    }
   ],
   "source": [
    "dnn_clf_1_predicted_digits.head()"
   ]
  },
  {
   "cell_type": "code",
   "execution_count": 126,
   "metadata": {},
   "outputs": [],
   "source": [
    "# write to csv\n",
    "dnn_clf_1_predicted_digits.to_csv(\"MNIST_Submission_dnn_clf_1.csv\", encoding='utf-8', index=False)"
   ]
  },
  {
   "cell_type": "markdown",
   "metadata": {},
   "source": [
    "kaggle score <br>\n",
    "userid: 2682007 <br>\n",
    "score: 0.92642 <br>"
   ]
  },
  {
   "cell_type": "markdown",
   "metadata": {},
   "source": [
    "### 2 layers with 50 nodes in each"
   ]
  },
  {
   "cell_type": "code",
   "execution_count": 127,
   "metadata": {},
   "outputs": [
    {
     "name": "stdout",
     "output_type": "stream",
     "text": [
      "Time elapsed: 49.819\n"
     ]
    }
   ],
   "source": [
    "dnn2_start_time = time()\n",
    "\n",
    "feature_cols = [tf.feature_column.numeric_column(\"X\", shape=[28 * 28])]\n",
    "\n",
    "# 2 hidden layers each with 50 neurons, softmax output layer with 10 neurons\n",
    "dnn_clf_2 = tf.estimator.DNNClassifier(hidden_units=[50,50], n_classes=10, feature_columns=feature_cols)\n",
    "\n",
    "input_fn_2 = tf.estimator.inputs.numpy_input_fn(x={\"X\": X_arr}, y=y_arr, num_epochs=50, batch_size=50, \n",
    "                                                 shuffle=True)\n",
    "dnn_clf_2.train(input_fn=input_fn_2)\n",
    "\n",
    "dnn2_elapsed_time = time() - dnn2_start_time\n",
    "print(\"Time elapsed: {:.3f}\".format(dnn2_elapsed_time))"
   ]
  },
  {
   "cell_type": "code",
   "execution_count": 128,
   "metadata": {},
   "outputs": [
    {
     "data": {
      "text/plain": [
       "{'accuracy': 0.99878573,\n",
       " 'average_loss': 0.009379443,\n",
       " 'loss': 1.1973758,\n",
       " 'global_step': 42000}"
      ]
     },
     "execution_count": 128,
     "metadata": {},
     "output_type": "execute_result"
    }
   ],
   "source": [
    "# evaluate accuracy on training set\n",
    "train_input_fn_2 = tf.estimator.inputs.numpy_input_fn(x={\"X\": X_arr}, y=y_arr, shuffle=False)\n",
    "eval_results_train_2 = dnn_clf_2.evaluate(input_fn=train_input_fn_2)\n",
    "eval_results_train_2"
   ]
  },
  {
   "cell_type": "code",
   "execution_count": 129,
   "metadata": {},
   "outputs": [
    {
     "name": "stdout",
     "output_type": "stream",
     "text": [
      "\n",
      "Confusion Matrix model 1:\n",
      " [[4131    0    0    0    0    0    0    0    1    0]\n",
      " [   0 4683    0    0    0    0    0    0    1    0]\n",
      " [   0    1 4173    0    0    0    0    1    2    0]\n",
      " [   1    0    2 4336    0    6    0    0    3    3]\n",
      " [   0    0    0    0 4071    0    0    0    0    1]\n",
      " [   0    0    0    2    0 3792    0    0    1    0]\n",
      " [   2    0    0    0    0    1 4133    0    1    0]\n",
      " [   0    2    2    1    0    0    0 4394    1    1]\n",
      " [   0    2    1    1    0    0    1    0 4056    2]\n",
      " [   3    0    0    0    1    1    0    1    2 4180]]\n"
     ]
    }
   ],
   "source": [
    "# confusion matrix\n",
    "train_predictions_2 = dnn_clf_2.predict(input_fn=train_input_fn_2)\n",
    "conf_mat_predictions_2 = [p['class_ids'][0] for p in train_predictions_2]\n",
    "confusion_matrix_2 = tf.confusion_matrix(y_arr, conf_mat_predictions_2)\n",
    "\n",
    "with tf.Session():\n",
    " print('\\nConfusion Matrix model 1:\\n', tf.Tensor.eval(confusion_matrix_2, feed_dict=None, session=None))"
   ]
  },
  {
   "cell_type": "code",
   "execution_count": 130,
   "metadata": {},
   "outputs": [],
   "source": [
    "# predict digits on original test set\n",
    "test_input_fn_2 = tf.estimator.inputs.numpy_input_fn(x={\"X\": test_arr}, y=None, shuffle=False)\n",
    "raw_predictions_2 = dnn_clf_2.predict(input_fn=test_input_fn_2)\n",
    "predictions_2 = [p['class_ids'][0] for p in raw_predictions_2]"
   ]
  },
  {
   "cell_type": "code",
   "execution_count": 131,
   "metadata": {},
   "outputs": [],
   "source": [
    "# create dataframe with test digit predictions\n",
    "dnn_clf_2_predicted_digits = pd.DataFrame()\n",
    "dnn_clf_2_predicted_digits['ImageID'] = pd.Series(range(1,28001))\n",
    "dnn_clf_2_predicted_digits['Label'] = predictions_2"
   ]
  },
  {
   "cell_type": "code",
   "execution_count": 132,
   "metadata": {},
   "outputs": [
    {
     "data": {
      "text/html": [
       "<div>\n",
       "<style scoped>\n",
       "    .dataframe tbody tr th:only-of-type {\n",
       "        vertical-align: middle;\n",
       "    }\n",
       "\n",
       "    .dataframe tbody tr th {\n",
       "        vertical-align: top;\n",
       "    }\n",
       "\n",
       "    .dataframe thead th {\n",
       "        text-align: right;\n",
       "    }\n",
       "</style>\n",
       "<table border=\"1\" class=\"dataframe\">\n",
       "  <thead>\n",
       "    <tr style=\"text-align: right;\">\n",
       "      <th></th>\n",
       "      <th>ImageID</th>\n",
       "      <th>Label</th>\n",
       "    </tr>\n",
       "  </thead>\n",
       "  <tbody>\n",
       "    <tr>\n",
       "      <th>0</th>\n",
       "      <td>1</td>\n",
       "      <td>2</td>\n",
       "    </tr>\n",
       "    <tr>\n",
       "      <th>1</th>\n",
       "      <td>2</td>\n",
       "      <td>0</td>\n",
       "    </tr>\n",
       "    <tr>\n",
       "      <th>2</th>\n",
       "      <td>3</td>\n",
       "      <td>9</td>\n",
       "    </tr>\n",
       "    <tr>\n",
       "      <th>3</th>\n",
       "      <td>4</td>\n",
       "      <td>0</td>\n",
       "    </tr>\n",
       "    <tr>\n",
       "      <th>4</th>\n",
       "      <td>5</td>\n",
       "      <td>3</td>\n",
       "    </tr>\n",
       "  </tbody>\n",
       "</table>\n",
       "</div>"
      ],
      "text/plain": [
       "   ImageID  Label\n",
       "0        1      2\n",
       "1        2      0\n",
       "2        3      9\n",
       "3        4      0\n",
       "4        5      3"
      ]
     },
     "execution_count": 132,
     "metadata": {},
     "output_type": "execute_result"
    }
   ],
   "source": [
    "dnn_clf_2_predicted_digits.head()"
   ]
  },
  {
   "cell_type": "code",
   "execution_count": 133,
   "metadata": {},
   "outputs": [],
   "source": [
    "# write to csv\n",
    "dnn_clf_2_predicted_digits.to_csv(\"MNIST_Submission_dnn_clf_2.csv\", encoding='utf-8', index=False)"
   ]
  },
  {
   "cell_type": "markdown",
   "metadata": {},
   "source": [
    "kaggle score <br>\n",
    "userid: 2682007 <br>\n",
    "score: 0.96585 <br>"
   ]
  },
  {
   "cell_type": "markdown",
   "metadata": {},
   "source": [
    "### 5 layers with 10 nodes in each"
   ]
  },
  {
   "cell_type": "code",
   "execution_count": 134,
   "metadata": {},
   "outputs": [
    {
     "name": "stdout",
     "output_type": "stream",
     "text": [
      "Time elapsed: 46.852\n"
     ]
    }
   ],
   "source": [
    "dnn3_start_time = time()\n",
    "\n",
    "feature_cols = [tf.feature_column.numeric_column(\"X\", shape=[28 * 28])]\n",
    "\n",
    "# 5 hidden layers each with 10 neurons, softmax output layer with 10 neurons\n",
    "dnn_clf_3 = tf.estimator.DNNClassifier(hidden_units=[10,10,10,10,10], n_classes=10, feature_columns=feature_cols)\n",
    "\n",
    "input_fn_3 = tf.estimator.inputs.numpy_input_fn(x={\"X\": X_arr}, y=y_arr, num_epochs=50, batch_size=50, \n",
    "                                                 shuffle=True)\n",
    "dnn_clf_3.train(input_fn=input_fn_3)\n",
    "\n",
    "dnn3_elapsed_time = time() - dnn3_start_time\n",
    "print(\"Time elapsed: {:.3f}\".format(dnn3_elapsed_time))"
   ]
  },
  {
   "cell_type": "code",
   "execution_count": 135,
   "metadata": {},
   "outputs": [
    {
     "data": {
      "text/plain": [
       "{'accuracy': 0.9195,\n",
       " 'average_loss': 0.2729888,\n",
       " 'loss': 34.849632,\n",
       " 'global_step': 42000}"
      ]
     },
     "execution_count": 135,
     "metadata": {},
     "output_type": "execute_result"
    }
   ],
   "source": [
    "# evaluate accuracy on training set\n",
    "train_input_fn_3 = tf.estimator.inputs.numpy_input_fn(x={\"X\": X_arr}, y=y_arr, shuffle=False)\n",
    "eval_results_train_3 = dnn_clf_3.evaluate(input_fn=train_input_fn_3)\n",
    "eval_results_train_3"
   ]
  },
  {
   "cell_type": "code",
   "execution_count": 136,
   "metadata": {},
   "outputs": [
    {
     "name": "stdout",
     "output_type": "stream",
     "text": [
      "\n",
      "Confusion Matrix model 1:\n",
      " [[3937    0   18    6   18   72   61   13    7    0]\n",
      " [   1 4573   24    5    8    7    3   10   46    7]\n",
      " [  34   26 3829   39   44   35   73   49   46    2]\n",
      " [  10    1  132 3751    7  239    5   39  144   23]\n",
      " [  11   10    7    0 3813    4   55   12   10  150]\n",
      " [  52    0   21  160   72 3206   44   12  209   19]\n",
      " [  36    4   17    0   32   33 3998    0   17    0]\n",
      " [  12   14   32   15   33    3    0 4202    3   87]\n",
      " [   7   37   27   92   53  174   25   14 3620   14]\n",
      " [  19    9    1   37  220   41    0  145   26 3690]]\n"
     ]
    }
   ],
   "source": [
    "# confusion matrix\n",
    "train_predictions_3 = dnn_clf_3.predict(input_fn=train_input_fn_3)\n",
    "conf_mat_predictions_3 = [p['class_ids'][0] for p in train_predictions_3]\n",
    "confusion_matrix_3 = tf.confusion_matrix(y_arr, conf_mat_predictions_3)\n",
    "\n",
    "with tf.Session():\n",
    " print('\\nConfusion Matrix model 1:\\n', tf.Tensor.eval(confusion_matrix_3, feed_dict=None, session=None))"
   ]
  },
  {
   "cell_type": "code",
   "execution_count": 137,
   "metadata": {},
   "outputs": [],
   "source": [
    "# predict digits on original test set\n",
    "test_input_fn_3 = tf.estimator.inputs.numpy_input_fn(x={\"X\": test_arr}, y=None, shuffle=False)\n",
    "raw_predictions_3 = dnn_clf_3.predict(input_fn=test_input_fn_3)\n",
    "predictions_3 = [p['class_ids'][0] for p in raw_predictions_3]"
   ]
  },
  {
   "cell_type": "code",
   "execution_count": 138,
   "metadata": {},
   "outputs": [],
   "source": [
    "# create dataframe with test digit predictions\n",
    "dnn_clf_3_predicted_digits = pd.DataFrame()\n",
    "dnn_clf_3_predicted_digits['ImageID'] = pd.Series(range(1,28001))\n",
    "dnn_clf_3_predicted_digits['Label'] = predictions_3"
   ]
  },
  {
   "cell_type": "code",
   "execution_count": 139,
   "metadata": {},
   "outputs": [
    {
     "data": {
      "text/html": [
       "<div>\n",
       "<style scoped>\n",
       "    .dataframe tbody tr th:only-of-type {\n",
       "        vertical-align: middle;\n",
       "    }\n",
       "\n",
       "    .dataframe tbody tr th {\n",
       "        vertical-align: top;\n",
       "    }\n",
       "\n",
       "    .dataframe thead th {\n",
       "        text-align: right;\n",
       "    }\n",
       "</style>\n",
       "<table border=\"1\" class=\"dataframe\">\n",
       "  <thead>\n",
       "    <tr style=\"text-align: right;\">\n",
       "      <th></th>\n",
       "      <th>ImageID</th>\n",
       "      <th>Label</th>\n",
       "    </tr>\n",
       "  </thead>\n",
       "  <tbody>\n",
       "    <tr>\n",
       "      <th>0</th>\n",
       "      <td>1</td>\n",
       "      <td>2</td>\n",
       "    </tr>\n",
       "    <tr>\n",
       "      <th>1</th>\n",
       "      <td>2</td>\n",
       "      <td>0</td>\n",
       "    </tr>\n",
       "    <tr>\n",
       "      <th>2</th>\n",
       "      <td>3</td>\n",
       "      <td>4</td>\n",
       "    </tr>\n",
       "    <tr>\n",
       "      <th>3</th>\n",
       "      <td>4</td>\n",
       "      <td>4</td>\n",
       "    </tr>\n",
       "    <tr>\n",
       "      <th>4</th>\n",
       "      <td>5</td>\n",
       "      <td>3</td>\n",
       "    </tr>\n",
       "  </tbody>\n",
       "</table>\n",
       "</div>"
      ],
      "text/plain": [
       "   ImageID  Label\n",
       "0        1      2\n",
       "1        2      0\n",
       "2        3      4\n",
       "3        4      4\n",
       "4        5      3"
      ]
     },
     "execution_count": 139,
     "metadata": {},
     "output_type": "execute_result"
    }
   ],
   "source": [
    "dnn_clf_3_predicted_digits.head()"
   ]
  },
  {
   "cell_type": "code",
   "execution_count": 140,
   "metadata": {},
   "outputs": [],
   "source": [
    "# write to csv\n",
    "dnn_clf_3_predicted_digits.to_csv(\"MNIST_Submission_dnn_clf_3.csv\", encoding='utf-8', index=False)"
   ]
  },
  {
   "cell_type": "markdown",
   "metadata": {},
   "source": [
    "kaggle score <br>\n",
    "userid: 2682007 <br>\n",
    "score: 0.89814 <br>"
   ]
  },
  {
   "cell_type": "markdown",
   "metadata": {},
   "source": [
    "### 5 layers with 50 nodes in each"
   ]
  },
  {
   "cell_type": "code",
   "execution_count": 142,
   "metadata": {},
   "outputs": [
    {
     "name": "stdout",
     "output_type": "stream",
     "text": [
      "Time elapsed: 59.391\n"
     ]
    }
   ],
   "source": [
    "dnn4_start_time = time()\n",
    "\n",
    "feature_cols = [tf.feature_column.numeric_column(\"X\", shape=[28 * 28])]\n",
    "\n",
    "# 5 hidden layers each with 50 neurons, softmax output layer with 10 neurons\n",
    "dnn_clf_4 = tf.estimator.DNNClassifier(hidden_units=[50,50,50,50,50], n_classes=10, feature_columns=feature_cols)\n",
    "\n",
    "input_fn_4 = tf.estimator.inputs.numpy_input_fn(x={\"X\": X_arr}, y=y_arr, num_epochs=50, batch_size=50, \n",
    "                                                 shuffle=True)\n",
    "dnn_clf_4.train(input_fn=input_fn_4)\n",
    "\n",
    "dnn4_elapsed_time = time() - dnn4_start_time\n",
    "print(\"Time elapsed: {:.3f}\".format(dnn4_elapsed_time))"
   ]
  },
  {
   "cell_type": "code",
   "execution_count": 143,
   "metadata": {},
   "outputs": [
    {
     "data": {
      "text/plain": [
       "{'accuracy': 0.9989762,\n",
       " 'average_loss': 0.004706758,\n",
       " 'loss': 0.60086274,\n",
       " 'global_step': 42000}"
      ]
     },
     "execution_count": 143,
     "metadata": {},
     "output_type": "execute_result"
    }
   ],
   "source": [
    "# evaluate accuracy on training set\n",
    "train_input_fn_4 = tf.estimator.inputs.numpy_input_fn(x={\"X\": X_arr}, y=y_arr, shuffle=False)\n",
    "eval_results_train_4 = dnn_clf_4.evaluate(input_fn=train_input_fn_4)\n",
    "eval_results_train_4"
   ]
  },
  {
   "cell_type": "code",
   "execution_count": 144,
   "metadata": {},
   "outputs": [
    {
     "name": "stdout",
     "output_type": "stream",
     "text": [
      "\n",
      "Confusion Matrix model 1:\n",
      " [[4125    0    3    0    0    0    2    0    2    0]\n",
      " [   0 4682    0    0    0    0    0    0    2    0]\n",
      " [   0    0 4175    1    0    0    0    0    1    0]\n",
      " [   0    0    4 4342    0    0    0    0    3    2]\n",
      " [   2    0    1    0 4067    0    0    0    1    1]\n",
      " [   4    0    0    1    0 3790    0    0    0    0]\n",
      " [   1    0    0    0    0    0 4136    0    0    0]\n",
      " [   0    0    2    0    0    0    0 4399    0    0]\n",
      " [   0    0    0    0    0    0    0    0 4063    0]\n",
      " [   5    0    0    1    0    1    0    1    2 4178]]\n"
     ]
    }
   ],
   "source": [
    "# confusion matrix\n",
    "train_predictions_4 = dnn_clf_4.predict(input_fn=train_input_fn_4)\n",
    "conf_mat_predictions_4 = [p['class_ids'][0] for p in train_predictions_4]\n",
    "confusion_matrix_4 = tf.confusion_matrix(y_arr, conf_mat_predictions_4)\n",
    "\n",
    "with tf.Session():\n",
    " print('\\nConfusion Matrix model 1:\\n', tf.Tensor.eval(confusion_matrix_4, feed_dict=None, session=None))"
   ]
  },
  {
   "cell_type": "code",
   "execution_count": 145,
   "metadata": {},
   "outputs": [],
   "source": [
    "# predict digits on original test set\n",
    "test_input_fn_4 = tf.estimator.inputs.numpy_input_fn(x={\"X\": test_arr}, y=None, shuffle=False)\n",
    "raw_predictions_4 = dnn_clf_4.predict(input_fn=test_input_fn_4)\n",
    "predictions_4 = [p['class_ids'][0] for p in raw_predictions_4]"
   ]
  },
  {
   "cell_type": "code",
   "execution_count": 146,
   "metadata": {},
   "outputs": [],
   "source": [
    "# create dataframe with test digit predictions\n",
    "dnn_clf_4_predicted_digits = pd.DataFrame()\n",
    "dnn_clf_4_predicted_digits['ImageID'] = pd.Series(range(1,28001))\n",
    "dnn_clf_4_predicted_digits['Label'] = predictions_4"
   ]
  },
  {
   "cell_type": "code",
   "execution_count": 147,
   "metadata": {},
   "outputs": [
    {
     "data": {
      "text/html": [
       "<div>\n",
       "<style scoped>\n",
       "    .dataframe tbody tr th:only-of-type {\n",
       "        vertical-align: middle;\n",
       "    }\n",
       "\n",
       "    .dataframe tbody tr th {\n",
       "        vertical-align: top;\n",
       "    }\n",
       "\n",
       "    .dataframe thead th {\n",
       "        text-align: right;\n",
       "    }\n",
       "</style>\n",
       "<table border=\"1\" class=\"dataframe\">\n",
       "  <thead>\n",
       "    <tr style=\"text-align: right;\">\n",
       "      <th></th>\n",
       "      <th>ImageID</th>\n",
       "      <th>Label</th>\n",
       "    </tr>\n",
       "  </thead>\n",
       "  <tbody>\n",
       "    <tr>\n",
       "      <th>0</th>\n",
       "      <td>1</td>\n",
       "      <td>2</td>\n",
       "    </tr>\n",
       "    <tr>\n",
       "      <th>1</th>\n",
       "      <td>2</td>\n",
       "      <td>0</td>\n",
       "    </tr>\n",
       "    <tr>\n",
       "      <th>2</th>\n",
       "      <td>3</td>\n",
       "      <td>9</td>\n",
       "    </tr>\n",
       "    <tr>\n",
       "      <th>3</th>\n",
       "      <td>4</td>\n",
       "      <td>2</td>\n",
       "    </tr>\n",
       "    <tr>\n",
       "      <th>4</th>\n",
       "      <td>5</td>\n",
       "      <td>3</td>\n",
       "    </tr>\n",
       "  </tbody>\n",
       "</table>\n",
       "</div>"
      ],
      "text/plain": [
       "   ImageID  Label\n",
       "0        1      2\n",
       "1        2      0\n",
       "2        3      9\n",
       "3        4      2\n",
       "4        5      3"
      ]
     },
     "execution_count": 147,
     "metadata": {},
     "output_type": "execute_result"
    }
   ],
   "source": [
    "dnn_clf_4_predicted_digits.head()"
   ]
  },
  {
   "cell_type": "code",
   "execution_count": 148,
   "metadata": {},
   "outputs": [],
   "source": [
    "# write to csv\n",
    "dnn_clf_4_predicted_digits.to_csv(\"MNIST_Submission_dnn_clf_4.csv\", encoding='utf-8', index=False)"
   ]
  },
  {
   "cell_type": "markdown",
   "metadata": {},
   "source": [
    "kaggle score <br>\n",
    "userid: 2682007 <br>\n",
    "score: 0.95985 <br>"
   ]
  },
  {
   "cell_type": "markdown",
   "metadata": {},
   "source": [
    "### 2 layers with 500 nodes in each"
   ]
  },
  {
   "cell_type": "code",
   "execution_count": 149,
   "metadata": {},
   "outputs": [
    {
     "name": "stdout",
     "output_type": "stream",
     "text": [
      "Time elapsed: 150.087\n"
     ]
    }
   ],
   "source": [
    "dnn5_start_time = time()\n",
    "\n",
    "feature_cols = [tf.feature_column.numeric_column(\"X\", shape=[28 * 28])]\n",
    "\n",
    "# 2 hidden layers each with 500 neurons, softmax output layer with 10 neurons\n",
    "dnn_clf_5 = tf.estimator.DNNClassifier(hidden_units=[500,500], n_classes=10, feature_columns=feature_cols)\n",
    "\n",
    "input_fn_5 = tf.estimator.inputs.numpy_input_fn(x={\"X\": X_arr}, y=y_arr, num_epochs=50, batch_size=50, \n",
    "                                                 shuffle=True)\n",
    "dnn_clf_5.train(input_fn=input_fn_5)\n",
    "\n",
    "dnn5_elapsed_time = time() - dnn5_start_time\n",
    "print(\"Time elapsed: {:.3f}\".format(dnn5_elapsed_time))"
   ]
  },
  {
   "cell_type": "code",
   "execution_count": 150,
   "metadata": {},
   "outputs": [
    {
     "data": {
      "text/plain": [
       "{'accuracy': 1.0,\n",
       " 'average_loss': 0.00012702997,\n",
       " 'loss': 0.016216593,\n",
       " 'global_step': 42000}"
      ]
     },
     "execution_count": 150,
     "metadata": {},
     "output_type": "execute_result"
    }
   ],
   "source": [
    "# evaluate accuracy on training set\n",
    "train_input_fn_5 = tf.estimator.inputs.numpy_input_fn(x={\"X\": X_arr}, y=y_arr, shuffle=False)\n",
    "eval_results_train_5 = dnn_clf_5.evaluate(input_fn=train_input_fn_5)\n",
    "eval_results_train_5"
   ]
  },
  {
   "cell_type": "code",
   "execution_count": 151,
   "metadata": {},
   "outputs": [
    {
     "name": "stdout",
     "output_type": "stream",
     "text": [
      "\n",
      "Confusion Matrix model 1:\n",
      " [[4132    0    0    0    0    0    0    0    0    0]\n",
      " [   0 4684    0    0    0    0    0    0    0    0]\n",
      " [   0    0 4177    0    0    0    0    0    0    0]\n",
      " [   0    0    0 4351    0    0    0    0    0    0]\n",
      " [   0    0    0    0 4072    0    0    0    0    0]\n",
      " [   0    0    0    0    0 3795    0    0    0    0]\n",
      " [   0    0    0    0    0    0 4137    0    0    0]\n",
      " [   0    0    0    0    0    0    0 4401    0    0]\n",
      " [   0    0    0    0    0    0    0    0 4063    0]\n",
      " [   0    0    0    0    0    0    0    0    0 4188]]\n"
     ]
    }
   ],
   "source": [
    "# confusion matrix\n",
    "train_predictions_5 = dnn_clf_5.predict(input_fn=train_input_fn_5)\n",
    "conf_mat_predictions_5 = [p['class_ids'][0] for p in train_predictions_5]\n",
    "confusion_matrix_5 = tf.confusion_matrix(y_arr, conf_mat_predictions_5)\n",
    "\n",
    "with tf.Session():\n",
    " print('\\nConfusion Matrix model 1:\\n', tf.Tensor.eval(confusion_matrix_5, feed_dict=None, session=None))"
   ]
  },
  {
   "cell_type": "code",
   "execution_count": 152,
   "metadata": {},
   "outputs": [],
   "source": [
    "# predict digits on original test set\n",
    "test_input_fn_5 = tf.estimator.inputs.numpy_input_fn(x={\"X\": test_arr}, y=None, shuffle=False)\n",
    "raw_predictions_5 = dnn_clf_5.predict(input_fn=test_input_fn_5)\n",
    "predictions_5 = [p['class_ids'][0] for p in raw_predictions_5]"
   ]
  },
  {
   "cell_type": "code",
   "execution_count": 153,
   "metadata": {},
   "outputs": [],
   "source": [
    "# create dataframe with test digit predictions\n",
    "dnn_clf_5_predicted_digits = pd.DataFrame()\n",
    "dnn_clf_5_predicted_digits['ImageID'] = pd.Series(range(1,28001))\n",
    "dnn_clf_5_predicted_digits['Label'] = predictions_5"
   ]
  },
  {
   "cell_type": "code",
   "execution_count": 154,
   "metadata": {},
   "outputs": [
    {
     "data": {
      "text/html": [
       "<div>\n",
       "<style scoped>\n",
       "    .dataframe tbody tr th:only-of-type {\n",
       "        vertical-align: middle;\n",
       "    }\n",
       "\n",
       "    .dataframe tbody tr th {\n",
       "        vertical-align: top;\n",
       "    }\n",
       "\n",
       "    .dataframe thead th {\n",
       "        text-align: right;\n",
       "    }\n",
       "</style>\n",
       "<table border=\"1\" class=\"dataframe\">\n",
       "  <thead>\n",
       "    <tr style=\"text-align: right;\">\n",
       "      <th></th>\n",
       "      <th>ImageID</th>\n",
       "      <th>Label</th>\n",
       "    </tr>\n",
       "  </thead>\n",
       "  <tbody>\n",
       "    <tr>\n",
       "      <th>0</th>\n",
       "      <td>1</td>\n",
       "      <td>2</td>\n",
       "    </tr>\n",
       "    <tr>\n",
       "      <th>1</th>\n",
       "      <td>2</td>\n",
       "      <td>0</td>\n",
       "    </tr>\n",
       "    <tr>\n",
       "      <th>2</th>\n",
       "      <td>3</td>\n",
       "      <td>9</td>\n",
       "    </tr>\n",
       "    <tr>\n",
       "      <th>3</th>\n",
       "      <td>4</td>\n",
       "      <td>9</td>\n",
       "    </tr>\n",
       "    <tr>\n",
       "      <th>4</th>\n",
       "      <td>5</td>\n",
       "      <td>3</td>\n",
       "    </tr>\n",
       "  </tbody>\n",
       "</table>\n",
       "</div>"
      ],
      "text/plain": [
       "   ImageID  Label\n",
       "0        1      2\n",
       "1        2      0\n",
       "2        3      9\n",
       "3        4      9\n",
       "4        5      3"
      ]
     },
     "execution_count": 154,
     "metadata": {},
     "output_type": "execute_result"
    }
   ],
   "source": [
    "dnn_clf_5_predicted_digits.head()"
   ]
  },
  {
   "cell_type": "code",
   "execution_count": 155,
   "metadata": {},
   "outputs": [],
   "source": [
    "# write to csv\n",
    "dnn_clf_5_predicted_digits.to_csv(\"MNIST_Submission_dnn_clf_5.csv\", encoding='utf-8', index=False)"
   ]
  },
  {
   "cell_type": "markdown",
   "metadata": {},
   "source": [
    "kaggle score <br>\n",
    "userid: 2682007 <br>\n",
    "score: 0.97442 <br>"
   ]
  },
  {
   "cell_type": "markdown",
   "metadata": {},
   "source": [
    "### 3 layers with 500 nodes each"
   ]
  },
  {
   "cell_type": "code",
   "execution_count": 164,
   "metadata": {},
   "outputs": [
    {
     "name": "stdout",
     "output_type": "stream",
     "text": [
      "Time elapsed: 216.714\n"
     ]
    }
   ],
   "source": [
    "dnn6_start_time = time()\n",
    "\n",
    "feature_cols = [tf.feature_column.numeric_column(\"X\", shape=[28 * 28])]\n",
    "\n",
    "# 3 hidden layers each with 500 neurons, softmax output layer with 10 neurons\n",
    "dnn_clf_6 = tf.estimator.DNNClassifier(hidden_units=[500,500,500], n_classes=10, feature_columns=feature_cols)\n",
    "\n",
    "input_fn_6 = tf.estimator.inputs.numpy_input_fn(x={\"X\": X_arr}, y=y_arr, num_epochs=50, batch_size=50, \n",
    "                                                 shuffle=True)\n",
    "dnn_clf_6.train(input_fn=input_fn_6)\n",
    "\n",
    "dnn6_elapsed_time = time() - dnn6_start_time\n",
    "print(\"Time elapsed: {:.3f}\".format(dnn6_elapsed_time))"
   ]
  },
  {
   "cell_type": "code",
   "execution_count": 165,
   "metadata": {},
   "outputs": [
    {
     "data": {
      "text/plain": [
       "{'accuracy': 1.0,\n",
       " 'average_loss': 5.34969e-05,\n",
       " 'loss': 0.0068293917,\n",
       " 'global_step': 42000}"
      ]
     },
     "execution_count": 165,
     "metadata": {},
     "output_type": "execute_result"
    }
   ],
   "source": [
    "# evaluate accuracy on training set\n",
    "train_input_fn_6 = tf.estimator.inputs.numpy_input_fn(x={\"X\": X_arr}, y=y_arr, shuffle=False)\n",
    "eval_results_train_6 = dnn_clf_6.evaluate(input_fn=train_input_fn_6)\n",
    "eval_results_train_6"
   ]
  },
  {
   "cell_type": "code",
   "execution_count": 166,
   "metadata": {},
   "outputs": [],
   "source": [
    "# predict digits on original test set\n",
    "test_input_fn_6 = tf.estimator.inputs.numpy_input_fn(x={\"X\": test_arr}, y=None, shuffle=False)\n",
    "raw_predictions_6 = dnn_clf_6.predict(input_fn=test_input_fn_6)\n",
    "predictions_6 = [p['class_ids'][0] for p in raw_predictions_6]"
   ]
  },
  {
   "cell_type": "code",
   "execution_count": 167,
   "metadata": {},
   "outputs": [],
   "source": [
    "# create dataframe with test digit predictions\n",
    "dnn_clf_6_predicted_digits = pd.DataFrame()\n",
    "dnn_clf_6_predicted_digits['ImageID'] = pd.Series(range(1,28001))\n",
    "dnn_clf_6_predicted_digits['Label'] = predictions_6"
   ]
  },
  {
   "cell_type": "code",
   "execution_count": 168,
   "metadata": {},
   "outputs": [
    {
     "data": {
      "text/html": [
       "<div>\n",
       "<style scoped>\n",
       "    .dataframe tbody tr th:only-of-type {\n",
       "        vertical-align: middle;\n",
       "    }\n",
       "\n",
       "    .dataframe tbody tr th {\n",
       "        vertical-align: top;\n",
       "    }\n",
       "\n",
       "    .dataframe thead th {\n",
       "        text-align: right;\n",
       "    }\n",
       "</style>\n",
       "<table border=\"1\" class=\"dataframe\">\n",
       "  <thead>\n",
       "    <tr style=\"text-align: right;\">\n",
       "      <th></th>\n",
       "      <th>ImageID</th>\n",
       "      <th>Label</th>\n",
       "    </tr>\n",
       "  </thead>\n",
       "  <tbody>\n",
       "    <tr>\n",
       "      <th>0</th>\n",
       "      <td>1</td>\n",
       "      <td>2</td>\n",
       "    </tr>\n",
       "    <tr>\n",
       "      <th>1</th>\n",
       "      <td>2</td>\n",
       "      <td>0</td>\n",
       "    </tr>\n",
       "    <tr>\n",
       "      <th>2</th>\n",
       "      <td>3</td>\n",
       "      <td>9</td>\n",
       "    </tr>\n",
       "    <tr>\n",
       "      <th>3</th>\n",
       "      <td>4</td>\n",
       "      <td>0</td>\n",
       "    </tr>\n",
       "    <tr>\n",
       "      <th>4</th>\n",
       "      <td>5</td>\n",
       "      <td>3</td>\n",
       "    </tr>\n",
       "  </tbody>\n",
       "</table>\n",
       "</div>"
      ],
      "text/plain": [
       "   ImageID  Label\n",
       "0        1      2\n",
       "1        2      0\n",
       "2        3      9\n",
       "3        4      0\n",
       "4        5      3"
      ]
     },
     "execution_count": 168,
     "metadata": {},
     "output_type": "execute_result"
    }
   ],
   "source": [
    "dnn_clf_6_predicted_digits.head()"
   ]
  },
  {
   "cell_type": "code",
   "execution_count": 169,
   "metadata": {},
   "outputs": [],
   "source": [
    "# write to csv\n",
    "dnn_clf_6_predicted_digits.to_csv(\"MNIST_Submission_dnn_clf_6.csv\", encoding='utf-8', index=False)"
   ]
  },
  {
   "cell_type": "markdown",
   "metadata": {},
   "source": [
    "kaggle score <br>\n",
    "userid: 2682007 <br>\n",
    "score: 0.97328 <br>"
   ]
  },
  {
   "cell_type": "markdown",
   "metadata": {},
   "source": [
    "### 2 layers with 1000 and 500 "
   ]
  },
  {
   "cell_type": "code",
   "execution_count": 32,
   "metadata": {},
   "outputs": [
    {
     "name": "stdout",
     "output_type": "stream",
     "text": [
      "Time elapsed: 244.305\n"
     ]
    }
   ],
   "source": [
    "dnn7_start_time = time()\n",
    "\n",
    "feature_cols = [tf.feature_column.numeric_column(\"X\", shape=[28 * 28])]\n",
    "\n",
    "# 2 hidden layers each with 1000 neurons, softmax output layer with 10 neurons\n",
    "dnn_clf_7 = tf.estimator.DNNClassifier(hidden_units=[1000,500], n_classes=10, feature_columns=feature_cols)\n",
    "\n",
    "input_fn_7 = tf.estimator.inputs.numpy_input_fn(x={\"X\": X_arr}, y=y_arr, num_epochs=50, batch_size=50, \n",
    "                                                 shuffle=True)\n",
    "dnn_clf_7.train(input_fn=input_fn_7)\n",
    "\n",
    "dnn7_elapsed_time = time() - dnn7_start_time\n",
    "print(\"Time elapsed: {:.3f}\".format(dnn7_elapsed_time))"
   ]
  },
  {
   "cell_type": "code",
   "execution_count": 33,
   "metadata": {},
   "outputs": [
    {
     "data": {
      "text/plain": [
       "{'accuracy': 1.0,\n",
       " 'average_loss': 0.00014137015,\n",
       " 'loss': 0.018047255,\n",
       " 'global_step': 21000}"
      ]
     },
     "execution_count": 33,
     "metadata": {},
     "output_type": "execute_result"
    }
   ],
   "source": [
    "# evaluate accuracy on training set\n",
    "train_input_fn_7 = tf.estimator.inputs.numpy_input_fn(x={\"X\": X_arr}, y=y_arr, shuffle=False)\n",
    "eval_results_train_7 = dnn_clf_7.evaluate(input_fn=train_input_fn_7)\n",
    "eval_results_train_7"
   ]
  },
  {
   "cell_type": "code",
   "execution_count": 34,
   "metadata": {},
   "outputs": [],
   "source": [
    "# predict digits on original test set\n",
    "test_input_fn_7 = tf.estimator.inputs.numpy_input_fn(x={\"X\": test_arr}, y=None, shuffle=False)\n",
    "raw_predictions_7 = dnn_clf_7.predict(input_fn=test_input_fn_7)\n",
    "predictions_7 = [p['class_ids'][0] for p in raw_predictions_7]"
   ]
  },
  {
   "cell_type": "code",
   "execution_count": 35,
   "metadata": {},
   "outputs": [],
   "source": [
    "# create dataframe with test digit predictions\n",
    "dnn_clf_7_predicted_digits = pd.DataFrame()\n",
    "dnn_clf_7_predicted_digits['ImageID'] = pd.Series(range(1,28001))\n",
    "dnn_clf_7_predicted_digits['Label'] = predictions_7"
   ]
  },
  {
   "cell_type": "code",
   "execution_count": 36,
   "metadata": {},
   "outputs": [
    {
     "data": {
      "text/html": [
       "<div>\n",
       "<style scoped>\n",
       "    .dataframe tbody tr th:only-of-type {\n",
       "        vertical-align: middle;\n",
       "    }\n",
       "\n",
       "    .dataframe tbody tr th {\n",
       "        vertical-align: top;\n",
       "    }\n",
       "\n",
       "    .dataframe thead th {\n",
       "        text-align: right;\n",
       "    }\n",
       "</style>\n",
       "<table border=\"1\" class=\"dataframe\">\n",
       "  <thead>\n",
       "    <tr style=\"text-align: right;\">\n",
       "      <th></th>\n",
       "      <th>ImageID</th>\n",
       "      <th>Label</th>\n",
       "    </tr>\n",
       "  </thead>\n",
       "  <tbody>\n",
       "    <tr>\n",
       "      <th>0</th>\n",
       "      <td>1</td>\n",
       "      <td>2</td>\n",
       "    </tr>\n",
       "    <tr>\n",
       "      <th>1</th>\n",
       "      <td>2</td>\n",
       "      <td>0</td>\n",
       "    </tr>\n",
       "    <tr>\n",
       "      <th>2</th>\n",
       "      <td>3</td>\n",
       "      <td>9</td>\n",
       "    </tr>\n",
       "    <tr>\n",
       "      <th>3</th>\n",
       "      <td>4</td>\n",
       "      <td>9</td>\n",
       "    </tr>\n",
       "    <tr>\n",
       "      <th>4</th>\n",
       "      <td>5</td>\n",
       "      <td>3</td>\n",
       "    </tr>\n",
       "  </tbody>\n",
       "</table>\n",
       "</div>"
      ],
      "text/plain": [
       "   ImageID  Label\n",
       "0        1      2\n",
       "1        2      0\n",
       "2        3      9\n",
       "3        4      9\n",
       "4        5      3"
      ]
     },
     "execution_count": 36,
     "metadata": {},
     "output_type": "execute_result"
    }
   ],
   "source": [
    "dnn_clf_7_predicted_digits.head()"
   ]
  },
  {
   "cell_type": "code",
   "execution_count": 37,
   "metadata": {},
   "outputs": [],
   "source": [
    "# write to csv\n",
    "dnn_clf_7_predicted_digits.to_csv(\"MNIST_Submission_dnn_clf_10.csv\", encoding='utf-8', index=False)"
   ]
  },
  {
   "cell_type": "markdown",
   "metadata": {},
   "source": [
    "kaggle score <br>\n",
    "userid: 2682007 <br>\n",
    "score: 0.97842 <br>"
   ]
  },
  {
   "cell_type": "markdown",
   "metadata": {},
   "source": [
    "### MinMax Scaled with 2 layers 100 nodes and 500 nodes"
   ]
  },
  {
   "cell_type": "code",
   "execution_count": 26,
   "metadata": {},
   "outputs": [
    {
     "name": "stdout",
     "output_type": "stream",
     "text": [
      "Time elapsed: 310.484\n"
     ]
    }
   ],
   "source": [
    "dnn8_start_time = time()\n",
    "\n",
    "feature_cols = [tf.feature_column.numeric_column(\"X\", shape=[28 * 28])]\n",
    "\n",
    "# 2 hidden layers each with 1000 neurons, softmax output layer with 10 neurons\n",
    "dnn_clf_8 = tf.estimator.DNNClassifier(hidden_units=[1000,500], n_classes=10, feature_columns=feature_cols)\n",
    "\n",
    "input_fn_8 = tf.estimator.inputs.numpy_input_fn(x={\"X\": X_arr2}, y=y_arr, num_epochs=50, batch_size=50, \n",
    "                                                 shuffle=True)\n",
    "dnn_clf_8.train(input_fn=input_fn_8)\n",
    "\n",
    "dnn8_elapsed_time = time() - dnn8_start_time\n",
    "print(\"Time elapsed: {:.3f}\".format(dnn8_elapsed_time))"
   ]
  },
  {
   "cell_type": "code",
   "execution_count": 27,
   "metadata": {},
   "outputs": [
    {
     "data": {
      "text/plain": [
       "{'accuracy': 1.0,\n",
       " 'average_loss': 7.7877354e-05,\n",
       " 'loss': 0.009941789,\n",
       " 'global_step': 42000}"
      ]
     },
     "execution_count": 27,
     "metadata": {},
     "output_type": "execute_result"
    }
   ],
   "source": [
    "# evaluate accuracy on training set\n",
    "train_input_fn_8 = tf.estimator.inputs.numpy_input_fn(x={\"X\": X_arr2}, y=y_arr, shuffle=False)\n",
    "eval_results_train_8 = dnn_clf_8.evaluate(input_fn=train_input_fn_8)\n",
    "eval_results_train_8"
   ]
  },
  {
   "cell_type": "code",
   "execution_count": 28,
   "metadata": {},
   "outputs": [],
   "source": [
    "# predict digits on original test set\n",
    "test_input_fn_8 = tf.estimator.inputs.numpy_input_fn(x={\"X\": test_arr2}, y=None, shuffle=False)\n",
    "raw_predictions_8 = dnn_clf_8.predict(input_fn=test_input_fn_8)\n",
    "predictions_8 = [p['class_ids'][0] for p in raw_predictions_8]"
   ]
  },
  {
   "cell_type": "code",
   "execution_count": 29,
   "metadata": {},
   "outputs": [],
   "source": [
    "# create dataframe with test digit predictions\n",
    "dnn_clf_8_predicted_digits = pd.DataFrame()\n",
    "dnn_clf_8_predicted_digits['ImageID'] = pd.Series(range(1,28001))\n",
    "dnn_clf_8_predicted_digits['Label'] = predictions_8"
   ]
  },
  {
   "cell_type": "code",
   "execution_count": 30,
   "metadata": {},
   "outputs": [
    {
     "data": {
      "text/html": [
       "<div>\n",
       "<style scoped>\n",
       "    .dataframe tbody tr th:only-of-type {\n",
       "        vertical-align: middle;\n",
       "    }\n",
       "\n",
       "    .dataframe tbody tr th {\n",
       "        vertical-align: top;\n",
       "    }\n",
       "\n",
       "    .dataframe thead th {\n",
       "        text-align: right;\n",
       "    }\n",
       "</style>\n",
       "<table border=\"1\" class=\"dataframe\">\n",
       "  <thead>\n",
       "    <tr style=\"text-align: right;\">\n",
       "      <th></th>\n",
       "      <th>ImageID</th>\n",
       "      <th>Label</th>\n",
       "    </tr>\n",
       "  </thead>\n",
       "  <tbody>\n",
       "    <tr>\n",
       "      <th>0</th>\n",
       "      <td>1</td>\n",
       "      <td>2</td>\n",
       "    </tr>\n",
       "    <tr>\n",
       "      <th>1</th>\n",
       "      <td>2</td>\n",
       "      <td>0</td>\n",
       "    </tr>\n",
       "    <tr>\n",
       "      <th>2</th>\n",
       "      <td>3</td>\n",
       "      <td>9</td>\n",
       "    </tr>\n",
       "    <tr>\n",
       "      <th>3</th>\n",
       "      <td>4</td>\n",
       "      <td>9</td>\n",
       "    </tr>\n",
       "    <tr>\n",
       "      <th>4</th>\n",
       "      <td>5</td>\n",
       "      <td>3</td>\n",
       "    </tr>\n",
       "  </tbody>\n",
       "</table>\n",
       "</div>"
      ],
      "text/plain": [
       "   ImageID  Label\n",
       "0        1      2\n",
       "1        2      0\n",
       "2        3      9\n",
       "3        4      9\n",
       "4        5      3"
      ]
     },
     "execution_count": 30,
     "metadata": {},
     "output_type": "execute_result"
    }
   ],
   "source": [
    "dnn_clf_8_predicted_digits.head()"
   ]
  },
  {
   "cell_type": "code",
   "execution_count": 31,
   "metadata": {},
   "outputs": [],
   "source": [
    "# write to csv\n",
    "dnn_clf_8_predicted_digits.to_csv(\"MNIST_Submission_dnn_clf_9.csv\", encoding='utf-8', index=False)"
   ]
  },
  {
   "cell_type": "markdown",
   "metadata": {},
   "source": [
    "Score was 0.9751 - standardscaling did the best"
   ]
  },
  {
   "cell_type": "markdown",
   "metadata": {},
   "source": [
    "# conclusion"
   ]
  },
  {
   "cell_type": "markdown",
   "metadata": {},
   "source": [
    "The best overall neural net was the 2 layer and 1000 node in layer 1 and 500 in layer 2. This had the highest accuracy score, but also took the longest to run. However, because the time to run was not extremely longer than any other I would take that tradeoff for higher accuracy."
   ]
  },
  {
   "cell_type": "code",
   "execution_count": null,
   "metadata": {},
   "outputs": [],
   "source": []
  }
 ],
 "metadata": {
  "kernelspec": {
   "display_name": "Python 3",
   "language": "python",
   "name": "python3"
  },
  "language_info": {
   "codemirror_mode": {
    "name": "ipython",
    "version": 3
   },
   "file_extension": ".py",
   "mimetype": "text/x-python",
   "name": "python",
   "nbconvert_exporter": "python",
   "pygments_lexer": "ipython3",
   "version": "3.6.6"
  }
 },
 "nbformat": 4,
 "nbformat_minor": 2
}
