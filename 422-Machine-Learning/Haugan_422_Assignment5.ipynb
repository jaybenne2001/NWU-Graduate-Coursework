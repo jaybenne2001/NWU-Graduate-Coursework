{
 "cells": [
  {
   "cell_type": "markdown",
   "metadata": {},
   "source": [
    "Michael Haugan <br>\n",
    "MSDS 422 - Winter 2019 <br>\n",
    "Assignment 5: Principal Components Analysis <br>"
   ]
  },
  {
   "cell_type": "markdown",
   "metadata": {},
   "source": [
    "# overview\n",
    "You will compete in the Kaggle.com Digit Recognizer competition which involves classical digit recognition from hand-written images. https://www.kaggle.com/c/digit-recognizer/ (Links to an external site.)Links to an external site.\n",
    "\n",
    "Read the competition rules, and download the MNIST training and test set data.This binary classification task is NOT what is required for the current assignment. In this assignment we are asking for a multiclass classifier. The entire MNIST data set will be used for input data. For this assignment, you will develop a classifier that may be used to predict which of the 10 digits is being written.  \n",
    "\n",
    "(1) Begin by fitting a random forest classifier using the full set of 784 explanatory variables and the model training set (train.csv). Record the time it takes to fit the model and then evaluate the model on the test.csv data by submitting to Kaggle.com. Provide your Kaggle.com score and user ID.\n",
    "\n",
    "(2) Execute principal components analysis (PCA) on the combined training and test set data together, generating principal components that represent 95 percent of the variability in the explanatory variables. The number of principal components in the solution should be substantially fewer than the 784 explanatory variables. Record the time it takes to identify the principal components.\n",
    "\n",
    "(3) Using the identified principal components from step (2), use the train.csv to build another random forest classifier. Record the time it takes to fit the model and to evaluate the model on the test.csv data by submitting to Kaggle.com. Provide your Kaggle.com score and user ID.\n",
    "\n",
    "(4) Submit both the RF Classifier and the PCA RF Classifier to Kaggle.com, and report both scores along with your user name.  I MUST have your user name to verify submission status.\n",
    "\n",
    "(5) The experiment we have proposed has a MAJOR design flaw. Identify the flaw. Fix it. Rerun the experiment in a way that is consistent with a training-and-test regimen, and submit this to Kaggle.com. Provide your Kaggle.com score and user ID."
   ]
  },
  {
   "cell_type": "markdown",
   "metadata": {},
   "source": [
    "# objective\n",
    "From a management perspective, the predictive accuracy of models must be weighed against the costs of model development and implementation. Suppose you were the manager of a data science team responsible for implementing models for computer vision (classification of images analogous to the MINST problem). Would you recommend using PCA as a preliminary to machine learning classification? Explain your thinking."
   ]
  },
  {
   "cell_type": "markdown",
   "metadata": {},
   "source": [
    "# setup"
   ]
  },
  {
   "cell_type": "code",
   "execution_count": 237,
   "metadata": {},
   "outputs": [],
   "source": [
    "# import packages and set parameters\n",
    "SET_FIT_INTERCEPT = True\n",
    "RANDOM_SEED = 1\n",
    "import numpy as np\n",
    "from scipy.stats import kurtosis\n",
    "from scipy.stats import skew\n",
    "import pandas as pd\n",
    "%matplotlib inline\n",
    "import matplotlib as mpl\n",
    "import matplotlib.pyplot as plt\n",
    "import seaborn as sns\n",
    "import sklearn.linear_model \n",
    "from time import time\n",
    "from sklearn.model_selection import train_test_split\n",
    "from sklearn.linear_model import LinearRegression, Ridge, Lasso, ElasticNet\n",
    "from sklearn.metrics import mean_squared_error, r2_score, make_scorer  \n",
    "from sklearn.model_selection import cross_val_score\n",
    "from sklearn.model_selection import cross_val_predict\n",
    "from sklearn.model_selection import GridSearchCV\n",
    "from sklearn.decomposition import PCA\n",
    "from math import sqrt  # for root mean-squared error calculation\n",
    "# suppress warning messages\n",
    "def warn(*args, **kwargs):\n",
    "    pass\n",
    "import warnings\n",
    "warnings.warn = warn\n",
    "import warnings\n",
    "warnings.filterwarnings('ignore')"
   ]
  },
  {
   "cell_type": "markdown",
   "metadata": {},
   "source": [
    "# eda"
   ]
  },
  {
   "cell_type": "code",
   "execution_count": 238,
   "metadata": {},
   "outputs": [],
   "source": [
    "# read in train and test data\n",
    "train = pd.read_csv('MNIST_train.csv')\n",
    "test = pd.read_csv(\"MNIST_test.csv\")"
   ]
  },
  {
   "cell_type": "code",
   "execution_count": 239,
   "metadata": {},
   "outputs": [
    {
     "data": {
      "text/html": [
       "<div>\n",
       "<style scoped>\n",
       "    .dataframe tbody tr th:only-of-type {\n",
       "        vertical-align: middle;\n",
       "    }\n",
       "\n",
       "    .dataframe tbody tr th {\n",
       "        vertical-align: top;\n",
       "    }\n",
       "\n",
       "    .dataframe thead th {\n",
       "        text-align: right;\n",
       "    }\n",
       "</style>\n",
       "<table border=\"1\" class=\"dataframe\">\n",
       "  <thead>\n",
       "    <tr style=\"text-align: right;\">\n",
       "      <th></th>\n",
       "      <th>label</th>\n",
       "      <th>pixel0</th>\n",
       "      <th>pixel1</th>\n",
       "      <th>pixel2</th>\n",
       "      <th>pixel3</th>\n",
       "      <th>pixel4</th>\n",
       "      <th>pixel5</th>\n",
       "      <th>pixel6</th>\n",
       "      <th>pixel7</th>\n",
       "      <th>pixel8</th>\n",
       "      <th>...</th>\n",
       "      <th>pixel774</th>\n",
       "      <th>pixel775</th>\n",
       "      <th>pixel776</th>\n",
       "      <th>pixel777</th>\n",
       "      <th>pixel778</th>\n",
       "      <th>pixel779</th>\n",
       "      <th>pixel780</th>\n",
       "      <th>pixel781</th>\n",
       "      <th>pixel782</th>\n",
       "      <th>pixel783</th>\n",
       "    </tr>\n",
       "  </thead>\n",
       "  <tbody>\n",
       "    <tr>\n",
       "      <th>0</th>\n",
       "      <td>1</td>\n",
       "      <td>0</td>\n",
       "      <td>0</td>\n",
       "      <td>0</td>\n",
       "      <td>0</td>\n",
       "      <td>0</td>\n",
       "      <td>0</td>\n",
       "      <td>0</td>\n",
       "      <td>0</td>\n",
       "      <td>0</td>\n",
       "      <td>...</td>\n",
       "      <td>0</td>\n",
       "      <td>0</td>\n",
       "      <td>0</td>\n",
       "      <td>0</td>\n",
       "      <td>0</td>\n",
       "      <td>0</td>\n",
       "      <td>0</td>\n",
       "      <td>0</td>\n",
       "      <td>0</td>\n",
       "      <td>0</td>\n",
       "    </tr>\n",
       "    <tr>\n",
       "      <th>1</th>\n",
       "      <td>0</td>\n",
       "      <td>0</td>\n",
       "      <td>0</td>\n",
       "      <td>0</td>\n",
       "      <td>0</td>\n",
       "      <td>0</td>\n",
       "      <td>0</td>\n",
       "      <td>0</td>\n",
       "      <td>0</td>\n",
       "      <td>0</td>\n",
       "      <td>...</td>\n",
       "      <td>0</td>\n",
       "      <td>0</td>\n",
       "      <td>0</td>\n",
       "      <td>0</td>\n",
       "      <td>0</td>\n",
       "      <td>0</td>\n",
       "      <td>0</td>\n",
       "      <td>0</td>\n",
       "      <td>0</td>\n",
       "      <td>0</td>\n",
       "    </tr>\n",
       "    <tr>\n",
       "      <th>2</th>\n",
       "      <td>1</td>\n",
       "      <td>0</td>\n",
       "      <td>0</td>\n",
       "      <td>0</td>\n",
       "      <td>0</td>\n",
       "      <td>0</td>\n",
       "      <td>0</td>\n",
       "      <td>0</td>\n",
       "      <td>0</td>\n",
       "      <td>0</td>\n",
       "      <td>...</td>\n",
       "      <td>0</td>\n",
       "      <td>0</td>\n",
       "      <td>0</td>\n",
       "      <td>0</td>\n",
       "      <td>0</td>\n",
       "      <td>0</td>\n",
       "      <td>0</td>\n",
       "      <td>0</td>\n",
       "      <td>0</td>\n",
       "      <td>0</td>\n",
       "    </tr>\n",
       "    <tr>\n",
       "      <th>3</th>\n",
       "      <td>4</td>\n",
       "      <td>0</td>\n",
       "      <td>0</td>\n",
       "      <td>0</td>\n",
       "      <td>0</td>\n",
       "      <td>0</td>\n",
       "      <td>0</td>\n",
       "      <td>0</td>\n",
       "      <td>0</td>\n",
       "      <td>0</td>\n",
       "      <td>...</td>\n",
       "      <td>0</td>\n",
       "      <td>0</td>\n",
       "      <td>0</td>\n",
       "      <td>0</td>\n",
       "      <td>0</td>\n",
       "      <td>0</td>\n",
       "      <td>0</td>\n",
       "      <td>0</td>\n",
       "      <td>0</td>\n",
       "      <td>0</td>\n",
       "    </tr>\n",
       "    <tr>\n",
       "      <th>4</th>\n",
       "      <td>0</td>\n",
       "      <td>0</td>\n",
       "      <td>0</td>\n",
       "      <td>0</td>\n",
       "      <td>0</td>\n",
       "      <td>0</td>\n",
       "      <td>0</td>\n",
       "      <td>0</td>\n",
       "      <td>0</td>\n",
       "      <td>0</td>\n",
       "      <td>...</td>\n",
       "      <td>0</td>\n",
       "      <td>0</td>\n",
       "      <td>0</td>\n",
       "      <td>0</td>\n",
       "      <td>0</td>\n",
       "      <td>0</td>\n",
       "      <td>0</td>\n",
       "      <td>0</td>\n",
       "      <td>0</td>\n",
       "      <td>0</td>\n",
       "    </tr>\n",
       "  </tbody>\n",
       "</table>\n",
       "<p>5 rows × 785 columns</p>\n",
       "</div>"
      ],
      "text/plain": [
       "   label  pixel0  pixel1  pixel2  pixel3  pixel4  pixel5  pixel6  pixel7  \\\n",
       "0      1       0       0       0       0       0       0       0       0   \n",
       "1      0       0       0       0       0       0       0       0       0   \n",
       "2      1       0       0       0       0       0       0       0       0   \n",
       "3      4       0       0       0       0       0       0       0       0   \n",
       "4      0       0       0       0       0       0       0       0       0   \n",
       "\n",
       "   pixel8    ...     pixel774  pixel775  pixel776  pixel777  pixel778  \\\n",
       "0       0    ...            0         0         0         0         0   \n",
       "1       0    ...            0         0         0         0         0   \n",
       "2       0    ...            0         0         0         0         0   \n",
       "3       0    ...            0         0         0         0         0   \n",
       "4       0    ...            0         0         0         0         0   \n",
       "\n",
       "   pixel779  pixel780  pixel781  pixel782  pixel783  \n",
       "0         0         0         0         0         0  \n",
       "1         0         0         0         0         0  \n",
       "2         0         0         0         0         0  \n",
       "3         0         0         0         0         0  \n",
       "4         0         0         0         0         0  \n",
       "\n",
       "[5 rows x 785 columns]"
      ]
     },
     "execution_count": 239,
     "metadata": {},
     "output_type": "execute_result"
    }
   ],
   "source": [
    "# view train head\n",
    "train.head()"
   ]
  },
  {
   "cell_type": "code",
   "execution_count": 240,
   "metadata": {},
   "outputs": [
    {
     "name": "stdout",
     "output_type": "stream",
     "text": [
      "<class 'pandas.core.frame.DataFrame'>\n",
      "RangeIndex: 42000 entries, 0 to 41999\n",
      "Columns: 785 entries, label to pixel783\n",
      "dtypes: int64(785)\n",
      "memory usage: 251.5 MB\n"
     ]
    }
   ],
   "source": [
    "# view data types, variables, and sample size for each\n",
    "train.info()"
   ]
  },
  {
   "cell_type": "code",
   "execution_count": 241,
   "metadata": {},
   "outputs": [
    {
     "data": {
      "text/plain": [
       "1    4684\n",
       "7    4401\n",
       "3    4351\n",
       "9    4188\n",
       "2    4177\n",
       "6    4137\n",
       "0    4132\n",
       "4    4072\n",
       "8    4063\n",
       "5    3795\n",
       "Name: label, dtype: int64"
      ]
     },
     "execution_count": 241,
     "metadata": {},
     "output_type": "execute_result"
    }
   ],
   "source": [
    "# how many of each digit?\n",
    "train['label'].value_counts()"
   ]
  },
  {
   "cell_type": "code",
   "execution_count": 267,
   "metadata": {},
   "outputs": [],
   "source": [
    "# create x and y variables\n",
    "X = train.drop(columns=['label'])\n",
    "y = pd.DataFrame(train['label'])"
   ]
  },
  {
   "cell_type": "code",
   "execution_count": 243,
   "metadata": {},
   "outputs": [
    {
     "data": {
      "image/png": "[encoded data removed]",
      "text/plain": [
       "<Figure size 432x288 with 1 Axes>"
      ]
     },
     "metadata": {
      "needs_background": "light"
     },
     "output_type": "display_data"
    }
   ],
   "source": [
    "# view one digit\n",
    "Xarray = X.values\n",
    "some_digit = Xarray[872]\n",
    "some_digit_image = some_digit.reshape(28, 28)\n",
    "plt.imshow(some_digit_image, cmap = mpl.cm.binary,\n",
    "           interpolation=\"nearest\")\n",
    "plt.axis(\"off\")\n",
    "plt.show()"
   ]
  },
  {
   "cell_type": "markdown",
   "metadata": {},
   "source": [
    "# model building"
   ]
  },
  {
   "cell_type": "markdown",
   "metadata": {},
   "source": [
    "### 1) random forest classifier"
   ]
  },
  {
   "cell_type": "code",
   "execution_count": 214,
   "metadata": {},
   "outputs": [],
   "source": [
    "rfc_param_grid = { \n",
    "    'max_depth' : [5,10,20],\n",
    "    'min_samples_split': [2,5,10],\n",
    "    'min_samples_leaf': [1,3,7]\n",
    "}"
   ]
  },
  {
   "cell_type": "code",
   "execution_count": 215,
   "metadata": {},
   "outputs": [
    {
     "data": {
      "text/plain": [
       "GridSearchCV(cv=10, error_score='raise-deprecating',\n",
       "       estimator=RandomForestClassifier(bootstrap=True, class_weight=None, criterion='gini',\n",
       "            max_depth=None, max_features='sqrt', max_leaf_nodes=None,\n",
       "            min_impurity_decrease=0.0, min_impurity_split=None,\n",
       "            min_samples_leaf=1, min_samples_split=2,\n",
       "            min_weight_fraction_leaf=0.0, n_estimators=10, n_jobs=-1,\n",
       "            oob_score=False, random_state=23, verbose=0, warm_start=False),\n",
       "       fit_params=None, iid='warn', n_jobs=None,\n",
       "       param_grid={'max_depth': [5, 10, 20], 'min_samples_split': [2, 5, 10], 'min_samples_leaf': [1, 3, 7]},\n",
       "       pre_dispatch='2*n_jobs', refit=True, return_train_score='warn',\n",
       "       scoring=None, verbose=0)"
      ]
     },
     "execution_count": 215,
     "metadata": {},
     "output_type": "execute_result"
    }
   ],
   "source": [
    "# run GridSearchSV\n",
    "rfc = RandomForestClassifier(max_features='sqrt', bootstrap=True, n_estimators=10, random_state=23, n_jobs=-1)\n",
    "CV_rfc = GridSearchCV(estimator=rfc, param_grid=rfc_param_grid, cv=5)\n",
    "CV_rfc.fit(X, y)"
   ]
  },
  {
   "cell_type": "code",
   "execution_count": 216,
   "metadata": {},
   "outputs": [
    {
     "data": {
      "text/plain": [
       "{'max_depth': 20, 'min_samples_leaf': 1, 'min_samples_split': 5}"
      ]
     },
     "execution_count": 216,
     "metadata": {},
     "output_type": "execute_result"
    }
   ],
   "source": [
    "# find best params\n",
    "CV_rfc.best_params_"
   ]
  },
  {
   "cell_type": "code",
   "execution_count": 217,
   "metadata": {},
   "outputs": [
    {
     "name": "stdout",
     "output_type": "stream",
     "text": [
      "Time elapsed: 40.051\n"
     ]
    },
    {
     "data": {
      "text/plain": [
       "array([0.96766524, 0.96527117, 0.96596859, 0.96453225, 0.965     ,\n",
       "       0.96070493, 0.96522982, 0.96902549, 0.96949476, 0.96663489])"
      ]
     },
     "execution_count": 217,
     "metadata": {},
     "output_type": "execute_result"
    }
   ],
   "source": [
    "# run rf classifier with optimized params\n",
    "from sklearn.ensemble import RandomForestClassifier\n",
    "rfc = RandomForestClassifier(max_features='sqrt', bootstrap=True, max_depth=20, min_samples_leaf=1,\n",
    "                        min_samples_split=5, n_estimators=500, random_state=23, n_jobs=-1)\n",
    "\n",
    "# fit model and record time elapsed\n",
    "rf_start_time = time()\n",
    "rfc.fit(X, y)\n",
    "rf_elapsed_time = time() - rf_start_time\n",
    "print(\"Time elapsed: {:.3f}\".format(rf_elapsed_time))\n",
    "\n",
    "# run 5 fold cv\n",
    "cv_rfc = cross_val_score(rfc, X, y, cv=5, scoring=\"accuracy\")\n",
    "cv_rfc"
   ]
  },
  {
   "cell_type": "code",
   "execution_count": 218,
   "metadata": {},
   "outputs": [],
   "source": [
    "# predict y's from training set\n",
    "y_train_pred_rf = cross_val_predict(rfc, X, y, cv=5)"
   ]
  },
  {
   "cell_type": "code",
   "execution_count": 219,
   "metadata": {},
   "outputs": [
    {
     "data": {
      "text/plain": [
       "array([[4070,    0,    4,    2,    5,    6,   17,    1,   25,    2],\n",
       "       [   0, 4610,   24,   13,    7,    3,    8,    8,    7,    4],\n",
       "       [  14,   10, 4035,   26,   17,    2,   11,   34,   23,    5],\n",
       "       [   7,    6,   59, 4127,    2,   46,    9,   28,   42,   25],\n",
       "       [   5,    6,    6,    0, 3953,    0,   19,    5,   10,   68],\n",
       "       [  14,    6,    6,   50,    4, 3643,   28,    3,   21,   20],\n",
       "       [  18,    6,    2,    0,    9,   24, 4064,    0,   14,    0],\n",
       "       [   3,   19,   48,    6,   19,    1,    0, 4234,    9,   62],\n",
       "       [   7,   22,   20,   38,   17,   24,   13,    3, 3875,   44],\n",
       "       [  21,   11,    8,   56,   53,    9,    2,   39,   30, 3959]])"
      ]
     },
     "execution_count": 219,
     "metadata": {},
     "output_type": "execute_result"
    }
   ],
   "source": [
    "# create confusion matrix\n",
    "from sklearn.metrics import confusion_matrix\n",
    "confusion_matrix(y, y_train_pred_rf)"
   ]
  },
  {
   "cell_type": "code",
   "execution_count": 220,
   "metadata": {},
   "outputs": [
    {
     "data": {
      "text/plain": [
       "0.9657792654065614"
      ]
     },
     "execution_count": 220,
     "metadata": {},
     "output_type": "execute_result"
    }
   ],
   "source": [
    "# compute f1 score\n",
    "from sklearn.metrics import f1_score\n",
    "f1_score(y, y_train_pred_rf, average=\"macro\")"
   ]
  },
  {
   "cell_type": "code",
   "execution_count": 221,
   "metadata": {},
   "outputs": [],
   "source": [
    "# run model on test data\n",
    "y_test_pred_rf = rfc.predict(test)"
   ]
  },
  {
   "cell_type": "code",
   "execution_count": 222,
   "metadata": {},
   "outputs": [],
   "source": [
    "# create dataframe with test digit predictions\n",
    "rf_predicted_digits = pd.DataFrame()\n",
    "rf_predicted_digits['ImageID'] = pd.Series(range(1,28001))\n",
    "rf_predicted_digits['Label'] = rfc.predict(test)"
   ]
  },
  {
   "cell_type": "code",
   "execution_count": 223,
   "metadata": {},
   "outputs": [
    {
     "data": {
      "text/html": [
       "<div>\n",
       "<style scoped>\n",
       "    .dataframe tbody tr th:only-of-type {\n",
       "        vertical-align: middle;\n",
       "    }\n",
       "\n",
       "    .dataframe tbody tr th {\n",
       "        vertical-align: top;\n",
       "    }\n",
       "\n",
       "    .dataframe thead th {\n",
       "        text-align: right;\n",
       "    }\n",
       "</style>\n",
       "<table border=\"1\" class=\"dataframe\">\n",
       "  <thead>\n",
       "    <tr style=\"text-align: right;\">\n",
       "      <th></th>\n",
       "      <th>ImageID</th>\n",
       "      <th>Label</th>\n",
       "    </tr>\n",
       "  </thead>\n",
       "  <tbody>\n",
       "    <tr>\n",
       "      <th>0</th>\n",
       "      <td>1</td>\n",
       "      <td>2</td>\n",
       "    </tr>\n",
       "    <tr>\n",
       "      <th>1</th>\n",
       "      <td>2</td>\n",
       "      <td>0</td>\n",
       "    </tr>\n",
       "    <tr>\n",
       "      <th>2</th>\n",
       "      <td>3</td>\n",
       "      <td>9</td>\n",
       "    </tr>\n",
       "    <tr>\n",
       "      <th>3</th>\n",
       "      <td>4</td>\n",
       "      <td>9</td>\n",
       "    </tr>\n",
       "    <tr>\n",
       "      <th>4</th>\n",
       "      <td>5</td>\n",
       "      <td>3</td>\n",
       "    </tr>\n",
       "  </tbody>\n",
       "</table>\n",
       "</div>"
      ],
      "text/plain": [
       "   ImageID  Label\n",
       "0        1      2\n",
       "1        2      0\n",
       "2        3      9\n",
       "3        4      9\n",
       "4        5      3"
      ]
     },
     "execution_count": 223,
     "metadata": {},
     "output_type": "execute_result"
    }
   ],
   "source": [
    "# view head\n",
    "rf_predicted_digits.head()"
   ]
  },
  {
   "cell_type": "code",
   "execution_count": 224,
   "metadata": {},
   "outputs": [],
   "source": [
    "# write to csv\n",
    "rf_predicted_digits.to_csv(\"MNIST_Submission_rf2.csv\", encoding='utf-8', index=False)"
   ]
  },
  {
   "cell_type": "code",
   "execution_count": 225,
   "metadata": {},
   "outputs": [],
   "source": [
    "# kaggle score\n",
    "# userid: michaelhaugan\n",
    "# score: 0.96585"
   ]
  },
  {
   "cell_type": "markdown",
   "metadata": {},
   "source": [
    "### 2) PCA"
   ]
  },
  {
   "cell_type": "code",
   "execution_count": 226,
   "metadata": {},
   "outputs": [
    {
     "data": {
      "text/plain": [
       "(70000, 785)"
      ]
     },
     "execution_count": 226,
     "metadata": {},
     "output_type": "execute_result"
    }
   ],
   "source": [
    "# combine training and test set\n",
    "combinedDf = pd.concat([train, test])\n",
    "combinedDf.shape"
   ]
  },
  {
   "cell_type": "code",
   "execution_count": 276,
   "metadata": {},
   "outputs": [],
   "source": [
    "# create x and y variables\n",
    "X_pca = combinedDf.drop(columns=['label'])\n",
    "y_pca = pd.DataFrame(combinedDf['label'])"
   ]
  },
  {
   "cell_type": "code",
   "execution_count": 280,
   "metadata": {},
   "outputs": [
    {
     "name": "stdout",
     "output_type": "stream",
     "text": [
      "Time elapsed: 6.546\n",
      "Number of principal components: 154\n"
     ]
    }
   ],
   "source": [
    "# run PCA\n",
    "PCA_start_time = time()\n",
    "\n",
    "pca = PCA(n_components=0.95, random_state=23)\n",
    "pca.fit(X_pca)\n",
    "\n",
    "PCA_elapsed_time = time() - PCA_start_time\n",
    "print(\"Time elapsed: {:.3f}\".format(PCA_elapsed_time))\n",
    "print(\"Number of principal components:\", pca.n_components_)"
   ]
  },
  {
   "cell_type": "markdown",
   "metadata": {},
   "source": [
    "### 3) PCA with random forest classifier"
   ]
  },
  {
   "cell_type": "code",
   "execution_count": 281,
   "metadata": {},
   "outputs": [],
   "source": [
    "# run PCA on train and test with 154 components\n",
    "X_train_reduced = pca.transform(X)\n",
    "X_test_reduced = pca.transform(test)"
   ]
  },
  {
   "cell_type": "code",
   "execution_count": 282,
   "metadata": {},
   "outputs": [],
   "source": [
    "# set up gridsearch params\n",
    "rfc_pca_param_grid = { \n",
    "    'max_depth' : [5,10,20],\n",
    "    'min_samples_split': [2,5,10],\n",
    "    'min_samples_leaf': [1,3,7]\n",
    "}"
   ]
  },
  {
   "cell_type": "code",
   "execution_count": 283,
   "metadata": {},
   "outputs": [],
   "source": [
    "# run GridSearchSV\n",
    "start_time = time()\n",
    "\n",
    "rfc_pca = RandomForestClassifier(max_features='sqrt', bootstrap=True, n_estimators=10, random_state=23, n_jobs=-1)\n",
    "CV_rfc_pca = GridSearchCV(estimator=rfc_pca, param_grid=rfc_pca_param_grid, cv=5)\n",
    "CV_rfc_pca.fit(X_train_reduced, y)\n",
    "\n",
    "elapsed_time = time() - start_time"
   ]
  },
  {
   "cell_type": "code",
   "execution_count": 284,
   "metadata": {},
   "outputs": [
    {
     "data": {
      "text/plain": [
       "{'max_depth': 20, 'min_samples_leaf': 3, 'min_samples_split': 10}"
      ]
     },
     "execution_count": 284,
     "metadata": {},
     "output_type": "execute_result"
    }
   ],
   "source": [
    "# find best params\n",
    "CV_rfc_pca.best_params_"
   ]
  },
  {
   "cell_type": "code",
   "execution_count": 285,
   "metadata": {},
   "outputs": [
    {
     "name": "stdout",
     "output_type": "stream",
     "text": [
      "Time elapsed: 93.000\n"
     ]
    }
   ],
   "source": [
    "# run rf classifier with PCA and optimized params\n",
    "rfc_pca = RandomForestClassifier(max_features='sqrt', bootstrap=True, max_depth=20, min_samples_leaf=3,\n",
    "                        min_samples_split=10, n_estimators=500, random_state=23, n_jobs=-1)\n",
    "\n",
    "# fit model and record time elapsed\n",
    "rf_pca_start_time = time()\n",
    "rfc_pca.fit(X_train_reduced, y)\n",
    "rf_pca_elapsed_time = time() - rf_pca_start_time\n",
    "print(\"Time elapsed: {:.3f}\".format(rf_pca_elapsed_time))\n",
    "\n",
    "# run 5 fold cv\n",
    "cv_rfc_pca = cross_val_score(rfc_pca, X_train_reduced, y, cv=5, scoring=\"accuracy\")\n",
    "cv_rfc_pca"
   ]
  },
  {
   "cell_type": "code",
   "execution_count": 286,
   "metadata": {},
   "outputs": [],
   "source": [
    "# predict y's from training set\n",
    "y_train_pred_rf_pca = cross_val_predict(rfc_pca, X_train_reduced, y, cv=5)"
   ]
  },
  {
   "cell_type": "code",
   "execution_count": 287,
   "metadata": {},
   "outputs": [
    {
     "data": {
      "text/plain": [
       "array([[4026,    2,    5,    4,    8,    8,   36,    3,   38,    2],\n",
       "       [   0, 4533,   39,    3,    9,    8,    9,    8,   65,   10],\n",
       "       [  22,   16, 3906,   35,   57,    4,   31,   61,   34,   11],\n",
       "       [  18,   13,  106, 3831,    8,  121,    7,   61,  136,   50],\n",
       "       [   6,    9,   14,    0, 3825,    4,   52,   12,   12,  138],\n",
       "       [  13,    6,   12,  223,   35, 3330,   48,    7,   87,   34],\n",
       "       [  28,   11,    7,    0,   20,   29, 4015,   10,   17,    0],\n",
       "       [   5,   18,   45,    3,   58,    3,    1, 4135,   22,  111],\n",
       "       [  14,   70,   54,  153,   30,  113,   33,   22, 3505,   69],\n",
       "       [  21,   11,    6,   65,  159,   14,   12,   81,   52, 3767]])"
      ]
     },
     "execution_count": 287,
     "metadata": {},
     "output_type": "execute_result"
    }
   ],
   "source": [
    "# create confusion matrix\n",
    "confusion_matrix(y, y_train_pred_rf_pca)"
   ]
  },
  {
   "cell_type": "code",
   "execution_count": 288,
   "metadata": {},
   "outputs": [
    {
     "data": {
      "text/plain": [
       "0.924627270284238"
      ]
     },
     "execution_count": 288,
     "metadata": {},
     "output_type": "execute_result"
    }
   ],
   "source": [
    "# compute f1 score\n",
    "f1_score(y, y_train_pred_rf_pca, average=\"macro\")"
   ]
  },
  {
   "cell_type": "code",
   "execution_count": 289,
   "metadata": {},
   "outputs": [],
   "source": [
    "# run rf pca model on test data\n",
    "y_test_pred_rf_pca = rfc_pca.predict(X_test_reduced)"
   ]
  },
  {
   "cell_type": "code",
   "execution_count": 290,
   "metadata": {},
   "outputs": [],
   "source": [
    "# create dataframe with test digit predictions\n",
    "rf_pca_predicted_digits = pd.DataFrame()\n",
    "rf_pca_predicted_digits['ImageID'] = pd.Series(range(1,28001))\n",
    "rf_pca_predicted_digits['Label'] = y_test_pred_rf_pca"
   ]
  },
  {
   "cell_type": "code",
   "execution_count": 291,
   "metadata": {},
   "outputs": [
    {
     "data": {
      "text/html": [
       "<div>\n",
       "<style scoped>\n",
       "    .dataframe tbody tr th:only-of-type {\n",
       "        vertical-align: middle;\n",
       "    }\n",
       "\n",
       "    .dataframe tbody tr th {\n",
       "        vertical-align: top;\n",
       "    }\n",
       "\n",
       "    .dataframe thead th {\n",
       "        text-align: right;\n",
       "    }\n",
       "</style>\n",
       "<table border=\"1\" class=\"dataframe\">\n",
       "  <thead>\n",
       "    <tr style=\"text-align: right;\">\n",
       "      <th></th>\n",
       "      <th>ImageID</th>\n",
       "      <th>Label</th>\n",
       "    </tr>\n",
       "  </thead>\n",
       "  <tbody>\n",
       "    <tr>\n",
       "      <th>0</th>\n",
       "      <td>1</td>\n",
       "      <td>2</td>\n",
       "    </tr>\n",
       "    <tr>\n",
       "      <th>1</th>\n",
       "      <td>2</td>\n",
       "      <td>0</td>\n",
       "    </tr>\n",
       "    <tr>\n",
       "      <th>2</th>\n",
       "      <td>3</td>\n",
       "      <td>9</td>\n",
       "    </tr>\n",
       "    <tr>\n",
       "      <th>3</th>\n",
       "      <td>4</td>\n",
       "      <td>7</td>\n",
       "    </tr>\n",
       "    <tr>\n",
       "      <th>4</th>\n",
       "      <td>5</td>\n",
       "      <td>3</td>\n",
       "    </tr>\n",
       "  </tbody>\n",
       "</table>\n",
       "</div>"
      ],
      "text/plain": [
       "   ImageID  Label\n",
       "0        1      2\n",
       "1        2      0\n",
       "2        3      9\n",
       "3        4      7\n",
       "4        5      3"
      ]
     },
     "execution_count": 291,
     "metadata": {},
     "output_type": "execute_result"
    }
   ],
   "source": [
    "# view head\n",
    "rf_pca_predicted_digits.head()"
   ]
  },
  {
   "cell_type": "code",
   "execution_count": 292,
   "metadata": {},
   "outputs": [],
   "source": [
    "# write to csv\n",
    "rf_pca_predicted_digits.to_csv(\"MNIST_Submission_rf_pca2.csv\", encoding='utf-8', index=False)"
   ]
  },
  {
   "cell_type": "code",
   "execution_count": 256,
   "metadata": {},
   "outputs": [],
   "source": [
    "# kaggle score\n",
    "# userid: michaelhaugan\n",
    "# score: 0.92114"
   ]
  },
  {
   "cell_type": "markdown",
   "metadata": {},
   "source": [
    "### 4) kaggle scores"
   ]
  },
  {
   "cell_type": "markdown",
   "metadata": {},
   "source": [
    "Rf classifer <br>\n",
    "Username: michaelhaugan <br>\n",
    "score: 0.96585 <br>"
   ]
  },
  {
   "cell_type": "markdown",
   "metadata": {},
   "source": [
    "Rf classifier with PCA <br>\n",
    "Username: michaelhaugan <br>\n",
    "score: 0.92114"
   ]
  },
  {
   "cell_type": "markdown",
   "metadata": {},
   "source": [
    "### 5) Design flaw - rerun with flaw fixed"
   ]
  },
  {
   "cell_type": "markdown",
   "metadata": {},
   "source": [
    "The design flaw in my mind is the fact that you had us run PCA after combining both the test and control datasets together. I think we should run PCA separately on each."
   ]
  },
  {
   "cell_type": "code",
   "execution_count": 293,
   "metadata": {},
   "outputs": [
    {
     "name": "stdout",
     "output_type": "stream",
     "text": [
      "Time elapsed: 4.007\n",
      "Number of principal components: 154\n"
     ]
    }
   ],
   "source": [
    "# fit PCA on training set\n",
    "PCA_start_time = time()\n",
    "\n",
    "pca2 = PCA(n_components=0.95)\n",
    "pca2.fit(X)\n",
    "\n",
    "PCA_elapsed_time = time() - PCA_start_time\n",
    "print(\"Time elapsed: {:.3f}\".format(PCA_elapsed_time))\n",
    "print(\"Number of principal components:\", pca2.n_components_)"
   ]
  },
  {
   "cell_type": "code",
   "execution_count": 294,
   "metadata": {},
   "outputs": [],
   "source": [
    "# transform PCA from above onto train and test\n",
    "X_train_reduced2 = pca2.transform(X)\n",
    "X_test_reduced2 = pca2.transform(test)"
   ]
  },
  {
   "cell_type": "code",
   "execution_count": 295,
   "metadata": {},
   "outputs": [],
   "source": [
    "# set up gridsearch params\n",
    "rfc_pca_param_grid2 = { \n",
    "    'max_depth' : [5,10,20],\n",
    "    'min_samples_split': [2,5,10],\n",
    "    'min_samples_leaf': [1,3,7]\n",
    "}"
   ]
  },
  {
   "cell_type": "code",
   "execution_count": 296,
   "metadata": {},
   "outputs": [],
   "source": [
    "# run GridSearchSV\n",
    "start_time = time()\n",
    "\n",
    "rfc_pca2 = RandomForestClassifier(max_features='sqrt', bootstrap=True, n_estimators=10, random_state=23, n_jobs=-1)\n",
    "CV_rfc_pca2 = GridSearchCV(estimator=rfc_pca2, param_grid=rfc_pca_param_grid2, cv=5)\n",
    "CV_rfc_pca2.fit(X_train_reduced2, y)\n",
    "\n",
    "elapsed_time = time() - start_time"
   ]
  },
  {
   "cell_type": "code",
   "execution_count": 297,
   "metadata": {},
   "outputs": [
    {
     "data": {
      "text/plain": [
       "{'max_depth': 20, 'min_samples_leaf': 3, 'min_samples_split': 10}"
      ]
     },
     "execution_count": 297,
     "metadata": {},
     "output_type": "execute_result"
    }
   ],
   "source": [
    "# find best params\n",
    "CV_rfc_pca2.best_params_"
   ]
  },
  {
   "cell_type": "code",
   "execution_count": 298,
   "metadata": {},
   "outputs": [
    {
     "name": "stdout",
     "output_type": "stream",
     "text": [
      "Time elapsed: 89.992\n"
     ]
    },
    {
     "data": {
      "text/plain": [
       "array([0.94039262, 0.94097346, 0.93618288, 0.93902584, 0.94652215])"
      ]
     },
     "execution_count": 298,
     "metadata": {},
     "output_type": "execute_result"
    }
   ],
   "source": [
    "# run rf classifier with PCA and optimized params\n",
    "rfc_pca2 = RandomForestClassifier(max_features='sqrt', bootstrap=True, max_depth=20, min_samples_leaf=3,\n",
    "                        min_samples_split=10, n_estimators=500, random_state=23, n_jobs=-1)\n",
    "\n",
    "# fit model and record time elapsed\n",
    "rf_pca_start_time = time()\n",
    "rfc_pca2.fit(X_train_reduced2, y)\n",
    "rf_pca_elapsed_time = time() - rf_pca_start_time\n",
    "print(\"Time elapsed: {:.3f}\".format(rf_pca_elapsed_time))\n",
    "\n",
    "# run 5 fold cv\n",
    "cv_rfc_pca2 = cross_val_score(rfc_pca2, X_train_reduced2, y, cv=5, scoring=\"accuracy\")\n",
    "cv_rfc_pca2"
   ]
  },
  {
   "cell_type": "code",
   "execution_count": 300,
   "metadata": {},
   "outputs": [],
   "source": [
    "# predict y's from training set\n",
    "y_train_pred_rf_pca2 = cross_val_predict(rfc_pca2, X_train_reduced2, y, cv=5)"
   ]
  },
  {
   "cell_type": "code",
   "execution_count": 301,
   "metadata": {},
   "outputs": [
    {
     "data": {
      "text/plain": [
       "array([[4026,    0,   12,   13,    5,    9,   39,    3,   23,    2],\n",
       "       [   0, 4579,   32,   20,    2,    8,   10,    7,   23,    3],\n",
       "       [  23,   13, 3886,   53,   45,    5,   13,   43,   88,    8],\n",
       "       [  11,    5,   67, 4019,    2,   71,   21,   39,   84,   32],\n",
       "       [   4,   19,   27,    4, 3841,    4,   29,   11,   27,  106],\n",
       "       [  24,    1,   13,  109,   29, 3512,   48,    4,   23,   32],\n",
       "       [  35,    4,   13,    1,   11,   46, 4022,    0,    5,    0],\n",
       "       [  12,   32,   57,    8,   34,    3,    3, 4152,   16,   84],\n",
       "       [  12,   28,   32,  136,   22,   88,   18,   16, 3658,   53],\n",
       "       [  25,    9,   16,   78,  108,   16,    4,   83,   38, 3811]])"
      ]
     },
     "execution_count": 301,
     "metadata": {},
     "output_type": "execute_result"
    }
   ],
   "source": [
    "# create confusion matrix\n",
    "confusion_matrix(y, y_train_pred_rf_pca2)"
   ]
  },
  {
   "cell_type": "code",
   "execution_count": 302,
   "metadata": {},
   "outputs": [
    {
     "data": {
      "text/plain": [
       "0.9400624824859884"
      ]
     },
     "execution_count": 302,
     "metadata": {},
     "output_type": "execute_result"
    }
   ],
   "source": [
    "# compute f1 score\n",
    "f1_score(y, y_train_pred_rf_pca2, average=\"macro\")"
   ]
  },
  {
   "cell_type": "code",
   "execution_count": 303,
   "metadata": {},
   "outputs": [],
   "source": [
    "# run rf pca model on test data\n",
    "y_test_pred_rf_pca2 = rfc_pca2.predict(X_test_reduced2)"
   ]
  },
  {
   "cell_type": "code",
   "execution_count": 304,
   "metadata": {},
   "outputs": [],
   "source": [
    "# create dataframe with test digit predictions\n",
    "rf_pca_predicted_digits2 = pd.DataFrame()\n",
    "rf_pca_predicted_digits2['ImageID'] = pd.Series(range(1,28001))\n",
    "rf_pca_predicted_digits2['Label'] = y_test_pred_rf_pca2"
   ]
  },
  {
   "cell_type": "code",
   "execution_count": 305,
   "metadata": {},
   "outputs": [
    {
     "data": {
      "text/html": [
       "<div>\n",
       "<style scoped>\n",
       "    .dataframe tbody tr th:only-of-type {\n",
       "        vertical-align: middle;\n",
       "    }\n",
       "\n",
       "    .dataframe tbody tr th {\n",
       "        vertical-align: top;\n",
       "    }\n",
       "\n",
       "    .dataframe thead th {\n",
       "        text-align: right;\n",
       "    }\n",
       "</style>\n",
       "<table border=\"1\" class=\"dataframe\">\n",
       "  <thead>\n",
       "    <tr style=\"text-align: right;\">\n",
       "      <th></th>\n",
       "      <th>ImageID</th>\n",
       "      <th>Label</th>\n",
       "    </tr>\n",
       "  </thead>\n",
       "  <tbody>\n",
       "    <tr>\n",
       "      <th>0</th>\n",
       "      <td>1</td>\n",
       "      <td>2</td>\n",
       "    </tr>\n",
       "    <tr>\n",
       "      <th>1</th>\n",
       "      <td>2</td>\n",
       "      <td>0</td>\n",
       "    </tr>\n",
       "    <tr>\n",
       "      <th>2</th>\n",
       "      <td>3</td>\n",
       "      <td>9</td>\n",
       "    </tr>\n",
       "    <tr>\n",
       "      <th>3</th>\n",
       "      <td>4</td>\n",
       "      <td>4</td>\n",
       "    </tr>\n",
       "    <tr>\n",
       "      <th>4</th>\n",
       "      <td>5</td>\n",
       "      <td>3</td>\n",
       "    </tr>\n",
       "  </tbody>\n",
       "</table>\n",
       "</div>"
      ],
      "text/plain": [
       "   ImageID  Label\n",
       "0        1      2\n",
       "1        2      0\n",
       "2        3      9\n",
       "3        4      4\n",
       "4        5      3"
      ]
     },
     "execution_count": 305,
     "metadata": {},
     "output_type": "execute_result"
    }
   ],
   "source": [
    "# view head\n",
    "rf_pca_predicted_digits2.head()"
   ]
  },
  {
   "cell_type": "code",
   "execution_count": 306,
   "metadata": {},
   "outputs": [],
   "source": [
    "# write to csv\n",
    "rf_pca_predicted_digits2.to_csv(\"MNIST_Submission_rf_pca3.csv\", encoding='utf-8', index=False)"
   ]
  },
  {
   "cell_type": "code",
   "execution_count": 307,
   "metadata": {},
   "outputs": [],
   "source": [
    "# kaggle score\n",
    "# userid: michaelhaugan\n",
    "# score: 0.94400"
   ]
  },
  {
   "cell_type": "code",
   "execution_count": null,
   "metadata": {},
   "outputs": [],
   "source": []
  }
 ],
 "metadata": {
  "kernelspec": {
   "display_name": "Python 3",
   "language": "python",
   "name": "python3"
  },
  "language_info": {
   "codemirror_mode": {
    "name": "ipython",
    "version": 3
   },
   "file_extension": ".py",
   "mimetype": "text/x-python",
   "name": "python",
   "nbconvert_exporter": "python",
   "pygments_lexer": "ipython3",
   "version": "3.6.6"
  }
 },
 "nbformat": 4,
 "nbformat_minor": 2
}
